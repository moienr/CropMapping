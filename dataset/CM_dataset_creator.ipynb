{
 "cells": [
  {
   "cell_type": "code",
   "execution_count": 1,
   "metadata": {},
   "outputs": [],
   "source": [
    "import ee\n",
    "import geemap\n",
    "import importlib"
   ]
  },
  {
   "cell_type": "code",
   "execution_count": 2,
   "metadata": {},
   "outputs": [],
   "source": [
    "Map = geemap.Map()"
   ]
  },
  {
   "cell_type": "code",
   "execution_count": 3,
   "metadata": {},
   "outputs": [],
   "source": [
    "ee.Initialize()"
   ]
  },
  {
   "cell_type": "code",
   "execution_count": 4,
   "metadata": {},
   "outputs": [],
   "source": [
    "import utils.ee_utils as ee_utils"
   ]
  },
  {
   "cell_type": "code",
   "execution_count": 5,
   "metadata": {},
   "outputs": [
    {
     "data": {
      "text/plain": [
       "<module 'utils.ee_utils' from 'd:\\\\python\\\\CropMapping\\\\dataset\\\\utils\\\\ee_utils.py'>"
      ]
     },
     "execution_count": 5,
     "metadata": {},
     "output_type": "execute_result"
    }
   ],
   "source": [
    "# Reload the module\n",
    "importlib.reload(ee_utils)"
   ]
  },
  {
   "cell_type": "code",
   "execution_count": 6,
   "metadata": {},
   "outputs": [],
   "source": [
    "\n",
    "# Define area of interest.\n",
    "roi = ee.Geometry.Polygon(\n",
    "                                [[[1.2897224677359675, 48.38400739957012],\n",
    "                                [1.2897224677359675, 47.93697958008443],\n",
    "                                [3.2068367255484675, 47.93697958008443],\n",
    "                                [3.2068367255484675, 48.38400739957012]]])\n",
    "\n",
    "# Call function with defined start and end dates and area of interest.\n",
    "cloudless_collection = ee_utils.create_collection(roi, '2019-05-01', '2019-06-30')\n",
    "\n",
    "# Define visualization parameters.\n",
    "visualization = {\n",
    "        'min': 0.0,\n",
    "        'max': 0.3,\n",
    "        'bands': ['B4', 'B3', 'B2'],\n",
    "}\n",
    "\n",
    "# Add layer to map.\n",
    "Map.addLayer(cloudless_collection.median().clip(roi), visualization, 'Cloudless Collection')\n",
    "Map.centerObject(roi, 10)"
   ]
  },
  {
   "cell_type": "code",
   "execution_count": 7,
   "metadata": {},
   "outputs": [],
   "source": [
    "s1_collection = ee.ImageCollection('COPERNICUS/S1_GRD') \\\n",
    "          .filterDate('2019-05-01', '2019-06-30') \\\n",
    "          .filterBounds(roi) \\\n",
    "          .filter(ee.Filter.eq('resolution','H')) \\\n",
    "          .filter(ee.Filter.eq('instrumentMode','IW'))\\\n",
    "          .filter(ee.Filter.contains('.geo', roi)) \\\n",
    "          .filterMetadata('orbitProperties_pass', 'equals', \"ASCENDING\") \n"
   ]
  },
  {
   "cell_type": "code",
   "execution_count": 8,
   "metadata": {},
   "outputs": [
    {
     "data": {
      "text/plain": [
       "5"
      ]
     },
     "execution_count": 8,
     "metadata": {},
     "output_type": "execute_result"
    }
   ],
   "source": [
    "s1_collection.size().getInfo()"
   ]
  },
  {
   "cell_type": "code",
   "execution_count": 9,
   "metadata": {},
   "outputs": [
    {
     "data": {
      "text/html": [
       "<style type=\"text/css\">\n",
       "#T_f55ec th {\n",
       "  text-align: left;\n",
       "}\n",
       "#T_f55ec_row0_col0, #T_f55ec_row0_col1, #T_f55ec_row0_col2, #T_f55ec_row0_col3, #T_f55ec_row0_col4, #T_f55ec_row0_col5, #T_f55ec_row1_col0, #T_f55ec_row1_col1, #T_f55ec_row1_col2, #T_f55ec_row1_col3, #T_f55ec_row1_col4, #T_f55ec_row1_col5, #T_f55ec_row2_col0, #T_f55ec_row2_col1, #T_f55ec_row2_col2, #T_f55ec_row2_col3, #T_f55ec_row2_col4, #T_f55ec_row2_col5, #T_f55ec_row3_col0, #T_f55ec_row3_col1, #T_f55ec_row3_col2, #T_f55ec_row3_col3, #T_f55ec_row3_col4, #T_f55ec_row3_col5, #T_f55ec_row4_col0, #T_f55ec_row4_col1, #T_f55ec_row4_col2, #T_f55ec_row4_col3, #T_f55ec_row4_col4, #T_f55ec_row4_col5, #T_f55ec_row5_col0, #T_f55ec_row5_col1, #T_f55ec_row5_col2, #T_f55ec_row5_col3, #T_f55ec_row5_col4, #T_f55ec_row5_col5, #T_f55ec_row6_col0, #T_f55ec_row6_col1, #T_f55ec_row6_col2, #T_f55ec_row6_col3, #T_f55ec_row6_col4, #T_f55ec_row6_col5, #T_f55ec_row7_col0, #T_f55ec_row7_col1, #T_f55ec_row7_col2, #T_f55ec_row7_col3, #T_f55ec_row7_col4, #T_f55ec_row7_col5, #T_f55ec_row8_col0, #T_f55ec_row8_col1, #T_f55ec_row8_col2, #T_f55ec_row8_col3, #T_f55ec_row8_col4, #T_f55ec_row8_col5, #T_f55ec_row9_col0, #T_f55ec_row9_col1, #T_f55ec_row9_col2, #T_f55ec_row9_col3, #T_f55ec_row9_col4, #T_f55ec_row9_col5, #T_f55ec_row10_col0, #T_f55ec_row10_col1, #T_f55ec_row10_col2, #T_f55ec_row10_col3, #T_f55ec_row10_col4, #T_f55ec_row10_col5, #T_f55ec_row11_col0, #T_f55ec_row11_col1, #T_f55ec_row11_col2, #T_f55ec_row11_col3, #T_f55ec_row11_col4, #T_f55ec_row11_col5, #T_f55ec_row12_col0, #T_f55ec_row12_col1, #T_f55ec_row12_col2, #T_f55ec_row12_col3, #T_f55ec_row12_col4, #T_f55ec_row12_col5, #T_f55ec_row13_col0, #T_f55ec_row13_col1, #T_f55ec_row13_col2, #T_f55ec_row13_col3, #T_f55ec_row13_col4, #T_f55ec_row13_col5 {\n",
       "  text-align: left;\n",
       "}\n",
       "</style>\n",
       "<table id=\"T_f55ec\">\n",
       "  <thead>\n",
       "    <tr>\n",
       "      <th class=\"blank level0\" >&nbsp;</th>\n",
       "      <th id=\"T_f55ec_level0_col0\" class=\"col_heading level0 col0\" >Property</th>\n",
       "      <th id=\"T_f55ec_level0_col1\" class=\"col_heading level0 col1\" >0</th>\n",
       "      <th id=\"T_f55ec_level0_col2\" class=\"col_heading level0 col2\" >1</th>\n",
       "      <th id=\"T_f55ec_level0_col3\" class=\"col_heading level0 col3\" >2</th>\n",
       "      <th id=\"T_f55ec_level0_col4\" class=\"col_heading level0 col4\" >3</th>\n",
       "      <th id=\"T_f55ec_level0_col5\" class=\"col_heading level0 col5\" >4</th>\n",
       "    </tr>\n",
       "  </thead>\n",
       "  <tbody>\n",
       "    <tr>\n",
       "      <th id=\"T_f55ec_level0_row0\" class=\"row_heading level0 row0\" >0</th>\n",
       "      <td id=\"T_f55ec_row0_col0\" class=\"data row0 col0\" >system:time_start</td>\n",
       "      <td id=\"T_f55ec_row0_col1\" class=\"data row0 col1\" >2019-05-04</td>\n",
       "      <td id=\"T_f55ec_row0_col2\" class=\"data row0 col2\" >2019-05-16</td>\n",
       "      <td id=\"T_f55ec_row0_col3\" class=\"data row0 col3\" >2019-05-28</td>\n",
       "      <td id=\"T_f55ec_row0_col4\" class=\"data row0 col4\" >2019-06-09</td>\n",
       "      <td id=\"T_f55ec_row0_col5\" class=\"data row0 col5\" >2019-06-21</td>\n",
       "    </tr>\n",
       "    <tr>\n",
       "      <th id=\"T_f55ec_level0_row1\" class=\"row_heading level0 row1\" >1</th>\n",
       "      <td id=\"T_f55ec_row1_col0\" class=\"data row1 col0\" >orbitProperties_pass</td>\n",
       "      <td id=\"T_f55ec_row1_col1\" class=\"data row1 col1\" >ASCENDING</td>\n",
       "      <td id=\"T_f55ec_row1_col2\" class=\"data row1 col2\" >ASCENDING</td>\n",
       "      <td id=\"T_f55ec_row1_col3\" class=\"data row1 col3\" >ASCENDING</td>\n",
       "      <td id=\"T_f55ec_row1_col4\" class=\"data row1 col4\" >ASCENDING</td>\n",
       "      <td id=\"T_f55ec_row1_col5\" class=\"data row1 col5\" >ASCENDING</td>\n",
       "    </tr>\n",
       "    <tr>\n",
       "      <th id=\"T_f55ec_level0_row2\" class=\"row_heading level0 row2\" >2</th>\n",
       "      <td id=\"T_f55ec_row2_col0\" class=\"data row2 col0\" >resolution</td>\n",
       "      <td id=\"T_f55ec_row2_col1\" class=\"data row2 col1\" >H</td>\n",
       "      <td id=\"T_f55ec_row2_col2\" class=\"data row2 col2\" >H</td>\n",
       "      <td id=\"T_f55ec_row2_col3\" class=\"data row2 col3\" >H</td>\n",
       "      <td id=\"T_f55ec_row2_col4\" class=\"data row2 col4\" >H</td>\n",
       "      <td id=\"T_f55ec_row2_col5\" class=\"data row2 col5\" >H</td>\n",
       "    </tr>\n",
       "    <tr>\n",
       "      <th id=\"T_f55ec_level0_row3\" class=\"row_heading level0 row3\" >3</th>\n",
       "      <td id=\"T_f55ec_row3_col0\" class=\"data row3 col0\" >resolution_meters</td>\n",
       "      <td id=\"T_f55ec_row3_col1\" class=\"data row3 col1\" >10</td>\n",
       "      <td id=\"T_f55ec_row3_col2\" class=\"data row3 col2\" >10</td>\n",
       "      <td id=\"T_f55ec_row3_col3\" class=\"data row3 col3\" >10</td>\n",
       "      <td id=\"T_f55ec_row3_col4\" class=\"data row3 col4\" >10</td>\n",
       "      <td id=\"T_f55ec_row3_col5\" class=\"data row3 col5\" >10</td>\n",
       "    </tr>\n",
       "    <tr>\n",
       "      <th id=\"T_f55ec_level0_row4\" class=\"row_heading level0 row4\" >4</th>\n",
       "      <td id=\"T_f55ec_row4_col0\" class=\"data row4 col0\" >platform_number</td>\n",
       "      <td id=\"T_f55ec_row4_col1\" class=\"data row4 col1\" >A</td>\n",
       "      <td id=\"T_f55ec_row4_col2\" class=\"data row4 col2\" >A</td>\n",
       "      <td id=\"T_f55ec_row4_col3\" class=\"data row4 col3\" >A</td>\n",
       "      <td id=\"T_f55ec_row4_col4\" class=\"data row4 col4\" >A</td>\n",
       "      <td id=\"T_f55ec_row4_col5\" class=\"data row4 col5\" >A</td>\n",
       "    </tr>\n",
       "    <tr>\n",
       "      <th id=\"T_f55ec_level0_row5\" class=\"row_heading level0 row5\" >5</th>\n",
       "      <td id=\"T_f55ec_row5_col0\" class=\"data row5 col0\" >productType</td>\n",
       "      <td id=\"T_f55ec_row5_col1\" class=\"data row5 col1\" >GRD</td>\n",
       "      <td id=\"T_f55ec_row5_col2\" class=\"data row5 col2\" >GRD</td>\n",
       "      <td id=\"T_f55ec_row5_col3\" class=\"data row5 col3\" >GRD</td>\n",
       "      <td id=\"T_f55ec_row5_col4\" class=\"data row5 col4\" >GRD</td>\n",
       "      <td id=\"T_f55ec_row5_col5\" class=\"data row5 col5\" >GRD</td>\n",
       "    </tr>\n",
       "    <tr>\n",
       "      <th id=\"T_f55ec_level0_row6\" class=\"row_heading level0 row6\" >6</th>\n",
       "      <td id=\"T_f55ec_row6_col0\" class=\"data row6 col0\" >orbitNumber_start</td>\n",
       "      <td id=\"T_f55ec_row6_col1\" class=\"data row6 col1\" >27081</td>\n",
       "      <td id=\"T_f55ec_row6_col2\" class=\"data row6 col2\" >27256</td>\n",
       "      <td id=\"T_f55ec_row6_col3\" class=\"data row6 col3\" >27431</td>\n",
       "      <td id=\"T_f55ec_row6_col4\" class=\"data row6 col4\" >27606</td>\n",
       "      <td id=\"T_f55ec_row6_col5\" class=\"data row6 col5\" >27781</td>\n",
       "    </tr>\n",
       "    <tr>\n",
       "      <th id=\"T_f55ec_level0_row7\" class=\"row_heading level0 row7\" >7</th>\n",
       "      <td id=\"T_f55ec_row7_col0\" class=\"data row7 col0\" >orbitNumber_stop</td>\n",
       "      <td id=\"T_f55ec_row7_col1\" class=\"data row7 col1\" >27081</td>\n",
       "      <td id=\"T_f55ec_row7_col2\" class=\"data row7 col2\" >27256</td>\n",
       "      <td id=\"T_f55ec_row7_col3\" class=\"data row7 col3\" >27431</td>\n",
       "      <td id=\"T_f55ec_row7_col4\" class=\"data row7 col4\" >27606</td>\n",
       "      <td id=\"T_f55ec_row7_col5\" class=\"data row7 col5\" >27781</td>\n",
       "    </tr>\n",
       "    <tr>\n",
       "      <th id=\"T_f55ec_level0_row8\" class=\"row_heading level0 row8\" >8</th>\n",
       "      <td id=\"T_f55ec_row8_col0\" class=\"data row8 col0\" >transmitterReceiverPolarisation</td>\n",
       "      <td id=\"T_f55ec_row8_col1\" class=\"data row8 col1\" >['VV', 'VH']</td>\n",
       "      <td id=\"T_f55ec_row8_col2\" class=\"data row8 col2\" >['VV', 'VH']</td>\n",
       "      <td id=\"T_f55ec_row8_col3\" class=\"data row8 col3\" >['VV', 'VH']</td>\n",
       "      <td id=\"T_f55ec_row8_col4\" class=\"data row8 col4\" >['VV', 'VH']</td>\n",
       "      <td id=\"T_f55ec_row8_col5\" class=\"data row8 col5\" >['VV', 'VH']</td>\n",
       "    </tr>\n",
       "    <tr>\n",
       "      <th id=\"T_f55ec_level0_row9\" class=\"row_heading level0 row9\" >9</th>\n",
       "      <td id=\"T_f55ec_row9_col0\" class=\"data row9 col0\" >system:band_names</td>\n",
       "      <td id=\"T_f55ec_row9_col1\" class=\"data row9 col1\" >['VV', 'VH', 'angle']</td>\n",
       "      <td id=\"T_f55ec_row9_col2\" class=\"data row9 col2\" >['VV', 'VH', 'angle']</td>\n",
       "      <td id=\"T_f55ec_row9_col3\" class=\"data row9 col3\" >['VV', 'VH', 'angle']</td>\n",
       "      <td id=\"T_f55ec_row9_col4\" class=\"data row9 col4\" >['VV', 'VH', 'angle']</td>\n",
       "      <td id=\"T_f55ec_row9_col5\" class=\"data row9 col5\" >['VV', 'VH', 'angle']</td>\n",
       "    </tr>\n",
       "    <tr>\n",
       "      <th id=\"T_f55ec_level0_row10\" class=\"row_heading level0 row10\" >10</th>\n",
       "      <td id=\"T_f55ec_row10_col0\" class=\"data row10 col0\" >instrumentMode</td>\n",
       "      <td id=\"T_f55ec_row10_col1\" class=\"data row10 col1\" >IW</td>\n",
       "      <td id=\"T_f55ec_row10_col2\" class=\"data row10 col2\" >IW</td>\n",
       "      <td id=\"T_f55ec_row10_col3\" class=\"data row10 col3\" >IW</td>\n",
       "      <td id=\"T_f55ec_row10_col4\" class=\"data row10 col4\" >IW</td>\n",
       "      <td id=\"T_f55ec_row10_col5\" class=\"data row10 col5\" >IW</td>\n",
       "    </tr>\n",
       "    <tr>\n",
       "      <th id=\"T_f55ec_level0_row11\" class=\"row_heading level0 row11\" >11</th>\n",
       "      <td id=\"T_f55ec_row11_col0\" class=\"data row11 col0\" >relativeOrbitNumber_stop</td>\n",
       "      <td id=\"T_f55ec_row11_col1\" class=\"data row11 col1\" >59</td>\n",
       "      <td id=\"T_f55ec_row11_col2\" class=\"data row11 col2\" >59</td>\n",
       "      <td id=\"T_f55ec_row11_col3\" class=\"data row11 col3\" >59</td>\n",
       "      <td id=\"T_f55ec_row11_col4\" class=\"data row11 col4\" >59</td>\n",
       "      <td id=\"T_f55ec_row11_col5\" class=\"data row11 col5\" >59</td>\n",
       "    </tr>\n",
       "    <tr>\n",
       "      <th id=\"T_f55ec_level0_row12\" class=\"row_heading level0 row12\" >12</th>\n",
       "      <td id=\"T_f55ec_row12_col0\" class=\"data row12 col0\" >relativeOrbitNumber_start</td>\n",
       "      <td id=\"T_f55ec_row12_col1\" class=\"data row12 col1\" >59</td>\n",
       "      <td id=\"T_f55ec_row12_col2\" class=\"data row12 col2\" >59</td>\n",
       "      <td id=\"T_f55ec_row12_col3\" class=\"data row12 col3\" >59</td>\n",
       "      <td id=\"T_f55ec_row12_col4\" class=\"data row12 col4\" >59</td>\n",
       "      <td id=\"T_f55ec_row12_col5\" class=\"data row12 col5\" >59</td>\n",
       "    </tr>\n",
       "    <tr>\n",
       "      <th id=\"T_f55ec_level0_row13\" class=\"row_heading level0 row13\" >13</th>\n",
       "      <td id=\"T_f55ec_row13_col0\" class=\"data row13 col0\" >cycleNumber</td>\n",
       "      <td id=\"T_f55ec_row13_col1\" class=\"data row13 col1\" >169</td>\n",
       "      <td id=\"T_f55ec_row13_col2\" class=\"data row13 col2\" >170</td>\n",
       "      <td id=\"T_f55ec_row13_col3\" class=\"data row13 col3\" >171</td>\n",
       "      <td id=\"T_f55ec_row13_col4\" class=\"data row13 col4\" >172</td>\n",
       "      <td id=\"T_f55ec_row13_col5\" class=\"data row13 col5\" >173</td>\n",
       "    </tr>\n",
       "  </tbody>\n",
       "</table>\n"
      ],
      "text/plain": [
       "<pandas.io.formats.style.Styler at 0x1e24dcff760>"
      ]
     },
     "execution_count": 9,
     "metadata": {},
     "output_type": "execute_result"
    }
   ],
   "source": [
    "ee_utils.sen1_print(s1_collection)"
   ]
  },
  {
   "cell_type": "code",
   "execution_count": null,
   "metadata": {},
   "outputs": [
    {
     "data": {
      "application/vnd.jupyter.widget-view+json": {
       "model_id": "4908cf82e752483d92cc241acd1edf2f",
       "version_major": 2,
       "version_minor": 0
      },
      "text/plain": [
       "Map(center=[48.16415370878537, 2.248279596642088], controls=(WidgetControl(options=['position', 'transparent_b…"
      ]
     },
     "metadata": {},
     "output_type": "display_data"
    }
   ],
   "source": [
    "s1_vis = {'min': -25, 'max': 5, 'bands': ['VV', 'VH', 'VV_VH_ratio']} # R: VV, G: VH, B: ratio\n",
    "s1_collection = s1_collection.map(ee_utils.sen1_add_ratio)\n",
    "s1_img = s1_collection.median().clip(roi)\n",
    "\n",
    "false_color = {\n",
    "    'bands': ['VV', 'VH', 'VV_VH_ratio'],\n",
    "    'min': [-25, -35, 0],\n",
    "    'max': [0, -5, 10]\n",
    "}\n",
    "\n",
    "\n",
    "Map.addLayer(s1_img, false_color, 'S1 Collection')\n",
    "Map.centerObject(roi, 10)\n",
    "Map"
   ]
  },
  {
   "cell_type": "code",
   "execution_count": null,
   "metadata": {},
   "outputs": [],
   "source": []
  },
  {
   "cell_type": "code",
   "execution_count": null,
   "metadata": {},
   "outputs": [],
   "source": []
  }
 ],
 "metadata": {
  "kernelspec": {
   "display_name": "geemap",
   "language": "python",
   "name": "python3"
  },
  "language_info": {
   "codemirror_mode": {
    "name": "ipython",
    "version": 3
   },
   "file_extension": ".py",
   "mimetype": "text/x-python",
   "name": "python",
   "nbconvert_exporter": "python",
   "pygments_lexer": "ipython3",
   "version": "3.9.16"
  }
 },
 "nbformat": 4,
 "nbformat_minor": 2
}
