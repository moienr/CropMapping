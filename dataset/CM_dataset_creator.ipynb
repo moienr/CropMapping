{
 "cells": [
  {
   "cell_type": "code",
   "execution_count": 1,
   "metadata": {},
   "outputs": [],
   "source": [
    "import ee\n",
    "import geemap\n",
    "import importlib"
   ]
  },
  {
   "cell_type": "code",
   "execution_count": 2,
   "metadata": {},
   "outputs": [],
   "source": [
    "Map = geemap.Map()"
   ]
  },
  {
   "cell_type": "code",
   "execution_count": 3,
   "metadata": {},
   "outputs": [],
   "source": [
    "ee.Initialize()"
   ]
  },
  {
   "cell_type": "code",
   "execution_count": 35,
   "metadata": {},
   "outputs": [],
   "source": [
    "import utils.ee_utils as ee_utils"
   ]
  },
  {
   "cell_type": "code",
   "execution_count": 36,
   "metadata": {},
   "outputs": [
    {
     "data": {
      "text/plain": [
       "<module 'utils.ee_utils' from 'd:\\\\python\\\\CropMapping\\\\dataset\\\\utils\\\\ee_utils.py'>"
      ]
     },
     "execution_count": 36,
     "metadata": {},
     "output_type": "execute_result"
    }
   ],
   "source": [
    "# Reload the module\n",
    "importlib.reload(ee_utils)"
   ]
  },
  {
   "cell_type": "code",
   "execution_count": 6,
   "metadata": {},
   "outputs": [],
   "source": [
    "\n",
    "# Define area of interest.\n",
    "roi = ee.Geometry.Polygon(\n",
    "                                [[[1.2897224677359675, 48.38400739957012],\n",
    "                                [1.2897224677359675, 47.93697958008443],\n",
    "                                [3.2068367255484675, 47.93697958008443],\n",
    "                                [3.2068367255484675, 48.38400739957012]]])\n",
    "\n",
    "# Call function with defined start and end dates and area of interest.\n",
    "cloudless_collection = ee_utils.create_s2_collection(roi, '2019-05-01', '2019-06-30')\n",
    "\n",
    "# Define visualization parameters.\n",
    "visualization = {\n",
    "        'min': 0.0,\n",
    "        'max': 0.3,\n",
    "        'bands': ['B4', 'B3', 'B2'],\n",
    "}\n",
    "\n",
    "# Add layer to map.\n",
    "Map.addLayer(cloudless_collection.median().clip(roi), visualization, 'Cloudless Collection')\n",
    "Map.centerObject(roi, 10)"
   ]
  },
  {
   "cell_type": "code",
   "execution_count": 7,
   "metadata": {},
   "outputs": [],
   "source": [
    "s1_collection = ee_utils.create_s1_collection(roi, '2019-05-01', '2019-06-30')\n"
   ]
  },
  {
   "cell_type": "code",
   "execution_count": 8,
   "metadata": {},
   "outputs": [
    {
     "data": {
      "text/plain": [
       "5"
      ]
     },
     "execution_count": 8,
     "metadata": {},
     "output_type": "execute_result"
    }
   ],
   "source": [
    "s1_collection.size().getInfo()"
   ]
  },
  {
   "cell_type": "code",
   "execution_count": 9,
   "metadata": {},
   "outputs": [
    {
     "data": {
      "text/html": [
       "<style type=\"text/css\">\n",
       "#T_dfc88 th {\n",
       "  text-align: left;\n",
       "}\n",
       "#T_dfc88_row0_col0, #T_dfc88_row0_col1, #T_dfc88_row0_col2, #T_dfc88_row0_col3, #T_dfc88_row0_col4, #T_dfc88_row0_col5, #T_dfc88_row1_col0, #T_dfc88_row1_col1, #T_dfc88_row1_col2, #T_dfc88_row1_col3, #T_dfc88_row1_col4, #T_dfc88_row1_col5, #T_dfc88_row2_col0, #T_dfc88_row2_col1, #T_dfc88_row2_col2, #T_dfc88_row2_col3, #T_dfc88_row2_col4, #T_dfc88_row2_col5, #T_dfc88_row3_col0, #T_dfc88_row3_col1, #T_dfc88_row3_col2, #T_dfc88_row3_col3, #T_dfc88_row3_col4, #T_dfc88_row3_col5, #T_dfc88_row4_col0, #T_dfc88_row4_col1, #T_dfc88_row4_col2, #T_dfc88_row4_col3, #T_dfc88_row4_col4, #T_dfc88_row4_col5, #T_dfc88_row5_col0, #T_dfc88_row5_col1, #T_dfc88_row5_col2, #T_dfc88_row5_col3, #T_dfc88_row5_col4, #T_dfc88_row5_col5, #T_dfc88_row6_col0, #T_dfc88_row6_col1, #T_dfc88_row6_col2, #T_dfc88_row6_col3, #T_dfc88_row6_col4, #T_dfc88_row6_col5, #T_dfc88_row7_col0, #T_dfc88_row7_col1, #T_dfc88_row7_col2, #T_dfc88_row7_col3, #T_dfc88_row7_col4, #T_dfc88_row7_col5, #T_dfc88_row8_col0, #T_dfc88_row8_col1, #T_dfc88_row8_col2, #T_dfc88_row8_col3, #T_dfc88_row8_col4, #T_dfc88_row8_col5, #T_dfc88_row9_col0, #T_dfc88_row9_col1, #T_dfc88_row9_col2, #T_dfc88_row9_col3, #T_dfc88_row9_col4, #T_dfc88_row9_col5, #T_dfc88_row10_col0, #T_dfc88_row10_col1, #T_dfc88_row10_col2, #T_dfc88_row10_col3, #T_dfc88_row10_col4, #T_dfc88_row10_col5, #T_dfc88_row11_col0, #T_dfc88_row11_col1, #T_dfc88_row11_col2, #T_dfc88_row11_col3, #T_dfc88_row11_col4, #T_dfc88_row11_col5, #T_dfc88_row12_col0, #T_dfc88_row12_col1, #T_dfc88_row12_col2, #T_dfc88_row12_col3, #T_dfc88_row12_col4, #T_dfc88_row12_col5, #T_dfc88_row13_col0, #T_dfc88_row13_col1, #T_dfc88_row13_col2, #T_dfc88_row13_col3, #T_dfc88_row13_col4, #T_dfc88_row13_col5 {\n",
       "  text-align: left;\n",
       "}\n",
       "</style>\n",
       "<table id=\"T_dfc88\">\n",
       "  <thead>\n",
       "    <tr>\n",
       "      <th class=\"blank level0\" >&nbsp;</th>\n",
       "      <th id=\"T_dfc88_level0_col0\" class=\"col_heading level0 col0\" >Property</th>\n",
       "      <th id=\"T_dfc88_level0_col1\" class=\"col_heading level0 col1\" >0</th>\n",
       "      <th id=\"T_dfc88_level0_col2\" class=\"col_heading level0 col2\" >1</th>\n",
       "      <th id=\"T_dfc88_level0_col3\" class=\"col_heading level0 col3\" >2</th>\n",
       "      <th id=\"T_dfc88_level0_col4\" class=\"col_heading level0 col4\" >3</th>\n",
       "      <th id=\"T_dfc88_level0_col5\" class=\"col_heading level0 col5\" >4</th>\n",
       "    </tr>\n",
       "  </thead>\n",
       "  <tbody>\n",
       "    <tr>\n",
       "      <th id=\"T_dfc88_level0_row0\" class=\"row_heading level0 row0\" >0</th>\n",
       "      <td id=\"T_dfc88_row0_col0\" class=\"data row0 col0\" >system:time_start</td>\n",
       "      <td id=\"T_dfc88_row0_col1\" class=\"data row0 col1\" >2019-05-04</td>\n",
       "      <td id=\"T_dfc88_row0_col2\" class=\"data row0 col2\" >2019-05-16</td>\n",
       "      <td id=\"T_dfc88_row0_col3\" class=\"data row0 col3\" >2019-05-28</td>\n",
       "      <td id=\"T_dfc88_row0_col4\" class=\"data row0 col4\" >2019-06-09</td>\n",
       "      <td id=\"T_dfc88_row0_col5\" class=\"data row0 col5\" >2019-06-21</td>\n",
       "    </tr>\n",
       "    <tr>\n",
       "      <th id=\"T_dfc88_level0_row1\" class=\"row_heading level0 row1\" >1</th>\n",
       "      <td id=\"T_dfc88_row1_col0\" class=\"data row1 col0\" >orbitProperties_pass</td>\n",
       "      <td id=\"T_dfc88_row1_col1\" class=\"data row1 col1\" >ASCENDING</td>\n",
       "      <td id=\"T_dfc88_row1_col2\" class=\"data row1 col2\" >ASCENDING</td>\n",
       "      <td id=\"T_dfc88_row1_col3\" class=\"data row1 col3\" >ASCENDING</td>\n",
       "      <td id=\"T_dfc88_row1_col4\" class=\"data row1 col4\" >ASCENDING</td>\n",
       "      <td id=\"T_dfc88_row1_col5\" class=\"data row1 col5\" >ASCENDING</td>\n",
       "    </tr>\n",
       "    <tr>\n",
       "      <th id=\"T_dfc88_level0_row2\" class=\"row_heading level0 row2\" >2</th>\n",
       "      <td id=\"T_dfc88_row2_col0\" class=\"data row2 col0\" >resolution</td>\n",
       "      <td id=\"T_dfc88_row2_col1\" class=\"data row2 col1\" >H</td>\n",
       "      <td id=\"T_dfc88_row2_col2\" class=\"data row2 col2\" >H</td>\n",
       "      <td id=\"T_dfc88_row2_col3\" class=\"data row2 col3\" >H</td>\n",
       "      <td id=\"T_dfc88_row2_col4\" class=\"data row2 col4\" >H</td>\n",
       "      <td id=\"T_dfc88_row2_col5\" class=\"data row2 col5\" >H</td>\n",
       "    </tr>\n",
       "    <tr>\n",
       "      <th id=\"T_dfc88_level0_row3\" class=\"row_heading level0 row3\" >3</th>\n",
       "      <td id=\"T_dfc88_row3_col0\" class=\"data row3 col0\" >resolution_meters</td>\n",
       "      <td id=\"T_dfc88_row3_col1\" class=\"data row3 col1\" >10</td>\n",
       "      <td id=\"T_dfc88_row3_col2\" class=\"data row3 col2\" >10</td>\n",
       "      <td id=\"T_dfc88_row3_col3\" class=\"data row3 col3\" >10</td>\n",
       "      <td id=\"T_dfc88_row3_col4\" class=\"data row3 col4\" >10</td>\n",
       "      <td id=\"T_dfc88_row3_col5\" class=\"data row3 col5\" >10</td>\n",
       "    </tr>\n",
       "    <tr>\n",
       "      <th id=\"T_dfc88_level0_row4\" class=\"row_heading level0 row4\" >4</th>\n",
       "      <td id=\"T_dfc88_row4_col0\" class=\"data row4 col0\" >platform_number</td>\n",
       "      <td id=\"T_dfc88_row4_col1\" class=\"data row4 col1\" >A</td>\n",
       "      <td id=\"T_dfc88_row4_col2\" class=\"data row4 col2\" >A</td>\n",
       "      <td id=\"T_dfc88_row4_col3\" class=\"data row4 col3\" >A</td>\n",
       "      <td id=\"T_dfc88_row4_col4\" class=\"data row4 col4\" >A</td>\n",
       "      <td id=\"T_dfc88_row4_col5\" class=\"data row4 col5\" >A</td>\n",
       "    </tr>\n",
       "    <tr>\n",
       "      <th id=\"T_dfc88_level0_row5\" class=\"row_heading level0 row5\" >5</th>\n",
       "      <td id=\"T_dfc88_row5_col0\" class=\"data row5 col0\" >productType</td>\n",
       "      <td id=\"T_dfc88_row5_col1\" class=\"data row5 col1\" >GRD</td>\n",
       "      <td id=\"T_dfc88_row5_col2\" class=\"data row5 col2\" >GRD</td>\n",
       "      <td id=\"T_dfc88_row5_col3\" class=\"data row5 col3\" >GRD</td>\n",
       "      <td id=\"T_dfc88_row5_col4\" class=\"data row5 col4\" >GRD</td>\n",
       "      <td id=\"T_dfc88_row5_col5\" class=\"data row5 col5\" >GRD</td>\n",
       "    </tr>\n",
       "    <tr>\n",
       "      <th id=\"T_dfc88_level0_row6\" class=\"row_heading level0 row6\" >6</th>\n",
       "      <td id=\"T_dfc88_row6_col0\" class=\"data row6 col0\" >orbitNumber_start</td>\n",
       "      <td id=\"T_dfc88_row6_col1\" class=\"data row6 col1\" >27081</td>\n",
       "      <td id=\"T_dfc88_row6_col2\" class=\"data row6 col2\" >27256</td>\n",
       "      <td id=\"T_dfc88_row6_col3\" class=\"data row6 col3\" >27431</td>\n",
       "      <td id=\"T_dfc88_row6_col4\" class=\"data row6 col4\" >27606</td>\n",
       "      <td id=\"T_dfc88_row6_col5\" class=\"data row6 col5\" >27781</td>\n",
       "    </tr>\n",
       "    <tr>\n",
       "      <th id=\"T_dfc88_level0_row7\" class=\"row_heading level0 row7\" >7</th>\n",
       "      <td id=\"T_dfc88_row7_col0\" class=\"data row7 col0\" >orbitNumber_stop</td>\n",
       "      <td id=\"T_dfc88_row7_col1\" class=\"data row7 col1\" >27081</td>\n",
       "      <td id=\"T_dfc88_row7_col2\" class=\"data row7 col2\" >27256</td>\n",
       "      <td id=\"T_dfc88_row7_col3\" class=\"data row7 col3\" >27431</td>\n",
       "      <td id=\"T_dfc88_row7_col4\" class=\"data row7 col4\" >27606</td>\n",
       "      <td id=\"T_dfc88_row7_col5\" class=\"data row7 col5\" >27781</td>\n",
       "    </tr>\n",
       "    <tr>\n",
       "      <th id=\"T_dfc88_level0_row8\" class=\"row_heading level0 row8\" >8</th>\n",
       "      <td id=\"T_dfc88_row8_col0\" class=\"data row8 col0\" >transmitterReceiverPolarisation</td>\n",
       "      <td id=\"T_dfc88_row8_col1\" class=\"data row8 col1\" >['VV', 'VH']</td>\n",
       "      <td id=\"T_dfc88_row8_col2\" class=\"data row8 col2\" >['VV', 'VH']</td>\n",
       "      <td id=\"T_dfc88_row8_col3\" class=\"data row8 col3\" >['VV', 'VH']</td>\n",
       "      <td id=\"T_dfc88_row8_col4\" class=\"data row8 col4\" >['VV', 'VH']</td>\n",
       "      <td id=\"T_dfc88_row8_col5\" class=\"data row8 col5\" >['VV', 'VH']</td>\n",
       "    </tr>\n",
       "    <tr>\n",
       "      <th id=\"T_dfc88_level0_row9\" class=\"row_heading level0 row9\" >9</th>\n",
       "      <td id=\"T_dfc88_row9_col0\" class=\"data row9 col0\" >system:band_names</td>\n",
       "      <td id=\"T_dfc88_row9_col1\" class=\"data row9 col1\" >['VV', 'VH', 'angle']</td>\n",
       "      <td id=\"T_dfc88_row9_col2\" class=\"data row9 col2\" >['VV', 'VH', 'angle']</td>\n",
       "      <td id=\"T_dfc88_row9_col3\" class=\"data row9 col3\" >['VV', 'VH', 'angle']</td>\n",
       "      <td id=\"T_dfc88_row9_col4\" class=\"data row9 col4\" >['VV', 'VH', 'angle']</td>\n",
       "      <td id=\"T_dfc88_row9_col5\" class=\"data row9 col5\" >['VV', 'VH', 'angle']</td>\n",
       "    </tr>\n",
       "    <tr>\n",
       "      <th id=\"T_dfc88_level0_row10\" class=\"row_heading level0 row10\" >10</th>\n",
       "      <td id=\"T_dfc88_row10_col0\" class=\"data row10 col0\" >instrumentMode</td>\n",
       "      <td id=\"T_dfc88_row10_col1\" class=\"data row10 col1\" >IW</td>\n",
       "      <td id=\"T_dfc88_row10_col2\" class=\"data row10 col2\" >IW</td>\n",
       "      <td id=\"T_dfc88_row10_col3\" class=\"data row10 col3\" >IW</td>\n",
       "      <td id=\"T_dfc88_row10_col4\" class=\"data row10 col4\" >IW</td>\n",
       "      <td id=\"T_dfc88_row10_col5\" class=\"data row10 col5\" >IW</td>\n",
       "    </tr>\n",
       "    <tr>\n",
       "      <th id=\"T_dfc88_level0_row11\" class=\"row_heading level0 row11\" >11</th>\n",
       "      <td id=\"T_dfc88_row11_col0\" class=\"data row11 col0\" >relativeOrbitNumber_stop</td>\n",
       "      <td id=\"T_dfc88_row11_col1\" class=\"data row11 col1\" >59</td>\n",
       "      <td id=\"T_dfc88_row11_col2\" class=\"data row11 col2\" >59</td>\n",
       "      <td id=\"T_dfc88_row11_col3\" class=\"data row11 col3\" >59</td>\n",
       "      <td id=\"T_dfc88_row11_col4\" class=\"data row11 col4\" >59</td>\n",
       "      <td id=\"T_dfc88_row11_col5\" class=\"data row11 col5\" >59</td>\n",
       "    </tr>\n",
       "    <tr>\n",
       "      <th id=\"T_dfc88_level0_row12\" class=\"row_heading level0 row12\" >12</th>\n",
       "      <td id=\"T_dfc88_row12_col0\" class=\"data row12 col0\" >relativeOrbitNumber_start</td>\n",
       "      <td id=\"T_dfc88_row12_col1\" class=\"data row12 col1\" >59</td>\n",
       "      <td id=\"T_dfc88_row12_col2\" class=\"data row12 col2\" >59</td>\n",
       "      <td id=\"T_dfc88_row12_col3\" class=\"data row12 col3\" >59</td>\n",
       "      <td id=\"T_dfc88_row12_col4\" class=\"data row12 col4\" >59</td>\n",
       "      <td id=\"T_dfc88_row12_col5\" class=\"data row12 col5\" >59</td>\n",
       "    </tr>\n",
       "    <tr>\n",
       "      <th id=\"T_dfc88_level0_row13\" class=\"row_heading level0 row13\" >13</th>\n",
       "      <td id=\"T_dfc88_row13_col0\" class=\"data row13 col0\" >cycleNumber</td>\n",
       "      <td id=\"T_dfc88_row13_col1\" class=\"data row13 col1\" >169</td>\n",
       "      <td id=\"T_dfc88_row13_col2\" class=\"data row13 col2\" >170</td>\n",
       "      <td id=\"T_dfc88_row13_col3\" class=\"data row13 col3\" >171</td>\n",
       "      <td id=\"T_dfc88_row13_col4\" class=\"data row13 col4\" >172</td>\n",
       "      <td id=\"T_dfc88_row13_col5\" class=\"data row13 col5\" >173</td>\n",
       "    </tr>\n",
       "  </tbody>\n",
       "</table>\n"
      ],
      "text/plain": [
       "<pandas.io.formats.style.Styler at 0x26dbc2aa400>"
      ]
     },
     "execution_count": 9,
     "metadata": {},
     "output_type": "execute_result"
    }
   ],
   "source": [
    "ee_utils.sen1_print(s1_collection)"
   ]
  },
  {
   "cell_type": "code",
   "execution_count": 37,
   "metadata": {},
   "outputs": [],
   "source": [
    "s1_mosaic = ee_utils.get_combined_s1_image(roi, '2019-05-01', '2019-06-30')\n",
    "s1_mosaic = ee_utils.sen1_add_ratio(s1_mosaic, vv_name='VV', vh_name='VH', ratio_name='ratio')\n",
    "\n",
    "false_color = {\n",
    "    'bands': ['VV', 'VH', 'ratio'],\n",
    "    'min': [-25, -35, 0],\n",
    "    'max': [0, -5, 10]\n",
    "}\n",
    "Map.addLayer(s1_mosaic, false_color, 'S1 Mosaic')\n",
    "Map.centerObject(roi, 10)"
   ]
  },
  {
   "cell_type": "code",
   "execution_count": 38,
   "metadata": {},
   "outputs": [
    {
     "data": {
      "text/html": [
       "<div><style>:root {\n",
       "  --font-color-primary: var(--jp-content-font-color0, rgba(0, 0, 0, 1));\n",
       "  --font-color-secondary: var(--jp-content-font-color2, rgba(0, 0, 0, 0.6));\n",
       "  --font-color-accent: rgba(123, 31, 162, 1);\n",
       "  --border-color: var(--jp-border-color2, #e0e0e0);\n",
       "  --background-color: var(--jp-layout-color0, white);\n",
       "  --background-color-row-even: var(--jp-layout-color1, white);\n",
       "  --background-color-row-odd: var(--jp-layout-color2, #eeeeee);\n",
       "}\n",
       "\n",
       "html[theme=\"dark\"],\n",
       "body[data-theme=\"dark\"],\n",
       "body.vscode-dark {\n",
       "  --font-color-primary: rgba(255, 255, 255, 1);\n",
       "  --font-color-secondary: rgba(255, 255, 255, 0.6);\n",
       "  --font-color-accent: rgb(173, 132, 190);\n",
       "  --border-color: #2e2e2e;\n",
       "  --background-color: #111111;\n",
       "  --background-color-row-even: #111111;\n",
       "  --background-color-row-odd: #313131;\n",
       "}\n",
       "\n",
       ".ee {\n",
       "  padding: 1em;\n",
       "  line-height: 1.5em;\n",
       "  min-width: 300px;\n",
       "  max-width: 1200px;\n",
       "  overflow-y: scroll;\n",
       "  max-height: 600px;\n",
       "  border: 1px solid var(--border-color);\n",
       "  font-family: monospace;\n",
       "}\n",
       "\n",
       ".ee li {\n",
       "  list-style-type: none;\n",
       "}\n",
       "\n",
       ".ee ul {\n",
       "  padding-left: 1.5em !important;\n",
       "  margin: 0;\n",
       "}\n",
       "\n",
       ".ee > ul {\n",
       "  padding-left: 0 !important;\n",
       "}\n",
       "\n",
       ".ee-open,\n",
       ".ee-shut {\n",
       "  color: var(--font-color-secondary);\n",
       "  cursor: pointer;\n",
       "  margin: 0;\n",
       "}\n",
       "\n",
       ".ee-open:hover,\n",
       ".ee-shut:hover {\n",
       "  color: var(--font-color-primary);\n",
       "}\n",
       "\n",
       ".ee-k {\n",
       "  color: var(--font-color-accent);\n",
       "  margin-right: 6px;\n",
       "}\n",
       "\n",
       ".ee-v {\n",
       "  color: var(--font-color-primary);\n",
       "}\n",
       "\n",
       ".ee-toggle {\n",
       "  display: none;\n",
       "}\n",
       "\n",
       ".ee-shut + ul {\n",
       "  display: none;\n",
       "}\n",
       "\n",
       ".ee-open + ul {\n",
       "  display: block;\n",
       "}\n",
       "\n",
       ".ee-shut::before {\n",
       "  display: inline-block;\n",
       "  content: \"▼\";\n",
       "  margin-right: 6px;\n",
       "  transform: rotate(-90deg);\n",
       "  transition: transform 0.2s;\n",
       "}\n",
       "\n",
       ".ee-open::before {\n",
       "  transform: rotate(0deg);\n",
       "  display: inline-block;\n",
       "  content: \"▼\";\n",
       "  margin-right: 6px;\n",
       "  transition: transform 0.2s;\n",
       "}\n",
       "</style><div class='ee'><ul><li><label class='ee-shut'>Image (3 bands)<input type='checkbox' class='ee-toggle'></label><ul><li><span class='ee-k'>type:</span><span class='ee-v'>Image</span></li><li><label class='ee-shut'>bands: List (3 elements)<input type='checkbox' class='ee-toggle'></label><ul><li><label class='ee-shut'>0: \"VV\", double, EPSG:4326, 2x2 px<input type='checkbox' class='ee-toggle'></label><ul><li><span class='ee-k'>id:</span><span class='ee-v'>VV</span></li><li><span class='ee-k'>crs:</span><span class='ee-v'>EPSG:4326</span></li><li><label class='ee-shut'>crs_transform: [1, 0, 0, 0, 1, 0]<input type='checkbox' class='ee-toggle'></label><ul><li><span class='ee-k'>0:</span><span class='ee-v'>1</span></li><li><span class='ee-k'>1:</span><span class='ee-v'>0</span></li><li><span class='ee-k'>2:</span><span class='ee-v'>0</span></li><li><span class='ee-k'>3:</span><span class='ee-v'>0</span></li><li><span class='ee-k'>4:</span><span class='ee-v'>1</span></li><li><span class='ee-k'>5:</span><span class='ee-v'>0</span></li></ul></li><li><label class='ee-shut'>data_type: double<input type='checkbox' class='ee-toggle'></label><ul><li><span class='ee-k'>type:</span><span class='ee-v'>PixelType</span></li><li><span class='ee-k'>precision:</span><span class='ee-v'>double</span></li></ul></li><li><label class='ee-shut'>dimensions: [2, 2]<input type='checkbox' class='ee-toggle'></label><ul><li><span class='ee-k'>0:</span><span class='ee-v'>2</span></li><li><span class='ee-k'>1:</span><span class='ee-v'>2</span></li></ul></li><li><label class='ee-shut'>origin: [1, 47]<input type='checkbox' class='ee-toggle'></label><ul><li><span class='ee-k'>0:</span><span class='ee-v'>1</span></li><li><span class='ee-k'>1:</span><span class='ee-v'>47</span></li></ul></li></ul></li><li><label class='ee-shut'>1: \"VH\", double, EPSG:4326, 2x2 px<input type='checkbox' class='ee-toggle'></label><ul><li><span class='ee-k'>id:</span><span class='ee-v'>VH</span></li><li><span class='ee-k'>crs:</span><span class='ee-v'>EPSG:4326</span></li><li><label class='ee-shut'>crs_transform: [1, 0, 0, 0, 1, 0]<input type='checkbox' class='ee-toggle'></label><ul><li><span class='ee-k'>0:</span><span class='ee-v'>1</span></li><li><span class='ee-k'>1:</span><span class='ee-v'>0</span></li><li><span class='ee-k'>2:</span><span class='ee-v'>0</span></li><li><span class='ee-k'>3:</span><span class='ee-v'>0</span></li><li><span class='ee-k'>4:</span><span class='ee-v'>1</span></li><li><span class='ee-k'>5:</span><span class='ee-v'>0</span></li></ul></li><li><label class='ee-shut'>data_type: double<input type='checkbox' class='ee-toggle'></label><ul><li><span class='ee-k'>type:</span><span class='ee-v'>PixelType</span></li><li><span class='ee-k'>precision:</span><span class='ee-v'>double</span></li></ul></li><li><label class='ee-shut'>dimensions: [2, 2]<input type='checkbox' class='ee-toggle'></label><ul><li><span class='ee-k'>0:</span><span class='ee-v'>2</span></li><li><span class='ee-k'>1:</span><span class='ee-v'>2</span></li></ul></li><li><label class='ee-shut'>origin: [1, 47]<input type='checkbox' class='ee-toggle'></label><ul><li><span class='ee-k'>0:</span><span class='ee-v'>1</span></li><li><span class='ee-k'>1:</span><span class='ee-v'>47</span></li></ul></li></ul></li><li><label class='ee-shut'>2: \"ratio\", double, EPSG:4326, 2x2 px<input type='checkbox' class='ee-toggle'></label><ul><li><span class='ee-k'>id:</span><span class='ee-v'>ratio</span></li><li><span class='ee-k'>crs:</span><span class='ee-v'>EPSG:4326</span></li><li><label class='ee-shut'>crs_transform: [1, 0, 0, 0, 1, 0]<input type='checkbox' class='ee-toggle'></label><ul><li><span class='ee-k'>0:</span><span class='ee-v'>1</span></li><li><span class='ee-k'>1:</span><span class='ee-v'>0</span></li><li><span class='ee-k'>2:</span><span class='ee-v'>0</span></li><li><span class='ee-k'>3:</span><span class='ee-v'>0</span></li><li><span class='ee-k'>4:</span><span class='ee-v'>1</span></li><li><span class='ee-k'>5:</span><span class='ee-v'>0</span></li></ul></li><li><label class='ee-shut'>data_type: double<input type='checkbox' class='ee-toggle'></label><ul><li><span class='ee-k'>type:</span><span class='ee-v'>PixelType</span></li><li><span class='ee-k'>precision:</span><span class='ee-v'>double</span></li></ul></li><li><label class='ee-shut'>dimensions: [2, 2]<input type='checkbox' class='ee-toggle'></label><ul><li><span class='ee-k'>0:</span><span class='ee-v'>2</span></li><li><span class='ee-k'>1:</span><span class='ee-v'>2</span></li></ul></li><li><label class='ee-shut'>origin: [1, 47]<input type='checkbox' class='ee-toggle'></label><ul><li><span class='ee-k'>0:</span><span class='ee-v'>1</span></li><li><span class='ee-k'>1:</span><span class='ee-v'>47</span></li></ul></li></ul></li></ul></li><li><label class='ee-shut'>properties: Object (1 property)<input type='checkbox' class='ee-toggle'></label><ul><li><label class='ee-shut'>system:footprint: Polygon (5 vertices)<input type='checkbox' class='ee-toggle'></label><ul><li><span class='ee-k'>type:</span><span class='ee-v'>Polygon</span></li><li><label class='ee-shut'>coordinates: List (1 element)<input type='checkbox' class='ee-toggle'></label><ul><li><label class='ee-shut'>0: List (5 elements)<input type='checkbox' class='ee-toggle'></label><ul><li><label class='ee-shut'>0: [1.922685, 48.162322]<input type='checkbox' class='ee-toggle'></label><ul><li><span class='ee-k'>0:</span><span class='ee-v'>1.922685</span></li><li><span class='ee-k'>1:</span><span class='ee-v'>48.162322</span></li></ul></li><li><label class='ee-shut'>1: [1.967336, 48.162322]<input type='checkbox' class='ee-toggle'></label><ul><li><span class='ee-k'>0:</span><span class='ee-v'>1.967336</span></li><li><span class='ee-k'>1:</span><span class='ee-v'>48.162322</span></li></ul></li><li><label class='ee-shut'>2: [1.967336, 48.189223]<input type='checkbox' class='ee-toggle'></label><ul><li><span class='ee-k'>0:</span><span class='ee-v'>1.967336</span></li><li><span class='ee-k'>1:</span><span class='ee-v'>48.189223</span></li></ul></li><li><label class='ee-shut'>3: [1.922685, 48.189223]<input type='checkbox' class='ee-toggle'></label><ul><li><span class='ee-k'>0:</span><span class='ee-v'>1.922685</span></li><li><span class='ee-k'>1:</span><span class='ee-v'>48.189223</span></li></ul></li><li><label class='ee-shut'>4: [1.922685, 48.162322]<input type='checkbox' class='ee-toggle'></label><ul><li><span class='ee-k'>0:</span><span class='ee-v'>1.922685</span></li><li><span class='ee-k'>1:</span><span class='ee-v'>48.162322</span></li></ul></li></ul></li></ul></li></ul></li></ul></li></ul></li></ul></div><script>function toggleHeader() {\n",
       "    const parent = this.parentElement;\n",
       "    parent.className = parent.className === \"ee-open\" ? \"ee-shut\" : \"ee-open\";\n",
       "}\n",
       "\n",
       "for (let c of document.getElementsByClassName(\"ee-toggle\")) {\n",
       "    c.onclick = toggleHeader;\n",
       "}</script></div>"
      ],
      "text/plain": [
       "<ee.image.Image at 0x26de8a66850>"
      ]
     },
     "execution_count": 38,
     "metadata": {},
     "output_type": "execute_result"
    }
   ],
   "source": [
    "s1_mosaic"
   ]
  },
  {
   "cell_type": "code",
   "execution_count": 13,
   "metadata": {},
   "outputs": [
    {
     "data": {
      "application/vnd.jupyter.widget-view+json": {
       "model_id": "dcda18901d0147299ab8681a61d108d7",
       "version_major": 2,
       "version_minor": 0
      },
      "text/plain": [
       "Map(center=[48.16415370878537, 2.248279596642088], controls=(WidgetControl(options=['position', 'transparent_b…"
      ]
     },
     "metadata": {},
     "output_type": "display_data"
    }
   ],
   "source": [
    "Map"
   ]
  },
  {
   "cell_type": "code",
   "execution_count": 16,
   "metadata": {},
   "outputs": [
    {
     "data": {
      "text/html": [
       "<div><style>:root {\n",
       "  --font-color-primary: var(--jp-content-font-color0, rgba(0, 0, 0, 1));\n",
       "  --font-color-secondary: var(--jp-content-font-color2, rgba(0, 0, 0, 0.6));\n",
       "  --font-color-accent: rgba(123, 31, 162, 1);\n",
       "  --border-color: var(--jp-border-color2, #e0e0e0);\n",
       "  --background-color: var(--jp-layout-color0, white);\n",
       "  --background-color-row-even: var(--jp-layout-color1, white);\n",
       "  --background-color-row-odd: var(--jp-layout-color2, #eeeeee);\n",
       "}\n",
       "\n",
       "html[theme=\"dark\"],\n",
       "body[data-theme=\"dark\"],\n",
       "body.vscode-dark {\n",
       "  --font-color-primary: rgba(255, 255, 255, 1);\n",
       "  --font-color-secondary: rgba(255, 255, 255, 0.6);\n",
       "  --font-color-accent: rgb(173, 132, 190);\n",
       "  --border-color: #2e2e2e;\n",
       "  --background-color: #111111;\n",
       "  --background-color-row-even: #111111;\n",
       "  --background-color-row-odd: #313131;\n",
       "}\n",
       "\n",
       ".ee {\n",
       "  padding: 1em;\n",
       "  line-height: 1.5em;\n",
       "  min-width: 300px;\n",
       "  max-width: 1200px;\n",
       "  overflow-y: scroll;\n",
       "  max-height: 600px;\n",
       "  border: 1px solid var(--border-color);\n",
       "  font-family: monospace;\n",
       "}\n",
       "\n",
       ".ee li {\n",
       "  list-style-type: none;\n",
       "}\n",
       "\n",
       ".ee ul {\n",
       "  padding-left: 1.5em !important;\n",
       "  margin: 0;\n",
       "}\n",
       "\n",
       ".ee > ul {\n",
       "  padding-left: 0 !important;\n",
       "}\n",
       "\n",
       ".ee-open,\n",
       ".ee-shut {\n",
       "  color: var(--font-color-secondary);\n",
       "  cursor: pointer;\n",
       "  margin: 0;\n",
       "}\n",
       "\n",
       ".ee-open:hover,\n",
       ".ee-shut:hover {\n",
       "  color: var(--font-color-primary);\n",
       "}\n",
       "\n",
       ".ee-k {\n",
       "  color: var(--font-color-accent);\n",
       "  margin-right: 6px;\n",
       "}\n",
       "\n",
       ".ee-v {\n",
       "  color: var(--font-color-primary);\n",
       "}\n",
       "\n",
       ".ee-toggle {\n",
       "  display: none;\n",
       "}\n",
       "\n",
       ".ee-shut + ul {\n",
       "  display: none;\n",
       "}\n",
       "\n",
       ".ee-open + ul {\n",
       "  display: block;\n",
       "}\n",
       "\n",
       ".ee-shut::before {\n",
       "  display: inline-block;\n",
       "  content: \"▼\";\n",
       "  margin-right: 6px;\n",
       "  transform: rotate(-90deg);\n",
       "  transition: transform 0.2s;\n",
       "}\n",
       "\n",
       ".ee-open::before {\n",
       "  transform: rotate(0deg);\n",
       "  display: inline-block;\n",
       "  content: \"▼\";\n",
       "  margin-right: 6px;\n",
       "  transition: transform 0.2s;\n",
       "}\n",
       "</style><div class='ee'><ul><li><label class='ee-shut'>Polygon (5 vertices)<input type='checkbox' class='ee-toggle'></label><ul><li><span class='ee-k'>type:</span><span class='ee-v'>Polygon</span></li><li><label class='ee-shut'>coordinates: List (1 element)<input type='checkbox' class='ee-toggle'></label><ul><li><label class='ee-shut'>0: List (5 elements)<input type='checkbox' class='ee-toggle'></label><ul><li><label class='ee-shut'>0: [1.922685, 48.162322]<input type='checkbox' class='ee-toggle'></label><ul><li><span class='ee-k'>0:</span><span class='ee-v'>1.922685</span></li><li><span class='ee-k'>1:</span><span class='ee-v'>48.162322</span></li></ul></li><li><label class='ee-shut'>1: [1.967336, 48.162322]<input type='checkbox' class='ee-toggle'></label><ul><li><span class='ee-k'>0:</span><span class='ee-v'>1.967336</span></li><li><span class='ee-k'>1:</span><span class='ee-v'>48.162322</span></li></ul></li><li><label class='ee-shut'>2: [1.967336, 48.189223]<input type='checkbox' class='ee-toggle'></label><ul><li><span class='ee-k'>0:</span><span class='ee-v'>1.967336</span></li><li><span class='ee-k'>1:</span><span class='ee-v'>48.189223</span></li></ul></li><li><label class='ee-shut'>3: [1.922685, 48.189223]<input type='checkbox' class='ee-toggle'></label><ul><li><span class='ee-k'>0:</span><span class='ee-v'>1.922685</span></li><li><span class='ee-k'>1:</span><span class='ee-v'>48.189223</span></li></ul></li><li><label class='ee-shut'>4: [1.922685, 48.162322]<input type='checkbox' class='ee-toggle'></label><ul><li><span class='ee-k'>0:</span><span class='ee-v'>1.922685</span></li><li><span class='ee-k'>1:</span><span class='ee-v'>48.162322</span></li></ul></li></ul></li></ul></li></ul></li></ul></div><script>function toggleHeader() {\n",
       "    const parent = this.parentElement;\n",
       "    parent.className = parent.className === \"ee-open\" ? \"ee-shut\" : \"ee-open\";\n",
       "}\n",
       "\n",
       "for (let c of document.getElementsByClassName(\"ee-toggle\")) {\n",
       "    c.onclick = toggleHeader;\n",
       "}</script></div>"
      ],
      "text/plain": [
       "ee.Geometry({\n",
       "  \"functionInvocationValue\": {\n",
       "    \"functionName\": \"Feature.geometry\",\n",
       "    \"arguments\": {\n",
       "      \"feature\": {\n",
       "        \"functionInvocationValue\": {\n",
       "          \"functionName\": \"Feature\",\n",
       "          \"arguments\": {\n",
       "            \"geometry\": {\n",
       "              \"functionInvocationValue\": {\n",
       "                \"functionName\": \"GeometryConstructors.Polygon\",\n",
       "                \"arguments\": {\n",
       "                  \"coordinates\": {\n",
       "                    \"constantValue\": [\n",
       "                      [\n",
       "                        [\n",
       "                          1.922685,\n",
       "                          48.162322\n",
       "                        ],\n",
       "                        [\n",
       "                          1.922685,\n",
       "                          48.189223\n",
       "                        ],\n",
       "                        [\n",
       "                          1.967336,\n",
       "                          48.189223\n",
       "                        ],\n",
       "                        [\n",
       "                          1.967336,\n",
       "                          48.162322\n",
       "                        ],\n",
       "                        [\n",
       "                          1.922685,\n",
       "                          48.162322\n",
       "                        ]\n",
       "                      ]\n",
       "                    ]\n",
       "                  }\n",
       "                }\n",
       "              }\n",
       "            }\n",
       "          }\n",
       "        }\n",
       "      }\n",
       "    }\n",
       "  }\n",
       "})"
      ]
     },
     "execution_count": 16,
     "metadata": {},
     "output_type": "execute_result"
    }
   ],
   "source": [
    "# get roi from polygon geemap\n",
    "roi = Map.draw_last_feature.geometry()\n",
    "roi"
   ]
  },
  {
   "cell_type": "code",
   "execution_count": 17,
   "metadata": {},
   "outputs": [],
   "source": [
    "sen1_short_print = lambda s2_collection: ee_utils.ee_property_printer(s2_collection, propertie_name_list=['system:time_start','platform_number',\n",
    "                                                                                           'system:band_names','instrumentMode',                         \n",
    "                                                                                            'relativeOrbitNumber_stop','relativeOrbitNumber_start',\n",
    "                                                                                            'cycleNumber'],\n",
    "                                                             first_is_t_in_millis=True, df_instead_of_print=False)"
   ]
  },
  {
   "cell_type": "code",
   "execution_count": 24,
   "metadata": {},
   "outputs": [],
   "source": [
    "def download_s1_s2(roi, start_date, end_date, scale=10, bands=['B2','B3','B4']):\n",
    "    s1_img = ee_utils.get_combined_s1_image(roi, start_date, end_date)\n",
    "    s2_img = ee_utils.get_combined_s2_image(roi, start_date, end_date)\n",
    "    s2_img = s2_img.select(bands)\n",
    "    geemap.download_ee_image(s1_img, \"s1\"+\".tif\",crs='EPSG:4326', scale=scale,region = roi)\n",
    "    geemap.download_ee_image(s2_img, \"s2\"+\".tif\",crs='EPSG:4326', scale=scale,region = roi)"
   ]
  },
  {
   "cell_type": "code",
   "execution_count": 25,
   "metadata": {},
   "outputs": [
    {
     "data": {
      "application/vnd.jupyter.widget-view+json": {
       "model_id": "aeef1e8991d24b719e2564eacd2ceb6c",
       "version_major": 2,
       "version_minor": 0
      },
      "text/plain": [
       "s1.tif: |          | 0.00/2.39M (raw) [  0.0%] in 00:00 (eta:     ?)"
      ]
     },
     "metadata": {},
     "output_type": "display_data"
    },
    {
     "name": "stderr",
     "output_type": "stream",
     "text": [
      "There is no STAC entry for: None\n"
     ]
    },
    {
     "data": {
      "application/vnd.jupyter.widget-view+json": {
       "model_id": "5750d85e8aee429c8103177b3638bfd7",
       "version_major": 2,
       "version_minor": 0
      },
      "text/plain": [
       "s2.tif: |          | 0.00/1.79M (raw) [  0.0%] in 00:00 (eta:     ?)"
      ]
     },
     "metadata": {},
     "output_type": "display_data"
    }
   ],
   "source": [
    "download_s1_s2(roi, '2019-05-01', '2019-06-30', scale=10, bands=['B2','B3','B4'])"
   ]
  },
  {
   "cell_type": "code",
   "execution_count": null,
   "metadata": {},
   "outputs": [],
   "source": []
  }
 ],
 "metadata": {
  "kernelspec": {
   "display_name": "geemap",
   "language": "python",
   "name": "python3"
  },
  "language_info": {
   "codemirror_mode": {
    "name": "ipython",
    "version": 3
   },
   "file_extension": ".py",
   "mimetype": "text/x-python",
   "name": "python",
   "nbconvert_exporter": "python",
   "pygments_lexer": "ipython3",
   "version": "3.9.16"
  }
 },
 "nbformat": 4,
 "nbformat_minor": 2
}
