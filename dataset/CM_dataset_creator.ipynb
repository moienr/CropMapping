{
 "cells": [
  {
   "cell_type": "code",
   "execution_count": 1,
   "metadata": {},
   "outputs": [],
   "source": [
    "import ee\n",
    "import geemap\n",
    "import importlib"
   ]
  },
  {
   "cell_type": "code",
   "execution_count": 2,
   "metadata": {},
   "outputs": [],
   "source": [
    "Map = geemap.Map()"
   ]
  },
  {
   "cell_type": "code",
   "execution_count": 3,
   "metadata": {},
   "outputs": [],
   "source": [
    "ee.Initialize()"
   ]
  },
  {
   "cell_type": "code",
   "execution_count": 4,
   "metadata": {},
   "outputs": [],
   "source": [
    "import utils.ee_utils as ee_utils"
   ]
  },
  {
   "cell_type": "code",
   "execution_count": 5,
   "metadata": {},
   "outputs": [
    {
     "data": {
      "text/plain": [
       "<module 'utils.ee_utils' from 'd:\\\\python\\\\CropMapping\\\\dataset\\\\utils\\\\ee_utils.py'>"
      ]
     },
     "execution_count": 5,
     "metadata": {},
     "output_type": "execute_result"
    }
   ],
   "source": [
    "# Reload the module\n",
    "importlib.reload(ee_utils)"
   ]
  },
  {
   "cell_type": "code",
   "execution_count": 6,
   "metadata": {},
   "outputs": [],
   "source": [
    "\n",
    "# Define area of interest.\n",
    "# roi = ee.Geometry.Polygon(\n",
    "#                                 [[[1.2897224677359675, 48.38400739957012],\n",
    "#                                 [1.2897224677359675, 47.93697958008443],\n",
    "#                                 [3.2068367255484675, 47.93697958008443],\n",
    "#                                 [3.2068367255484675, 48.38400739957012]]])\n",
    "roi = ee.Geometry.Polygon( [[[2.220233, 48.116767],\n",
    "                             [2.301807, 48.116767],\n",
    "                             [2.301807, 48.167835],\n",
    "                             [2.220233, 48.167835],\n",
    "                             [2.220233, 48.116767]]])\n",
    "\n",
    "\n",
    "# Call function with defined start and end dates and area of interest.\n",
    "cloudless_collection = ee_utils.create_s2_collection(roi, '2019-05-01', '2019-06-30')\n",
    "\n",
    "# Define visualization parameters.\n",
    "visualization = {\n",
    "        'min': 0.0,\n",
    "        'max': 0.3,\n",
    "        'bands': ['B4', 'B3', 'B2'],\n",
    "}\n",
    "\n",
    "# Add layer to map.\n",
    "Map.addLayer(cloudless_collection.median().clip(roi), visualization, 'Cloudless Collection')\n",
    "Map.centerObject(roi, 10)"
   ]
  },
  {
   "cell_type": "code",
   "execution_count": 7,
   "metadata": {},
   "outputs": [],
   "source": [
    "s1_collection = ee_utils.create_s1_collection(roi, '2019-05-01', '2019-06-30')\n"
   ]
  },
  {
   "cell_type": "code",
   "execution_count": 8,
   "metadata": {},
   "outputs": [
    {
     "data": {
      "text/plain": [
       "14"
      ]
     },
     "execution_count": 8,
     "metadata": {},
     "output_type": "execute_result"
    }
   ],
   "source": [
    "s1_collection.size().getInfo()"
   ]
  },
  {
   "cell_type": "code",
   "execution_count": 9,
   "metadata": {},
   "outputs": [
    {
     "data": {
      "text/html": [
       "<style type=\"text/css\">\n",
       "#T_e10c7 th {\n",
       "  text-align: left;\n",
       "}\n",
       "#T_e10c7_row0_col0, #T_e10c7_row0_col1, #T_e10c7_row0_col2, #T_e10c7_row0_col3, #T_e10c7_row0_col4, #T_e10c7_row0_col5, #T_e10c7_row0_col6, #T_e10c7_row0_col7, #T_e10c7_row0_col8, #T_e10c7_row0_col9, #T_e10c7_row0_col10, #T_e10c7_row0_col11, #T_e10c7_row0_col12, #T_e10c7_row0_col13, #T_e10c7_row0_col14, #T_e10c7_row1_col0, #T_e10c7_row1_col1, #T_e10c7_row1_col2, #T_e10c7_row1_col3, #T_e10c7_row1_col4, #T_e10c7_row1_col5, #T_e10c7_row1_col6, #T_e10c7_row1_col7, #T_e10c7_row1_col8, #T_e10c7_row1_col9, #T_e10c7_row1_col10, #T_e10c7_row1_col11, #T_e10c7_row1_col12, #T_e10c7_row1_col13, #T_e10c7_row1_col14, #T_e10c7_row2_col0, #T_e10c7_row2_col1, #T_e10c7_row2_col2, #T_e10c7_row2_col3, #T_e10c7_row2_col4, #T_e10c7_row2_col5, #T_e10c7_row2_col6, #T_e10c7_row2_col7, #T_e10c7_row2_col8, #T_e10c7_row2_col9, #T_e10c7_row2_col10, #T_e10c7_row2_col11, #T_e10c7_row2_col12, #T_e10c7_row2_col13, #T_e10c7_row2_col14, #T_e10c7_row3_col0, #T_e10c7_row3_col1, #T_e10c7_row3_col2, #T_e10c7_row3_col3, #T_e10c7_row3_col4, #T_e10c7_row3_col5, #T_e10c7_row3_col6, #T_e10c7_row3_col7, #T_e10c7_row3_col8, #T_e10c7_row3_col9, #T_e10c7_row3_col10, #T_e10c7_row3_col11, #T_e10c7_row3_col12, #T_e10c7_row3_col13, #T_e10c7_row3_col14, #T_e10c7_row4_col0, #T_e10c7_row4_col1, #T_e10c7_row4_col2, #T_e10c7_row4_col3, #T_e10c7_row4_col4, #T_e10c7_row4_col5, #T_e10c7_row4_col6, #T_e10c7_row4_col7, #T_e10c7_row4_col8, #T_e10c7_row4_col9, #T_e10c7_row4_col10, #T_e10c7_row4_col11, #T_e10c7_row4_col12, #T_e10c7_row4_col13, #T_e10c7_row4_col14, #T_e10c7_row5_col0, #T_e10c7_row5_col1, #T_e10c7_row5_col2, #T_e10c7_row5_col3, #T_e10c7_row5_col4, #T_e10c7_row5_col5, #T_e10c7_row5_col6, #T_e10c7_row5_col7, #T_e10c7_row5_col8, #T_e10c7_row5_col9, #T_e10c7_row5_col10, #T_e10c7_row5_col11, #T_e10c7_row5_col12, #T_e10c7_row5_col13, #T_e10c7_row5_col14, #T_e10c7_row6_col0, #T_e10c7_row6_col1, #T_e10c7_row6_col2, #T_e10c7_row6_col3, #T_e10c7_row6_col4, #T_e10c7_row6_col5, #T_e10c7_row6_col6, #T_e10c7_row6_col7, #T_e10c7_row6_col8, #T_e10c7_row6_col9, #T_e10c7_row6_col10, #T_e10c7_row6_col11, #T_e10c7_row6_col12, #T_e10c7_row6_col13, #T_e10c7_row6_col14, #T_e10c7_row7_col0, #T_e10c7_row7_col1, #T_e10c7_row7_col2, #T_e10c7_row7_col3, #T_e10c7_row7_col4, #T_e10c7_row7_col5, #T_e10c7_row7_col6, #T_e10c7_row7_col7, #T_e10c7_row7_col8, #T_e10c7_row7_col9, #T_e10c7_row7_col10, #T_e10c7_row7_col11, #T_e10c7_row7_col12, #T_e10c7_row7_col13, #T_e10c7_row7_col14, #T_e10c7_row8_col0, #T_e10c7_row8_col1, #T_e10c7_row8_col2, #T_e10c7_row8_col3, #T_e10c7_row8_col4, #T_e10c7_row8_col5, #T_e10c7_row8_col6, #T_e10c7_row8_col7, #T_e10c7_row8_col8, #T_e10c7_row8_col9, #T_e10c7_row8_col10, #T_e10c7_row8_col11, #T_e10c7_row8_col12, #T_e10c7_row8_col13, #T_e10c7_row8_col14, #T_e10c7_row9_col0, #T_e10c7_row9_col1, #T_e10c7_row9_col2, #T_e10c7_row9_col3, #T_e10c7_row9_col4, #T_e10c7_row9_col5, #T_e10c7_row9_col6, #T_e10c7_row9_col7, #T_e10c7_row9_col8, #T_e10c7_row9_col9, #T_e10c7_row9_col10, #T_e10c7_row9_col11, #T_e10c7_row9_col12, #T_e10c7_row9_col13, #T_e10c7_row9_col14, #T_e10c7_row10_col0, #T_e10c7_row10_col1, #T_e10c7_row10_col2, #T_e10c7_row10_col3, #T_e10c7_row10_col4, #T_e10c7_row10_col5, #T_e10c7_row10_col6, #T_e10c7_row10_col7, #T_e10c7_row10_col8, #T_e10c7_row10_col9, #T_e10c7_row10_col10, #T_e10c7_row10_col11, #T_e10c7_row10_col12, #T_e10c7_row10_col13, #T_e10c7_row10_col14, #T_e10c7_row11_col0, #T_e10c7_row11_col1, #T_e10c7_row11_col2, #T_e10c7_row11_col3, #T_e10c7_row11_col4, #T_e10c7_row11_col5, #T_e10c7_row11_col6, #T_e10c7_row11_col7, #T_e10c7_row11_col8, #T_e10c7_row11_col9, #T_e10c7_row11_col10, #T_e10c7_row11_col11, #T_e10c7_row11_col12, #T_e10c7_row11_col13, #T_e10c7_row11_col14, #T_e10c7_row12_col0, #T_e10c7_row12_col1, #T_e10c7_row12_col2, #T_e10c7_row12_col3, #T_e10c7_row12_col4, #T_e10c7_row12_col5, #T_e10c7_row12_col6, #T_e10c7_row12_col7, #T_e10c7_row12_col8, #T_e10c7_row12_col9, #T_e10c7_row12_col10, #T_e10c7_row12_col11, #T_e10c7_row12_col12, #T_e10c7_row12_col13, #T_e10c7_row12_col14, #T_e10c7_row13_col0, #T_e10c7_row13_col1, #T_e10c7_row13_col2, #T_e10c7_row13_col3, #T_e10c7_row13_col4, #T_e10c7_row13_col5, #T_e10c7_row13_col6, #T_e10c7_row13_col7, #T_e10c7_row13_col8, #T_e10c7_row13_col9, #T_e10c7_row13_col10, #T_e10c7_row13_col11, #T_e10c7_row13_col12, #T_e10c7_row13_col13, #T_e10c7_row13_col14 {\n",
       "  text-align: left;\n",
       "}\n",
       "</style>\n",
       "<table id=\"T_e10c7\">\n",
       "  <thead>\n",
       "    <tr>\n",
       "      <th class=\"blank level0\" >&nbsp;</th>\n",
       "      <th id=\"T_e10c7_level0_col0\" class=\"col_heading level0 col0\" >Property</th>\n",
       "      <th id=\"T_e10c7_level0_col1\" class=\"col_heading level0 col1\" >0</th>\n",
       "      <th id=\"T_e10c7_level0_col2\" class=\"col_heading level0 col2\" >1</th>\n",
       "      <th id=\"T_e10c7_level0_col3\" class=\"col_heading level0 col3\" >2</th>\n",
       "      <th id=\"T_e10c7_level0_col4\" class=\"col_heading level0 col4\" >3</th>\n",
       "      <th id=\"T_e10c7_level0_col5\" class=\"col_heading level0 col5\" >4</th>\n",
       "      <th id=\"T_e10c7_level0_col6\" class=\"col_heading level0 col6\" >5</th>\n",
       "      <th id=\"T_e10c7_level0_col7\" class=\"col_heading level0 col7\" >6</th>\n",
       "      <th id=\"T_e10c7_level0_col8\" class=\"col_heading level0 col8\" >7</th>\n",
       "      <th id=\"T_e10c7_level0_col9\" class=\"col_heading level0 col9\" >8</th>\n",
       "      <th id=\"T_e10c7_level0_col10\" class=\"col_heading level0 col10\" >9</th>\n",
       "      <th id=\"T_e10c7_level0_col11\" class=\"col_heading level0 col11\" >10</th>\n",
       "      <th id=\"T_e10c7_level0_col12\" class=\"col_heading level0 col12\" >11</th>\n",
       "      <th id=\"T_e10c7_level0_col13\" class=\"col_heading level0 col13\" >12</th>\n",
       "      <th id=\"T_e10c7_level0_col14\" class=\"col_heading level0 col14\" >13</th>\n",
       "    </tr>\n",
       "  </thead>\n",
       "  <tbody>\n",
       "    <tr>\n",
       "      <th id=\"T_e10c7_level0_row0\" class=\"row_heading level0 row0\" >0</th>\n",
       "      <td id=\"T_e10c7_row0_col0\" class=\"data row0 col0\" >system:time_start</td>\n",
       "      <td id=\"T_e10c7_row0_col1\" class=\"data row0 col1\" >2019-05-04</td>\n",
       "      <td id=\"T_e10c7_row0_col2\" class=\"data row0 col2\" >2019-05-16</td>\n",
       "      <td id=\"T_e10c7_row0_col3\" class=\"data row0 col3\" >2019-05-28</td>\n",
       "      <td id=\"T_e10c7_row0_col4\" class=\"data row0 col4\" >2019-06-09</td>\n",
       "      <td id=\"T_e10c7_row0_col5\" class=\"data row0 col5\" >2019-06-21</td>\n",
       "      <td id=\"T_e10c7_row0_col6\" class=\"data row0 col6\" >2019-05-03</td>\n",
       "      <td id=\"T_e10c7_row0_col7\" class=\"data row0 col7\" >2019-05-10</td>\n",
       "      <td id=\"T_e10c7_row0_col8\" class=\"data row0 col8\" >2019-05-15</td>\n",
       "      <td id=\"T_e10c7_row0_col9\" class=\"data row0 col9\" >2019-05-22</td>\n",
       "      <td id=\"T_e10c7_row0_col10\" class=\"data row0 col10\" >2019-06-03</td>\n",
       "      <td id=\"T_e10c7_row0_col11\" class=\"data row0 col11\" >2019-06-08</td>\n",
       "      <td id=\"T_e10c7_row0_col12\" class=\"data row0 col12\" >2019-06-15</td>\n",
       "      <td id=\"T_e10c7_row0_col13\" class=\"data row0 col13\" >2019-06-20</td>\n",
       "      <td id=\"T_e10c7_row0_col14\" class=\"data row0 col14\" >2019-06-27</td>\n",
       "    </tr>\n",
       "    <tr>\n",
       "      <th id=\"T_e10c7_level0_row1\" class=\"row_heading level0 row1\" >1</th>\n",
       "      <td id=\"T_e10c7_row1_col0\" class=\"data row1 col0\" >orbitProperties_pass</td>\n",
       "      <td id=\"T_e10c7_row1_col1\" class=\"data row1 col1\" >ASCENDING</td>\n",
       "      <td id=\"T_e10c7_row1_col2\" class=\"data row1 col2\" >ASCENDING</td>\n",
       "      <td id=\"T_e10c7_row1_col3\" class=\"data row1 col3\" >ASCENDING</td>\n",
       "      <td id=\"T_e10c7_row1_col4\" class=\"data row1 col4\" >ASCENDING</td>\n",
       "      <td id=\"T_e10c7_row1_col5\" class=\"data row1 col5\" >ASCENDING</td>\n",
       "      <td id=\"T_e10c7_row1_col6\" class=\"data row1 col6\" >ASCENDING</td>\n",
       "      <td id=\"T_e10c7_row1_col7\" class=\"data row1 col7\" >ASCENDING</td>\n",
       "      <td id=\"T_e10c7_row1_col8\" class=\"data row1 col8\" >ASCENDING</td>\n",
       "      <td id=\"T_e10c7_row1_col9\" class=\"data row1 col9\" >ASCENDING</td>\n",
       "      <td id=\"T_e10c7_row1_col10\" class=\"data row1 col10\" >ASCENDING</td>\n",
       "      <td id=\"T_e10c7_row1_col11\" class=\"data row1 col11\" >ASCENDING</td>\n",
       "      <td id=\"T_e10c7_row1_col12\" class=\"data row1 col12\" >ASCENDING</td>\n",
       "      <td id=\"T_e10c7_row1_col13\" class=\"data row1 col13\" >ASCENDING</td>\n",
       "      <td id=\"T_e10c7_row1_col14\" class=\"data row1 col14\" >ASCENDING</td>\n",
       "    </tr>\n",
       "    <tr>\n",
       "      <th id=\"T_e10c7_level0_row2\" class=\"row_heading level0 row2\" >2</th>\n",
       "      <td id=\"T_e10c7_row2_col0\" class=\"data row2 col0\" >resolution</td>\n",
       "      <td id=\"T_e10c7_row2_col1\" class=\"data row2 col1\" >H</td>\n",
       "      <td id=\"T_e10c7_row2_col2\" class=\"data row2 col2\" >H</td>\n",
       "      <td id=\"T_e10c7_row2_col3\" class=\"data row2 col3\" >H</td>\n",
       "      <td id=\"T_e10c7_row2_col4\" class=\"data row2 col4\" >H</td>\n",
       "      <td id=\"T_e10c7_row2_col5\" class=\"data row2 col5\" >H</td>\n",
       "      <td id=\"T_e10c7_row2_col6\" class=\"data row2 col6\" >H</td>\n",
       "      <td id=\"T_e10c7_row2_col7\" class=\"data row2 col7\" >H</td>\n",
       "      <td id=\"T_e10c7_row2_col8\" class=\"data row2 col8\" >H</td>\n",
       "      <td id=\"T_e10c7_row2_col9\" class=\"data row2 col9\" >H</td>\n",
       "      <td id=\"T_e10c7_row2_col10\" class=\"data row2 col10\" >H</td>\n",
       "      <td id=\"T_e10c7_row2_col11\" class=\"data row2 col11\" >H</td>\n",
       "      <td id=\"T_e10c7_row2_col12\" class=\"data row2 col12\" >H</td>\n",
       "      <td id=\"T_e10c7_row2_col13\" class=\"data row2 col13\" >H</td>\n",
       "      <td id=\"T_e10c7_row2_col14\" class=\"data row2 col14\" >H</td>\n",
       "    </tr>\n",
       "    <tr>\n",
       "      <th id=\"T_e10c7_level0_row3\" class=\"row_heading level0 row3\" >3</th>\n",
       "      <td id=\"T_e10c7_row3_col0\" class=\"data row3 col0\" >resolution_meters</td>\n",
       "      <td id=\"T_e10c7_row3_col1\" class=\"data row3 col1\" >10</td>\n",
       "      <td id=\"T_e10c7_row3_col2\" class=\"data row3 col2\" >10</td>\n",
       "      <td id=\"T_e10c7_row3_col3\" class=\"data row3 col3\" >10</td>\n",
       "      <td id=\"T_e10c7_row3_col4\" class=\"data row3 col4\" >10</td>\n",
       "      <td id=\"T_e10c7_row3_col5\" class=\"data row3 col5\" >10</td>\n",
       "      <td id=\"T_e10c7_row3_col6\" class=\"data row3 col6\" >10</td>\n",
       "      <td id=\"T_e10c7_row3_col7\" class=\"data row3 col7\" >10</td>\n",
       "      <td id=\"T_e10c7_row3_col8\" class=\"data row3 col8\" >10</td>\n",
       "      <td id=\"T_e10c7_row3_col9\" class=\"data row3 col9\" >10</td>\n",
       "      <td id=\"T_e10c7_row3_col10\" class=\"data row3 col10\" >10</td>\n",
       "      <td id=\"T_e10c7_row3_col11\" class=\"data row3 col11\" >10</td>\n",
       "      <td id=\"T_e10c7_row3_col12\" class=\"data row3 col12\" >10</td>\n",
       "      <td id=\"T_e10c7_row3_col13\" class=\"data row3 col13\" >10</td>\n",
       "      <td id=\"T_e10c7_row3_col14\" class=\"data row3 col14\" >10</td>\n",
       "    </tr>\n",
       "    <tr>\n",
       "      <th id=\"T_e10c7_level0_row4\" class=\"row_heading level0 row4\" >4</th>\n",
       "      <td id=\"T_e10c7_row4_col0\" class=\"data row4 col0\" >platform_number</td>\n",
       "      <td id=\"T_e10c7_row4_col1\" class=\"data row4 col1\" >A</td>\n",
       "      <td id=\"T_e10c7_row4_col2\" class=\"data row4 col2\" >A</td>\n",
       "      <td id=\"T_e10c7_row4_col3\" class=\"data row4 col3\" >A</td>\n",
       "      <td id=\"T_e10c7_row4_col4\" class=\"data row4 col4\" >A</td>\n",
       "      <td id=\"T_e10c7_row4_col5\" class=\"data row4 col5\" >A</td>\n",
       "      <td id=\"T_e10c7_row4_col6\" class=\"data row4 col6\" >B</td>\n",
       "      <td id=\"T_e10c7_row4_col7\" class=\"data row4 col7\" >B</td>\n",
       "      <td id=\"T_e10c7_row4_col8\" class=\"data row4 col8\" >B</td>\n",
       "      <td id=\"T_e10c7_row4_col9\" class=\"data row4 col9\" >B</td>\n",
       "      <td id=\"T_e10c7_row4_col10\" class=\"data row4 col10\" >B</td>\n",
       "      <td id=\"T_e10c7_row4_col11\" class=\"data row4 col11\" >B</td>\n",
       "      <td id=\"T_e10c7_row4_col12\" class=\"data row4 col12\" >B</td>\n",
       "      <td id=\"T_e10c7_row4_col13\" class=\"data row4 col13\" >B</td>\n",
       "      <td id=\"T_e10c7_row4_col14\" class=\"data row4 col14\" >B</td>\n",
       "    </tr>\n",
       "    <tr>\n",
       "      <th id=\"T_e10c7_level0_row5\" class=\"row_heading level0 row5\" >5</th>\n",
       "      <td id=\"T_e10c7_row5_col0\" class=\"data row5 col0\" >productType</td>\n",
       "      <td id=\"T_e10c7_row5_col1\" class=\"data row5 col1\" >GRD</td>\n",
       "      <td id=\"T_e10c7_row5_col2\" class=\"data row5 col2\" >GRD</td>\n",
       "      <td id=\"T_e10c7_row5_col3\" class=\"data row5 col3\" >GRD</td>\n",
       "      <td id=\"T_e10c7_row5_col4\" class=\"data row5 col4\" >GRD</td>\n",
       "      <td id=\"T_e10c7_row5_col5\" class=\"data row5 col5\" >GRD</td>\n",
       "      <td id=\"T_e10c7_row5_col6\" class=\"data row5 col6\" >GRD</td>\n",
       "      <td id=\"T_e10c7_row5_col7\" class=\"data row5 col7\" >GRD</td>\n",
       "      <td id=\"T_e10c7_row5_col8\" class=\"data row5 col8\" >GRD</td>\n",
       "      <td id=\"T_e10c7_row5_col9\" class=\"data row5 col9\" >GRD</td>\n",
       "      <td id=\"T_e10c7_row5_col10\" class=\"data row5 col10\" >GRD</td>\n",
       "      <td id=\"T_e10c7_row5_col11\" class=\"data row5 col11\" >GRD</td>\n",
       "      <td id=\"T_e10c7_row5_col12\" class=\"data row5 col12\" >GRD</td>\n",
       "      <td id=\"T_e10c7_row5_col13\" class=\"data row5 col13\" >GRD</td>\n",
       "      <td id=\"T_e10c7_row5_col14\" class=\"data row5 col14\" >GRD</td>\n",
       "    </tr>\n",
       "    <tr>\n",
       "      <th id=\"T_e10c7_level0_row6\" class=\"row_heading level0 row6\" >6</th>\n",
       "      <td id=\"T_e10c7_row6_col0\" class=\"data row6 col0\" >orbitNumber_start</td>\n",
       "      <td id=\"T_e10c7_row6_col1\" class=\"data row6 col1\" >27081</td>\n",
       "      <td id=\"T_e10c7_row6_col2\" class=\"data row6 col2\" >27256</td>\n",
       "      <td id=\"T_e10c7_row6_col3\" class=\"data row6 col3\" >27431</td>\n",
       "      <td id=\"T_e10c7_row6_col4\" class=\"data row6 col4\" >27606</td>\n",
       "      <td id=\"T_e10c7_row6_col5\" class=\"data row6 col5\" >27781</td>\n",
       "      <td id=\"T_e10c7_row6_col6\" class=\"data row6 col6\" >16083</td>\n",
       "      <td id=\"T_e10c7_row6_col7\" class=\"data row6 col7\" >16185</td>\n",
       "      <td id=\"T_e10c7_row6_col8\" class=\"data row6 col8\" >16258</td>\n",
       "      <td id=\"T_e10c7_row6_col9\" class=\"data row6 col9\" >16360</td>\n",
       "      <td id=\"T_e10c7_row6_col10\" class=\"data row6 col10\" >16535</td>\n",
       "      <td id=\"T_e10c7_row6_col11\" class=\"data row6 col11\" >16608</td>\n",
       "      <td id=\"T_e10c7_row6_col12\" class=\"data row6 col12\" >16710</td>\n",
       "      <td id=\"T_e10c7_row6_col13\" class=\"data row6 col13\" >16783</td>\n",
       "      <td id=\"T_e10c7_row6_col14\" class=\"data row6 col14\" >16885</td>\n",
       "    </tr>\n",
       "    <tr>\n",
       "      <th id=\"T_e10c7_level0_row7\" class=\"row_heading level0 row7\" >7</th>\n",
       "      <td id=\"T_e10c7_row7_col0\" class=\"data row7 col0\" >orbitNumber_stop</td>\n",
       "      <td id=\"T_e10c7_row7_col1\" class=\"data row7 col1\" >27081</td>\n",
       "      <td id=\"T_e10c7_row7_col2\" class=\"data row7 col2\" >27256</td>\n",
       "      <td id=\"T_e10c7_row7_col3\" class=\"data row7 col3\" >27431</td>\n",
       "      <td id=\"T_e10c7_row7_col4\" class=\"data row7 col4\" >27606</td>\n",
       "      <td id=\"T_e10c7_row7_col5\" class=\"data row7 col5\" >27781</td>\n",
       "      <td id=\"T_e10c7_row7_col6\" class=\"data row7 col6\" >16083</td>\n",
       "      <td id=\"T_e10c7_row7_col7\" class=\"data row7 col7\" >16185</td>\n",
       "      <td id=\"T_e10c7_row7_col8\" class=\"data row7 col8\" >16258</td>\n",
       "      <td id=\"T_e10c7_row7_col9\" class=\"data row7 col9\" >16360</td>\n",
       "      <td id=\"T_e10c7_row7_col10\" class=\"data row7 col10\" >16535</td>\n",
       "      <td id=\"T_e10c7_row7_col11\" class=\"data row7 col11\" >16608</td>\n",
       "      <td id=\"T_e10c7_row7_col12\" class=\"data row7 col12\" >16710</td>\n",
       "      <td id=\"T_e10c7_row7_col13\" class=\"data row7 col13\" >16783</td>\n",
       "      <td id=\"T_e10c7_row7_col14\" class=\"data row7 col14\" >16885</td>\n",
       "    </tr>\n",
       "    <tr>\n",
       "      <th id=\"T_e10c7_level0_row8\" class=\"row_heading level0 row8\" >8</th>\n",
       "      <td id=\"T_e10c7_row8_col0\" class=\"data row8 col0\" >transmitterReceiverPolarisation</td>\n",
       "      <td id=\"T_e10c7_row8_col1\" class=\"data row8 col1\" >['VV', 'VH']</td>\n",
       "      <td id=\"T_e10c7_row8_col2\" class=\"data row8 col2\" >['VV', 'VH']</td>\n",
       "      <td id=\"T_e10c7_row8_col3\" class=\"data row8 col3\" >['VV', 'VH']</td>\n",
       "      <td id=\"T_e10c7_row8_col4\" class=\"data row8 col4\" >['VV', 'VH']</td>\n",
       "      <td id=\"T_e10c7_row8_col5\" class=\"data row8 col5\" >['VV', 'VH']</td>\n",
       "      <td id=\"T_e10c7_row8_col6\" class=\"data row8 col6\" >['VV', 'VH']</td>\n",
       "      <td id=\"T_e10c7_row8_col7\" class=\"data row8 col7\" >['VV', 'VH']</td>\n",
       "      <td id=\"T_e10c7_row8_col8\" class=\"data row8 col8\" >['VV', 'VH']</td>\n",
       "      <td id=\"T_e10c7_row8_col9\" class=\"data row8 col9\" >['VV', 'VH']</td>\n",
       "      <td id=\"T_e10c7_row8_col10\" class=\"data row8 col10\" >['VV', 'VH']</td>\n",
       "      <td id=\"T_e10c7_row8_col11\" class=\"data row8 col11\" >['VV', 'VH']</td>\n",
       "      <td id=\"T_e10c7_row8_col12\" class=\"data row8 col12\" >['VV', 'VH']</td>\n",
       "      <td id=\"T_e10c7_row8_col13\" class=\"data row8 col13\" >['VV', 'VH']</td>\n",
       "      <td id=\"T_e10c7_row8_col14\" class=\"data row8 col14\" >['VV', 'VH']</td>\n",
       "    </tr>\n",
       "    <tr>\n",
       "      <th id=\"T_e10c7_level0_row9\" class=\"row_heading level0 row9\" >9</th>\n",
       "      <td id=\"T_e10c7_row9_col0\" class=\"data row9 col0\" >system:band_names</td>\n",
       "      <td id=\"T_e10c7_row9_col1\" class=\"data row9 col1\" >['VV', 'VH', 'angle']</td>\n",
       "      <td id=\"T_e10c7_row9_col2\" class=\"data row9 col2\" >['VV', 'VH', 'angle']</td>\n",
       "      <td id=\"T_e10c7_row9_col3\" class=\"data row9 col3\" >['VV', 'VH', 'angle']</td>\n",
       "      <td id=\"T_e10c7_row9_col4\" class=\"data row9 col4\" >['VV', 'VH', 'angle']</td>\n",
       "      <td id=\"T_e10c7_row9_col5\" class=\"data row9 col5\" >['VV', 'VH', 'angle']</td>\n",
       "      <td id=\"T_e10c7_row9_col6\" class=\"data row9 col6\" >['VV', 'VH', 'angle']</td>\n",
       "      <td id=\"T_e10c7_row9_col7\" class=\"data row9 col7\" >['VV', 'VH', 'angle']</td>\n",
       "      <td id=\"T_e10c7_row9_col8\" class=\"data row9 col8\" >['VV', 'VH', 'angle']</td>\n",
       "      <td id=\"T_e10c7_row9_col9\" class=\"data row9 col9\" >['VV', 'VH', 'angle']</td>\n",
       "      <td id=\"T_e10c7_row9_col10\" class=\"data row9 col10\" >['VV', 'VH', 'angle']</td>\n",
       "      <td id=\"T_e10c7_row9_col11\" class=\"data row9 col11\" >['VV', 'VH', 'angle']</td>\n",
       "      <td id=\"T_e10c7_row9_col12\" class=\"data row9 col12\" >['VV', 'VH', 'angle']</td>\n",
       "      <td id=\"T_e10c7_row9_col13\" class=\"data row9 col13\" >['VV', 'VH', 'angle']</td>\n",
       "      <td id=\"T_e10c7_row9_col14\" class=\"data row9 col14\" >['VV', 'VH', 'angle']</td>\n",
       "    </tr>\n",
       "    <tr>\n",
       "      <th id=\"T_e10c7_level0_row10\" class=\"row_heading level0 row10\" >10</th>\n",
       "      <td id=\"T_e10c7_row10_col0\" class=\"data row10 col0\" >instrumentMode</td>\n",
       "      <td id=\"T_e10c7_row10_col1\" class=\"data row10 col1\" >IW</td>\n",
       "      <td id=\"T_e10c7_row10_col2\" class=\"data row10 col2\" >IW</td>\n",
       "      <td id=\"T_e10c7_row10_col3\" class=\"data row10 col3\" >IW</td>\n",
       "      <td id=\"T_e10c7_row10_col4\" class=\"data row10 col4\" >IW</td>\n",
       "      <td id=\"T_e10c7_row10_col5\" class=\"data row10 col5\" >IW</td>\n",
       "      <td id=\"T_e10c7_row10_col6\" class=\"data row10 col6\" >IW</td>\n",
       "      <td id=\"T_e10c7_row10_col7\" class=\"data row10 col7\" >IW</td>\n",
       "      <td id=\"T_e10c7_row10_col8\" class=\"data row10 col8\" >IW</td>\n",
       "      <td id=\"T_e10c7_row10_col9\" class=\"data row10 col9\" >IW</td>\n",
       "      <td id=\"T_e10c7_row10_col10\" class=\"data row10 col10\" >IW</td>\n",
       "      <td id=\"T_e10c7_row10_col11\" class=\"data row10 col11\" >IW</td>\n",
       "      <td id=\"T_e10c7_row10_col12\" class=\"data row10 col12\" >IW</td>\n",
       "      <td id=\"T_e10c7_row10_col13\" class=\"data row10 col13\" >IW</td>\n",
       "      <td id=\"T_e10c7_row10_col14\" class=\"data row10 col14\" >IW</td>\n",
       "    </tr>\n",
       "    <tr>\n",
       "      <th id=\"T_e10c7_level0_row11\" class=\"row_heading level0 row11\" >11</th>\n",
       "      <td id=\"T_e10c7_row11_col0\" class=\"data row11 col0\" >relativeOrbitNumber_stop</td>\n",
       "      <td id=\"T_e10c7_row11_col1\" class=\"data row11 col1\" >59</td>\n",
       "      <td id=\"T_e10c7_row11_col2\" class=\"data row11 col2\" >59</td>\n",
       "      <td id=\"T_e10c7_row11_col3\" class=\"data row11 col3\" >59</td>\n",
       "      <td id=\"T_e10c7_row11_col4\" class=\"data row11 col4\" >59</td>\n",
       "      <td id=\"T_e10c7_row11_col5\" class=\"data row11 col5\" >59</td>\n",
       "      <td id=\"T_e10c7_row11_col6\" class=\"data row11 col6\" >132</td>\n",
       "      <td id=\"T_e10c7_row11_col7\" class=\"data row11 col7\" >59</td>\n",
       "      <td id=\"T_e10c7_row11_col8\" class=\"data row11 col8\" >132</td>\n",
       "      <td id=\"T_e10c7_row11_col9\" class=\"data row11 col9\" >59</td>\n",
       "      <td id=\"T_e10c7_row11_col10\" class=\"data row11 col10\" >59</td>\n",
       "      <td id=\"T_e10c7_row11_col11\" class=\"data row11 col11\" >132</td>\n",
       "      <td id=\"T_e10c7_row11_col12\" class=\"data row11 col12\" >59</td>\n",
       "      <td id=\"T_e10c7_row11_col13\" class=\"data row11 col13\" >132</td>\n",
       "      <td id=\"T_e10c7_row11_col14\" class=\"data row11 col14\" >59</td>\n",
       "    </tr>\n",
       "    <tr>\n",
       "      <th id=\"T_e10c7_level0_row12\" class=\"row_heading level0 row12\" >12</th>\n",
       "      <td id=\"T_e10c7_row12_col0\" class=\"data row12 col0\" >relativeOrbitNumber_start</td>\n",
       "      <td id=\"T_e10c7_row12_col1\" class=\"data row12 col1\" >59</td>\n",
       "      <td id=\"T_e10c7_row12_col2\" class=\"data row12 col2\" >59</td>\n",
       "      <td id=\"T_e10c7_row12_col3\" class=\"data row12 col3\" >59</td>\n",
       "      <td id=\"T_e10c7_row12_col4\" class=\"data row12 col4\" >59</td>\n",
       "      <td id=\"T_e10c7_row12_col5\" class=\"data row12 col5\" >59</td>\n",
       "      <td id=\"T_e10c7_row12_col6\" class=\"data row12 col6\" >132</td>\n",
       "      <td id=\"T_e10c7_row12_col7\" class=\"data row12 col7\" >59</td>\n",
       "      <td id=\"T_e10c7_row12_col8\" class=\"data row12 col8\" >132</td>\n",
       "      <td id=\"T_e10c7_row12_col9\" class=\"data row12 col9\" >59</td>\n",
       "      <td id=\"T_e10c7_row12_col10\" class=\"data row12 col10\" >59</td>\n",
       "      <td id=\"T_e10c7_row12_col11\" class=\"data row12 col11\" >132</td>\n",
       "      <td id=\"T_e10c7_row12_col12\" class=\"data row12 col12\" >59</td>\n",
       "      <td id=\"T_e10c7_row12_col13\" class=\"data row12 col13\" >132</td>\n",
       "      <td id=\"T_e10c7_row12_col14\" class=\"data row12 col14\" >59</td>\n",
       "    </tr>\n",
       "    <tr>\n",
       "      <th id=\"T_e10c7_level0_row13\" class=\"row_heading level0 row13\" >13</th>\n",
       "      <td id=\"T_e10c7_row13_col0\" class=\"data row13 col0\" >cycleNumber</td>\n",
       "      <td id=\"T_e10c7_row13_col1\" class=\"data row13 col1\" >169</td>\n",
       "      <td id=\"T_e10c7_row13_col2\" class=\"data row13 col2\" >170</td>\n",
       "      <td id=\"T_e10c7_row13_col3\" class=\"data row13 col3\" >171</td>\n",
       "      <td id=\"T_e10c7_row13_col4\" class=\"data row13 col4\" >172</td>\n",
       "      <td id=\"T_e10c7_row13_col5\" class=\"data row13 col5\" >173</td>\n",
       "      <td id=\"T_e10c7_row13_col6\" class=\"data row13 col6\" >98</td>\n",
       "      <td id=\"T_e10c7_row13_col7\" class=\"data row13 col7\" >99</td>\n",
       "      <td id=\"T_e10c7_row13_col8\" class=\"data row13 col8\" >99</td>\n",
       "      <td id=\"T_e10c7_row13_col9\" class=\"data row13 col9\" >100</td>\n",
       "      <td id=\"T_e10c7_row13_col10\" class=\"data row13 col10\" >101</td>\n",
       "      <td id=\"T_e10c7_row13_col11\" class=\"data row13 col11\" >101</td>\n",
       "      <td id=\"T_e10c7_row13_col12\" class=\"data row13 col12\" >102</td>\n",
       "      <td id=\"T_e10c7_row13_col13\" class=\"data row13 col13\" >102</td>\n",
       "      <td id=\"T_e10c7_row13_col14\" class=\"data row13 col14\" >103</td>\n",
       "    </tr>\n",
       "  </tbody>\n",
       "</table>\n"
      ],
      "text/plain": [
       "<pandas.io.formats.style.Styler at 0x1b3e9ec1d90>"
      ]
     },
     "execution_count": 9,
     "metadata": {},
     "output_type": "execute_result"
    }
   ],
   "source": [
    "ee_utils.sen1_print(s1_collection)"
   ]
  },
  {
   "cell_type": "code",
   "execution_count": 10,
   "metadata": {},
   "outputs": [],
   "source": [
    "s1_mosaic = ee_utils.get_combined_s1_image(roi, '2019-05-01', '2019-06-30')\n",
    "s1_mosaic = ee_utils.sen1_add_ratio(s1_mosaic, vv_name='VV', vh_name='VH', ratio_name='ratio')\n",
    "\n",
    "false_color = {\n",
    "    'bands': ['VV', 'VH', 'ratio'],\n",
    "    'min': [-25, -35, 0],\n",
    "    'max': [0, -5, 10]\n",
    "}\n",
    "Map.addLayer(s1_mosaic, false_color, 'S1 Mosaic')\n",
    "Map.centerObject(roi, 10)"
   ]
  },
  {
   "cell_type": "code",
   "execution_count": 11,
   "metadata": {},
   "outputs": [],
   "source": [
    "crop_map = ee.Image('JRC/D5/EUCROPMAP/V1/2018')\n",
    "Map.addLayer(crop_map, {}, 'Crop Map')"
   ]
  },
  {
   "cell_type": "code",
   "execution_count": 12,
   "metadata": {},
   "outputs": [
    {
     "data": {
      "text/html": [
       "<div><style>:root {\n",
       "  --font-color-primary: var(--jp-content-font-color0, rgba(0, 0, 0, 1));\n",
       "  --font-color-secondary: var(--jp-content-font-color2, rgba(0, 0, 0, 0.6));\n",
       "  --font-color-accent: rgba(123, 31, 162, 1);\n",
       "  --border-color: var(--jp-border-color2, #e0e0e0);\n",
       "  --background-color: var(--jp-layout-color0, white);\n",
       "  --background-color-row-even: var(--jp-layout-color1, white);\n",
       "  --background-color-row-odd: var(--jp-layout-color2, #eeeeee);\n",
       "}\n",
       "\n",
       "html[theme=\"dark\"],\n",
       "body[data-theme=\"dark\"],\n",
       "body.vscode-dark {\n",
       "  --font-color-primary: rgba(255, 255, 255, 1);\n",
       "  --font-color-secondary: rgba(255, 255, 255, 0.6);\n",
       "  --font-color-accent: rgb(173, 132, 190);\n",
       "  --border-color: #2e2e2e;\n",
       "  --background-color: #111111;\n",
       "  --background-color-row-even: #111111;\n",
       "  --background-color-row-odd: #313131;\n",
       "}\n",
       "\n",
       ".ee {\n",
       "  padding: 1em;\n",
       "  line-height: 1.5em;\n",
       "  min-width: 300px;\n",
       "  max-width: 1200px;\n",
       "  overflow-y: scroll;\n",
       "  max-height: 600px;\n",
       "  border: 1px solid var(--border-color);\n",
       "  font-family: monospace;\n",
       "}\n",
       "\n",
       ".ee li {\n",
       "  list-style-type: none;\n",
       "}\n",
       "\n",
       ".ee ul {\n",
       "  padding-left: 1.5em !important;\n",
       "  margin: 0;\n",
       "}\n",
       "\n",
       ".ee > ul {\n",
       "  padding-left: 0 !important;\n",
       "}\n",
       "\n",
       ".ee-open,\n",
       ".ee-shut {\n",
       "  color: var(--font-color-secondary);\n",
       "  cursor: pointer;\n",
       "  margin: 0;\n",
       "}\n",
       "\n",
       ".ee-open:hover,\n",
       ".ee-shut:hover {\n",
       "  color: var(--font-color-primary);\n",
       "}\n",
       "\n",
       ".ee-k {\n",
       "  color: var(--font-color-accent);\n",
       "  margin-right: 6px;\n",
       "}\n",
       "\n",
       ".ee-v {\n",
       "  color: var(--font-color-primary);\n",
       "}\n",
       "\n",
       ".ee-toggle {\n",
       "  display: none;\n",
       "}\n",
       "\n",
       ".ee-shut + ul {\n",
       "  display: none;\n",
       "}\n",
       "\n",
       ".ee-open + ul {\n",
       "  display: block;\n",
       "}\n",
       "\n",
       ".ee-shut::before {\n",
       "  display: inline-block;\n",
       "  content: \"▼\";\n",
       "  margin-right: 6px;\n",
       "  transform: rotate(-90deg);\n",
       "  transition: transform 0.2s;\n",
       "}\n",
       "\n",
       ".ee-open::before {\n",
       "  transform: rotate(0deg);\n",
       "  display: inline-block;\n",
       "  content: \"▼\";\n",
       "  margin-right: 6px;\n",
       "  transition: transform 0.2s;\n",
       "}\n",
       "</style><div class='ee'><ul><li><label class='ee-shut'>Image (3 bands)<input type='checkbox' class='ee-toggle'></label><ul><li><span class='ee-k'>type:</span><span class='ee-v'>Image</span></li><li><label class='ee-shut'>bands: List (3 elements)<input type='checkbox' class='ee-toggle'></label><ul><li><label class='ee-shut'>0: \"VV\", double, EPSG:4326, 2x2 px<input type='checkbox' class='ee-toggle'></label><ul><li><span class='ee-k'>id:</span><span class='ee-v'>VV</span></li><li><span class='ee-k'>crs:</span><span class='ee-v'>EPSG:4326</span></li><li><label class='ee-shut'>crs_transform: [1, 0, 0, 0, 1, 0]<input type='checkbox' class='ee-toggle'></label><ul><li><span class='ee-k'>0:</span><span class='ee-v'>1</span></li><li><span class='ee-k'>1:</span><span class='ee-v'>0</span></li><li><span class='ee-k'>2:</span><span class='ee-v'>0</span></li><li><span class='ee-k'>3:</span><span class='ee-v'>0</span></li><li><span class='ee-k'>4:</span><span class='ee-v'>1</span></li><li><span class='ee-k'>5:</span><span class='ee-v'>0</span></li></ul></li><li><label class='ee-shut'>data_type: double<input type='checkbox' class='ee-toggle'></label><ul><li><span class='ee-k'>type:</span><span class='ee-v'>PixelType</span></li><li><span class='ee-k'>precision:</span><span class='ee-v'>double</span></li></ul></li><li><label class='ee-shut'>dimensions: [2, 2]<input type='checkbox' class='ee-toggle'></label><ul><li><span class='ee-k'>0:</span><span class='ee-v'>2</span></li><li><span class='ee-k'>1:</span><span class='ee-v'>2</span></li></ul></li><li><label class='ee-shut'>origin: [1, 47]<input type='checkbox' class='ee-toggle'></label><ul><li><span class='ee-k'>0:</span><span class='ee-v'>1</span></li><li><span class='ee-k'>1:</span><span class='ee-v'>47</span></li></ul></li></ul></li><li><label class='ee-shut'>1: \"VH\", double, EPSG:4326, 2x2 px<input type='checkbox' class='ee-toggle'></label><ul><li><span class='ee-k'>id:</span><span class='ee-v'>VH</span></li><li><span class='ee-k'>crs:</span><span class='ee-v'>EPSG:4326</span></li><li><label class='ee-shut'>crs_transform: [1, 0, 0, 0, 1, 0]<input type='checkbox' class='ee-toggle'></label><ul><li><span class='ee-k'>0:</span><span class='ee-v'>1</span></li><li><span class='ee-k'>1:</span><span class='ee-v'>0</span></li><li><span class='ee-k'>2:</span><span class='ee-v'>0</span></li><li><span class='ee-k'>3:</span><span class='ee-v'>0</span></li><li><span class='ee-k'>4:</span><span class='ee-v'>1</span></li><li><span class='ee-k'>5:</span><span class='ee-v'>0</span></li></ul></li><li><label class='ee-shut'>data_type: double<input type='checkbox' class='ee-toggle'></label><ul><li><span class='ee-k'>type:</span><span class='ee-v'>PixelType</span></li><li><span class='ee-k'>precision:</span><span class='ee-v'>double</span></li></ul></li><li><label class='ee-shut'>dimensions: [2, 2]<input type='checkbox' class='ee-toggle'></label><ul><li><span class='ee-k'>0:</span><span class='ee-v'>2</span></li><li><span class='ee-k'>1:</span><span class='ee-v'>2</span></li></ul></li><li><label class='ee-shut'>origin: [1, 47]<input type='checkbox' class='ee-toggle'></label><ul><li><span class='ee-k'>0:</span><span class='ee-v'>1</span></li><li><span class='ee-k'>1:</span><span class='ee-v'>47</span></li></ul></li></ul></li><li><label class='ee-shut'>2: \"ratio\", double, EPSG:4326, 2x2 px<input type='checkbox' class='ee-toggle'></label><ul><li><span class='ee-k'>id:</span><span class='ee-v'>ratio</span></li><li><span class='ee-k'>crs:</span><span class='ee-v'>EPSG:4326</span></li><li><label class='ee-shut'>crs_transform: [1, 0, 0, 0, 1, 0]<input type='checkbox' class='ee-toggle'></label><ul><li><span class='ee-k'>0:</span><span class='ee-v'>1</span></li><li><span class='ee-k'>1:</span><span class='ee-v'>0</span></li><li><span class='ee-k'>2:</span><span class='ee-v'>0</span></li><li><span class='ee-k'>3:</span><span class='ee-v'>0</span></li><li><span class='ee-k'>4:</span><span class='ee-v'>1</span></li><li><span class='ee-k'>5:</span><span class='ee-v'>0</span></li></ul></li><li><label class='ee-shut'>data_type: double<input type='checkbox' class='ee-toggle'></label><ul><li><span class='ee-k'>type:</span><span class='ee-v'>PixelType</span></li><li><span class='ee-k'>precision:</span><span class='ee-v'>double</span></li></ul></li><li><label class='ee-shut'>dimensions: [2, 2]<input type='checkbox' class='ee-toggle'></label><ul><li><span class='ee-k'>0:</span><span class='ee-v'>2</span></li><li><span class='ee-k'>1:</span><span class='ee-v'>2</span></li></ul></li><li><label class='ee-shut'>origin: [1, 47]<input type='checkbox' class='ee-toggle'></label><ul><li><span class='ee-k'>0:</span><span class='ee-v'>1</span></li><li><span class='ee-k'>1:</span><span class='ee-v'>47</span></li></ul></li></ul></li></ul></li><li><label class='ee-shut'>properties: Object (1 property)<input type='checkbox' class='ee-toggle'></label><ul><li><label class='ee-shut'>system:footprint: Polygon (5 vertices)<input type='checkbox' class='ee-toggle'></label><ul><li><span class='ee-k'>type:</span><span class='ee-v'>Polygon</span></li><li><label class='ee-shut'>coordinates: List (1 element)<input type='checkbox' class='ee-toggle'></label><ul><li><label class='ee-shut'>0: List (5 elements)<input type='checkbox' class='ee-toggle'></label><ul><li><label class='ee-shut'>0: [2.220233, 48.116767]<input type='checkbox' class='ee-toggle'></label><ul><li><span class='ee-k'>0:</span><span class='ee-v'>2.220233</span></li><li><span class='ee-k'>1:</span><span class='ee-v'>48.116767</span></li></ul></li><li><label class='ee-shut'>1: [2.301807, 48.116767]<input type='checkbox' class='ee-toggle'></label><ul><li><span class='ee-k'>0:</span><span class='ee-v'>2.301807</span></li><li><span class='ee-k'>1:</span><span class='ee-v'>48.116767</span></li></ul></li><li><label class='ee-shut'>2: [2.301807, 48.167835]<input type='checkbox' class='ee-toggle'></label><ul><li><span class='ee-k'>0:</span><span class='ee-v'>2.301807</span></li><li><span class='ee-k'>1:</span><span class='ee-v'>48.167835</span></li></ul></li><li><label class='ee-shut'>3: [2.220233, 48.167835]<input type='checkbox' class='ee-toggle'></label><ul><li><span class='ee-k'>0:</span><span class='ee-v'>2.220233</span></li><li><span class='ee-k'>1:</span><span class='ee-v'>48.167835</span></li></ul></li><li><label class='ee-shut'>4: [2.220233, 48.116767]<input type='checkbox' class='ee-toggle'></label><ul><li><span class='ee-k'>0:</span><span class='ee-v'>2.220233</span></li><li><span class='ee-k'>1:</span><span class='ee-v'>48.116767</span></li></ul></li></ul></li></ul></li></ul></li></ul></li></ul></li></ul></div><script>function toggleHeader() {\n",
       "    const parent = this.parentElement;\n",
       "    parent.className = parent.className === \"ee-open\" ? \"ee-shut\" : \"ee-open\";\n",
       "}\n",
       "\n",
       "for (let c of document.getElementsByClassName(\"ee-toggle\")) {\n",
       "    c.onclick = toggleHeader;\n",
       "}</script></div>"
      ],
      "text/plain": [
       "<ee.image.Image at 0x1b3fedf4e50>"
      ]
     },
     "execution_count": 12,
     "metadata": {},
     "output_type": "execute_result"
    }
   ],
   "source": [
    "s1_mosaic"
   ]
  },
  {
   "cell_type": "code",
   "execution_count": 13,
   "metadata": {},
   "outputs": [
    {
     "data": {
      "application/vnd.jupyter.widget-view+json": {
       "model_id": "f4ccf876d1c9468699e9b8985aa1ff20",
       "version_major": 2,
       "version_minor": 0
      },
      "text/plain": [
       "Map(center=[48.14230398135283, 2.2610199999944824], controls=(WidgetControl(options=['position', 'transparent_…"
      ]
     },
     "metadata": {},
     "output_type": "display_data"
    }
   ],
   "source": [
    "Map"
   ]
  },
  {
   "cell_type": "code",
   "execution_count": 14,
   "metadata": {},
   "outputs": [
    {
     "ename": "AttributeError",
     "evalue": "'NoneType' object has no attribute 'geometry'",
     "output_type": "error",
     "traceback": [
      "\u001b[1;31m---------------------------------------------------------------------------\u001b[0m",
      "\u001b[1;31mAttributeError\u001b[0m                            Traceback (most recent call last)",
      "\u001b[1;32md:\\python\\CropMapping\\dataset\\CM_dataset_creator.ipynb Cell 14\u001b[0m line \u001b[0;36m2\n\u001b[0;32m      <a href='vscode-notebook-cell:/d%3A/python/CropMapping/dataset/CM_dataset_creator.ipynb#X15sZmlsZQ%3D%3D?line=0'>1</a>\u001b[0m \u001b[39m# get roi from polygon geemap\u001b[39;00m\n\u001b[1;32m----> <a href='vscode-notebook-cell:/d%3A/python/CropMapping/dataset/CM_dataset_creator.ipynb#X15sZmlsZQ%3D%3D?line=1'>2</a>\u001b[0m roi \u001b[39m=\u001b[39m Map\u001b[39m.\u001b[39;49mdraw_last_feature\u001b[39m.\u001b[39;49mgeometry()\n\u001b[0;32m      <a href='vscode-notebook-cell:/d%3A/python/CropMapping/dataset/CM_dataset_creator.ipynb#X15sZmlsZQ%3D%3D?line=2'>3</a>\u001b[0m \u001b[39mprint\u001b[39m(roi)\n",
      "\u001b[1;31mAttributeError\u001b[0m: 'NoneType' object has no attribute 'geometry'"
     ]
    }
   ],
   "source": [
    "# get roi from polygon geemap\n",
    "# roi = Map.draw_last_feature.geometry()\n",
    "# print(roi)"
   ]
  },
  {
   "cell_type": "code",
   "execution_count": 15,
   "metadata": {},
   "outputs": [
    {
     "name": "stdout",
     "output_type": "stream",
     "text": [
      "{'type': 'Polygon', 'coordinates': [[[2.220233, 48.116767], [2.301807, 48.116767], [2.301807, 48.167835], [2.220233, 48.167835], [2.220233, 48.116767]]]}\n"
     ]
    }
   ],
   "source": [
    "print(roi.getInfo())"
   ]
  },
  {
   "cell_type": "code",
   "execution_count": 16,
   "metadata": {},
   "outputs": [],
   "source": [
    "sen1_short_print = lambda s2_collection: ee_utils.ee_property_printer(s2_collection, propertie_name_list=['system:time_start','platform_number',\n",
    "                                                                                           'system:band_names','instrumentMode',                         \n",
    "                                                                                            'relativeOrbitNumber_stop','relativeOrbitNumber_start',\n",
    "                                                                                            'cycleNumber'],\n",
    "                                                             first_is_t_in_millis=True, df_instead_of_print=False)"
   ]
  },
  {
   "cell_type": "code",
   "execution_count": 20,
   "metadata": {},
   "outputs": [],
   "source": [
    "def download_s1_s2(roi, start_date, end_date, scale=10, bands=['B2','B3','B4'], proj='EPSG:3857'):\n",
    "    s1_img = ee_utils.get_combined_s1_image(roi, start_date, end_date)\n",
    "    s2_img = ee_utils.get_combined_s2_image(roi, start_date, end_date)\n",
    "    s2_img = s2_img.select(bands)\n",
    "    # EPSG:4326 or EPSG:3857\n",
    "    geemap.download_ee_image(s1_img, \"s1\"+\".tif\",crs=proj, scale=scale,region = roi)\n",
    "    geemap.download_ee_image(s2_img, \"s2\"+\".tif\",crs=proj, scale=scale,region = roi)"
   ]
  },
  {
   "cell_type": "code",
   "execution_count": 21,
   "metadata": {},
   "outputs": [
    {
     "data": {
      "application/vnd.jupyter.widget-view+json": {
       "model_id": "b96e25f8780f4b83b49d21c7c3ffc11c",
       "version_major": 2,
       "version_minor": 0
      },
      "text/plain": [
       "s1.tif: |          | 0.00/12.4M (raw) [  0.0%] in 00:00 (eta:     ?)"
      ]
     },
     "metadata": {},
     "output_type": "display_data"
    },
    {
     "name": "stderr",
     "output_type": "stream",
     "text": [
      "There is no STAC entry for: None\n"
     ]
    },
    {
     "data": {
      "application/vnd.jupyter.widget-view+json": {
       "model_id": "188cac88dcb340a092e2c26827779528",
       "version_major": 2,
       "version_minor": 0
      },
      "text/plain": [
       "s2.tif: |          | 0.00/9.30M (raw) [  0.0%] in 00:00 (eta:     ?)"
      ]
     },
     "metadata": {},
     "output_type": "display_data"
    },
    {
     "ename": "PermissionError",
     "evalue": "[WinError 32] The process cannot access the file because it is being used by another process: 'crop_map.tif'",
     "output_type": "error",
     "traceback": [
      "\u001b[1;31m---------------------------------------------------------------------------\u001b[0m",
      "\u001b[1;31mPermissionError\u001b[0m                           Traceback (most recent call last)",
      "\u001b[1;32md:\\python\\CropMapping\\dataset\\CM_dataset_creator.ipynb Cell 18\u001b[0m line \u001b[0;36m1\n\u001b[1;32m----> <a href='vscode-notebook-cell:/d%3A/python/CropMapping/dataset/CM_dataset_creator.ipynb#X21sZmlsZQ%3D%3D?line=0'>1</a>\u001b[0m download_s1_s2(roi, \u001b[39m'\u001b[39;49m\u001b[39m2019-05-01\u001b[39;49m\u001b[39m'\u001b[39;49m, \u001b[39m'\u001b[39;49m\u001b[39m2019-06-30\u001b[39;49m\u001b[39m'\u001b[39;49m, scale\u001b[39m=\u001b[39;49m\u001b[39m10\u001b[39;49m, bands\u001b[39m=\u001b[39;49m[\u001b[39m'\u001b[39;49m\u001b[39mB2\u001b[39;49m\u001b[39m'\u001b[39;49m,\u001b[39m'\u001b[39;49m\u001b[39mB3\u001b[39;49m\u001b[39m'\u001b[39;49m,\u001b[39m'\u001b[39;49m\u001b[39mB4\u001b[39;49m\u001b[39m'\u001b[39;49m])\n",
      "\u001b[1;32md:\\python\\CropMapping\\dataset\\CM_dataset_creator.ipynb Cell 18\u001b[0m line \u001b[0;36m9\n\u001b[0;32m      <a href='vscode-notebook-cell:/d%3A/python/CropMapping/dataset/CM_dataset_creator.ipynb#X21sZmlsZQ%3D%3D?line=6'>7</a>\u001b[0m geemap\u001b[39m.\u001b[39mdownload_ee_image(s1_img, \u001b[39m\"\u001b[39m\u001b[39ms1\u001b[39m\u001b[39m\"\u001b[39m\u001b[39m+\u001b[39m\u001b[39m\"\u001b[39m\u001b[39m.tif\u001b[39m\u001b[39m\"\u001b[39m,crs\u001b[39m=\u001b[39mproj, scale\u001b[39m=\u001b[39mscale,region \u001b[39m=\u001b[39m roi)\n\u001b[0;32m      <a href='vscode-notebook-cell:/d%3A/python/CropMapping/dataset/CM_dataset_creator.ipynb#X21sZmlsZQ%3D%3D?line=7'>8</a>\u001b[0m geemap\u001b[39m.\u001b[39mdownload_ee_image(s2_img, \u001b[39m\"\u001b[39m\u001b[39ms2\u001b[39m\u001b[39m\"\u001b[39m\u001b[39m+\u001b[39m\u001b[39m\"\u001b[39m\u001b[39m.tif\u001b[39m\u001b[39m\"\u001b[39m,crs\u001b[39m=\u001b[39mproj, scale\u001b[39m=\u001b[39mscale,region \u001b[39m=\u001b[39m roi)\n\u001b[1;32m----> <a href='vscode-notebook-cell:/d%3A/python/CropMapping/dataset/CM_dataset_creator.ipynb#X21sZmlsZQ%3D%3D?line=8'>9</a>\u001b[0m geemap\u001b[39m.\u001b[39;49mdownload_ee_image(crop_map, \u001b[39m\"\u001b[39;49m\u001b[39mcrop_map\u001b[39;49m\u001b[39m\"\u001b[39;49m\u001b[39m+\u001b[39;49m\u001b[39m\"\u001b[39;49m\u001b[39m.tif\u001b[39;49m\u001b[39m\"\u001b[39;49m,crs\u001b[39m=\u001b[39;49mproj, scale\u001b[39m=\u001b[39;49mscale,region \u001b[39m=\u001b[39;49m roi)\n",
      "File \u001b[1;32mc:\\Users\\moi3n\\miniconda3\\envs\\geemap\\lib\\site-packages\\geemap\\common.py:12522\u001b[0m, in \u001b[0;36mdownload_ee_image\u001b[1;34m(image, filename, region, crs, crs_transform, scale, resampling, dtype, overwrite, num_threads, max_tile_size, max_tile_dim, shape, scale_offset, unmask_value, **kwargs)\u001b[0m\n\u001b[0;32m  12519\u001b[0m     kwargs[\u001b[39m\"\u001b[39m\u001b[39mscale_offset\u001b[39m\u001b[39m\"\u001b[39m] \u001b[39m=\u001b[39m scale_offset\n\u001b[0;32m  12521\u001b[0m img \u001b[39m=\u001b[39m gd\u001b[39m.\u001b[39mdownload\u001b[39m.\u001b[39mBaseImage(image)\n\u001b[1;32m> 12522\u001b[0m img\u001b[39m.\u001b[39mdownload(filename, overwrite\u001b[39m=\u001b[39moverwrite, num_threads\u001b[39m=\u001b[39mnum_threads, \u001b[39m*\u001b[39m\u001b[39m*\u001b[39mkwargs)\n",
      "File \u001b[1;32mc:\\Users\\moi3n\\miniconda3\\envs\\geemap\\lib\\site-packages\\geedim\\download.py:875\u001b[0m, in \u001b[0;36mBaseImage.download\u001b[1;34m(self, filename, overwrite, num_threads, max_tile_size, max_tile_dim, **kwargs)\u001b[0m\n\u001b[0;32m    873\u001b[0m \u001b[39mif\u001b[39;00m filename\u001b[39m.\u001b[39mexists():\n\u001b[0;32m    874\u001b[0m     \u001b[39mif\u001b[39;00m overwrite:\n\u001b[1;32m--> 875\u001b[0m         os\u001b[39m.\u001b[39;49mremove(filename)\n\u001b[0;32m    876\u001b[0m     \u001b[39melse\u001b[39;00m:\n\u001b[0;32m    877\u001b[0m         \u001b[39mraise\u001b[39;00m \u001b[39mFileExistsError\u001b[39;00m(\u001b[39mf\u001b[39m\u001b[39m'\u001b[39m\u001b[39m{\u001b[39;00mfilename\u001b[39m}\u001b[39;00m\u001b[39m exists\u001b[39m\u001b[39m'\u001b[39m)\n",
      "\u001b[1;31mPermissionError\u001b[0m: [WinError 32] The process cannot access the file because it is being used by another process: 'crop_map.tif'"
     ]
    }
   ],
   "source": [
    "download_s1_s2(roi, '2019-05-01', '2019-06-30', scale=10, bands=['B2','B3','B4'])"
   ]
  },
  {
   "cell_type": "code",
   "execution_count": 22,
   "metadata": {},
   "outputs": [
    {
     "data": {
      "application/vnd.jupyter.widget-view+json": {
       "model_id": "744ac79097ac44a682f92454fc82c186",
       "version_major": 2,
       "version_minor": 0
      },
      "text/plain": [
       "crop_map.tif: |          | 0.00/1.55M (raw) [  0.0%] in 00:00 (eta:     ?)"
      ]
     },
     "metadata": {},
     "output_type": "display_data"
    }
   ],
   "source": [
    "crop_map = ee.Image('JRC/D5/EUCROPMAP/V1/2018').clip(roi)\n",
    "geemap.download_ee_image(crop_map, \"crop_map\"+\".tif\",crs='EPSG:3857', scale=10,region = roi)"
   ]
  },
  {
   "cell_type": "code",
   "execution_count": null,
   "metadata": {},
   "outputs": [],
   "source": []
  }
 ],
 "metadata": {
  "kernelspec": {
   "display_name": "geemap",
   "language": "python",
   "name": "python3"
  },
  "language_info": {
   "codemirror_mode": {
    "name": "ipython",
    "version": 3
   },
   "file_extension": ".py",
   "mimetype": "text/x-python",
   "name": "python",
   "nbconvert_exporter": "python",
   "pygments_lexer": "ipython3",
   "version": "3.9.16"
  }
 },
 "nbformat": 4,
 "nbformat_minor": 2
}
