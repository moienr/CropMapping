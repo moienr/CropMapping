{
 "cells": [
  {
   "cell_type": "code",
   "execution_count": 1,
   "metadata": {},
   "outputs": [],
   "source": [
    "import ee\n",
    "import geemap\n",
    "import importlib"
   ]
  },
  {
   "cell_type": "code",
   "execution_count": 2,
   "metadata": {},
   "outputs": [],
   "source": [
    "Map = geemap.Map()"
   ]
  },
  {
   "cell_type": "code",
   "execution_count": 3,
   "metadata": {},
   "outputs": [],
   "source": [
    "ee.Initialize()"
   ]
  },
  {
   "cell_type": "code",
   "execution_count": 4,
   "metadata": {},
   "outputs": [],
   "source": [
    "import utils.ee_utils as ee_utils"
   ]
  },
  {
   "cell_type": "code",
   "execution_count": 5,
   "metadata": {},
   "outputs": [
    {
     "data": {
      "text/plain": [
       "<module 'utils.ee_utils' from 'd:\\\\python\\\\CropMapping\\\\dataset\\\\utils\\\\ee_utils.py'>"
      ]
     },
     "execution_count": 5,
     "metadata": {},
     "output_type": "execute_result"
    }
   ],
   "source": [
    "# Reload the module\n",
    "importlib.reload(ee_utils)"
   ]
  },
  {
   "cell_type": "code",
   "execution_count": 6,
   "metadata": {},
   "outputs": [],
   "source": [
    "\n",
    "# Define area of interest.\n",
    "# roi = ee.Geometry.Polygon(\n",
    "#                                 [[[1.2897224677359675, 48.38400739957012],\n",
    "#                                 [1.2897224677359675, 47.93697958008443],\n",
    "#                                 [3.2068367255484675, 47.93697958008443],\n",
    "#                                 [3.2068367255484675, 48.38400739957012]]])\n",
    "roi = ee.Geometry.Polygon( [[[2.220233, 48.116767],\n",
    "                             [2.301807, 48.116767],\n",
    "                             [2.301807, 48.167835],\n",
    "                             [2.220233, 48.167835],\n",
    "                             [2.220233, 48.116767]]])\n",
    "\n",
    "\n",
    "# Call function with defined start and end dates and area of interest.\n",
    "cloudless_collection = ee_utils.create_s2_collection(roi, '2019-05-01', '2019-06-30')\n",
    "\n",
    "# Define visualization parameters.\n",
    "visualization = {\n",
    "        'min': 0.0,\n",
    "        'max': 0.3,\n",
    "        'bands': ['B4', 'B3', 'B2'],\n",
    "}\n",
    "\n",
    "# Add layer to map.\n",
    "Map.addLayer(cloudless_collection.median().clip(roi), visualization, 'Cloudless Collection')\n",
    "Map.centerObject(roi, 10)"
   ]
  },
  {
   "cell_type": "code",
   "execution_count": 7,
   "metadata": {},
   "outputs": [],
   "source": [
    "s1_collection = ee_utils.create_s1_collection(roi, '2019-05-01', '2019-06-30')\n"
   ]
  },
  {
   "cell_type": "code",
   "execution_count": 8,
   "metadata": {},
   "outputs": [
    {
     "data": {
      "text/plain": [
       "14"
      ]
     },
     "execution_count": 8,
     "metadata": {},
     "output_type": "execute_result"
    }
   ],
   "source": [
    "s1_collection.size().getInfo()"
   ]
  },
  {
   "cell_type": "code",
   "execution_count": 9,
   "metadata": {},
   "outputs": [
    {
     "data": {
      "text/html": [
       "<style type=\"text/css\">\n",
       "#T_88cb1 th {\n",
       "  text-align: left;\n",
       "}\n",
       "#T_88cb1_row0_col0, #T_88cb1_row0_col1, #T_88cb1_row0_col2, #T_88cb1_row0_col3, #T_88cb1_row0_col4, #T_88cb1_row0_col5, #T_88cb1_row0_col6, #T_88cb1_row0_col7, #T_88cb1_row0_col8, #T_88cb1_row0_col9, #T_88cb1_row0_col10, #T_88cb1_row0_col11, #T_88cb1_row0_col12, #T_88cb1_row0_col13, #T_88cb1_row0_col14, #T_88cb1_row1_col0, #T_88cb1_row1_col1, #T_88cb1_row1_col2, #T_88cb1_row1_col3, #T_88cb1_row1_col4, #T_88cb1_row1_col5, #T_88cb1_row1_col6, #T_88cb1_row1_col7, #T_88cb1_row1_col8, #T_88cb1_row1_col9, #T_88cb1_row1_col10, #T_88cb1_row1_col11, #T_88cb1_row1_col12, #T_88cb1_row1_col13, #T_88cb1_row1_col14, #T_88cb1_row2_col0, #T_88cb1_row2_col1, #T_88cb1_row2_col2, #T_88cb1_row2_col3, #T_88cb1_row2_col4, #T_88cb1_row2_col5, #T_88cb1_row2_col6, #T_88cb1_row2_col7, #T_88cb1_row2_col8, #T_88cb1_row2_col9, #T_88cb1_row2_col10, #T_88cb1_row2_col11, #T_88cb1_row2_col12, #T_88cb1_row2_col13, #T_88cb1_row2_col14, #T_88cb1_row3_col0, #T_88cb1_row3_col1, #T_88cb1_row3_col2, #T_88cb1_row3_col3, #T_88cb1_row3_col4, #T_88cb1_row3_col5, #T_88cb1_row3_col6, #T_88cb1_row3_col7, #T_88cb1_row3_col8, #T_88cb1_row3_col9, #T_88cb1_row3_col10, #T_88cb1_row3_col11, #T_88cb1_row3_col12, #T_88cb1_row3_col13, #T_88cb1_row3_col14, #T_88cb1_row4_col0, #T_88cb1_row4_col1, #T_88cb1_row4_col2, #T_88cb1_row4_col3, #T_88cb1_row4_col4, #T_88cb1_row4_col5, #T_88cb1_row4_col6, #T_88cb1_row4_col7, #T_88cb1_row4_col8, #T_88cb1_row4_col9, #T_88cb1_row4_col10, #T_88cb1_row4_col11, #T_88cb1_row4_col12, #T_88cb1_row4_col13, #T_88cb1_row4_col14, #T_88cb1_row5_col0, #T_88cb1_row5_col1, #T_88cb1_row5_col2, #T_88cb1_row5_col3, #T_88cb1_row5_col4, #T_88cb1_row5_col5, #T_88cb1_row5_col6, #T_88cb1_row5_col7, #T_88cb1_row5_col8, #T_88cb1_row5_col9, #T_88cb1_row5_col10, #T_88cb1_row5_col11, #T_88cb1_row5_col12, #T_88cb1_row5_col13, #T_88cb1_row5_col14, #T_88cb1_row6_col0, #T_88cb1_row6_col1, #T_88cb1_row6_col2, #T_88cb1_row6_col3, #T_88cb1_row6_col4, #T_88cb1_row6_col5, #T_88cb1_row6_col6, #T_88cb1_row6_col7, #T_88cb1_row6_col8, #T_88cb1_row6_col9, #T_88cb1_row6_col10, #T_88cb1_row6_col11, #T_88cb1_row6_col12, #T_88cb1_row6_col13, #T_88cb1_row6_col14, #T_88cb1_row7_col0, #T_88cb1_row7_col1, #T_88cb1_row7_col2, #T_88cb1_row7_col3, #T_88cb1_row7_col4, #T_88cb1_row7_col5, #T_88cb1_row7_col6, #T_88cb1_row7_col7, #T_88cb1_row7_col8, #T_88cb1_row7_col9, #T_88cb1_row7_col10, #T_88cb1_row7_col11, #T_88cb1_row7_col12, #T_88cb1_row7_col13, #T_88cb1_row7_col14, #T_88cb1_row8_col0, #T_88cb1_row8_col1, #T_88cb1_row8_col2, #T_88cb1_row8_col3, #T_88cb1_row8_col4, #T_88cb1_row8_col5, #T_88cb1_row8_col6, #T_88cb1_row8_col7, #T_88cb1_row8_col8, #T_88cb1_row8_col9, #T_88cb1_row8_col10, #T_88cb1_row8_col11, #T_88cb1_row8_col12, #T_88cb1_row8_col13, #T_88cb1_row8_col14, #T_88cb1_row9_col0, #T_88cb1_row9_col1, #T_88cb1_row9_col2, #T_88cb1_row9_col3, #T_88cb1_row9_col4, #T_88cb1_row9_col5, #T_88cb1_row9_col6, #T_88cb1_row9_col7, #T_88cb1_row9_col8, #T_88cb1_row9_col9, #T_88cb1_row9_col10, #T_88cb1_row9_col11, #T_88cb1_row9_col12, #T_88cb1_row9_col13, #T_88cb1_row9_col14, #T_88cb1_row10_col0, #T_88cb1_row10_col1, #T_88cb1_row10_col2, #T_88cb1_row10_col3, #T_88cb1_row10_col4, #T_88cb1_row10_col5, #T_88cb1_row10_col6, #T_88cb1_row10_col7, #T_88cb1_row10_col8, #T_88cb1_row10_col9, #T_88cb1_row10_col10, #T_88cb1_row10_col11, #T_88cb1_row10_col12, #T_88cb1_row10_col13, #T_88cb1_row10_col14, #T_88cb1_row11_col0, #T_88cb1_row11_col1, #T_88cb1_row11_col2, #T_88cb1_row11_col3, #T_88cb1_row11_col4, #T_88cb1_row11_col5, #T_88cb1_row11_col6, #T_88cb1_row11_col7, #T_88cb1_row11_col8, #T_88cb1_row11_col9, #T_88cb1_row11_col10, #T_88cb1_row11_col11, #T_88cb1_row11_col12, #T_88cb1_row11_col13, #T_88cb1_row11_col14, #T_88cb1_row12_col0, #T_88cb1_row12_col1, #T_88cb1_row12_col2, #T_88cb1_row12_col3, #T_88cb1_row12_col4, #T_88cb1_row12_col5, #T_88cb1_row12_col6, #T_88cb1_row12_col7, #T_88cb1_row12_col8, #T_88cb1_row12_col9, #T_88cb1_row12_col10, #T_88cb1_row12_col11, #T_88cb1_row12_col12, #T_88cb1_row12_col13, #T_88cb1_row12_col14, #T_88cb1_row13_col0, #T_88cb1_row13_col1, #T_88cb1_row13_col2, #T_88cb1_row13_col3, #T_88cb1_row13_col4, #T_88cb1_row13_col5, #T_88cb1_row13_col6, #T_88cb1_row13_col7, #T_88cb1_row13_col8, #T_88cb1_row13_col9, #T_88cb1_row13_col10, #T_88cb1_row13_col11, #T_88cb1_row13_col12, #T_88cb1_row13_col13, #T_88cb1_row13_col14 {\n",
       "  text-align: left;\n",
       "}\n",
       "</style>\n",
       "<table id=\"T_88cb1\">\n",
       "  <thead>\n",
       "    <tr>\n",
       "      <th class=\"blank level0\" >&nbsp;</th>\n",
       "      <th id=\"T_88cb1_level0_col0\" class=\"col_heading level0 col0\" >Property</th>\n",
       "      <th id=\"T_88cb1_level0_col1\" class=\"col_heading level0 col1\" >0</th>\n",
       "      <th id=\"T_88cb1_level0_col2\" class=\"col_heading level0 col2\" >1</th>\n",
       "      <th id=\"T_88cb1_level0_col3\" class=\"col_heading level0 col3\" >2</th>\n",
       "      <th id=\"T_88cb1_level0_col4\" class=\"col_heading level0 col4\" >3</th>\n",
       "      <th id=\"T_88cb1_level0_col5\" class=\"col_heading level0 col5\" >4</th>\n",
       "      <th id=\"T_88cb1_level0_col6\" class=\"col_heading level0 col6\" >5</th>\n",
       "      <th id=\"T_88cb1_level0_col7\" class=\"col_heading level0 col7\" >6</th>\n",
       "      <th id=\"T_88cb1_level0_col8\" class=\"col_heading level0 col8\" >7</th>\n",
       "      <th id=\"T_88cb1_level0_col9\" class=\"col_heading level0 col9\" >8</th>\n",
       "      <th id=\"T_88cb1_level0_col10\" class=\"col_heading level0 col10\" >9</th>\n",
       "      <th id=\"T_88cb1_level0_col11\" class=\"col_heading level0 col11\" >10</th>\n",
       "      <th id=\"T_88cb1_level0_col12\" class=\"col_heading level0 col12\" >11</th>\n",
       "      <th id=\"T_88cb1_level0_col13\" class=\"col_heading level0 col13\" >12</th>\n",
       "      <th id=\"T_88cb1_level0_col14\" class=\"col_heading level0 col14\" >13</th>\n",
       "    </tr>\n",
       "  </thead>\n",
       "  <tbody>\n",
       "    <tr>\n",
       "      <th id=\"T_88cb1_level0_row0\" class=\"row_heading level0 row0\" >0</th>\n",
       "      <td id=\"T_88cb1_row0_col0\" class=\"data row0 col0\" >system:time_start</td>\n",
       "      <td id=\"T_88cb1_row0_col1\" class=\"data row0 col1\" >2019-05-04</td>\n",
       "      <td id=\"T_88cb1_row0_col2\" class=\"data row0 col2\" >2019-05-16</td>\n",
       "      <td id=\"T_88cb1_row0_col3\" class=\"data row0 col3\" >2019-05-28</td>\n",
       "      <td id=\"T_88cb1_row0_col4\" class=\"data row0 col4\" >2019-06-09</td>\n",
       "      <td id=\"T_88cb1_row0_col5\" class=\"data row0 col5\" >2019-06-21</td>\n",
       "      <td id=\"T_88cb1_row0_col6\" class=\"data row0 col6\" >2019-05-03</td>\n",
       "      <td id=\"T_88cb1_row0_col7\" class=\"data row0 col7\" >2019-05-10</td>\n",
       "      <td id=\"T_88cb1_row0_col8\" class=\"data row0 col8\" >2019-05-15</td>\n",
       "      <td id=\"T_88cb1_row0_col9\" class=\"data row0 col9\" >2019-05-22</td>\n",
       "      <td id=\"T_88cb1_row0_col10\" class=\"data row0 col10\" >2019-06-03</td>\n",
       "      <td id=\"T_88cb1_row0_col11\" class=\"data row0 col11\" >2019-06-08</td>\n",
       "      <td id=\"T_88cb1_row0_col12\" class=\"data row0 col12\" >2019-06-15</td>\n",
       "      <td id=\"T_88cb1_row0_col13\" class=\"data row0 col13\" >2019-06-20</td>\n",
       "      <td id=\"T_88cb1_row0_col14\" class=\"data row0 col14\" >2019-06-27</td>\n",
       "    </tr>\n",
       "    <tr>\n",
       "      <th id=\"T_88cb1_level0_row1\" class=\"row_heading level0 row1\" >1</th>\n",
       "      <td id=\"T_88cb1_row1_col0\" class=\"data row1 col0\" >orbitProperties_pass</td>\n",
       "      <td id=\"T_88cb1_row1_col1\" class=\"data row1 col1\" >ASCENDING</td>\n",
       "      <td id=\"T_88cb1_row1_col2\" class=\"data row1 col2\" >ASCENDING</td>\n",
       "      <td id=\"T_88cb1_row1_col3\" class=\"data row1 col3\" >ASCENDING</td>\n",
       "      <td id=\"T_88cb1_row1_col4\" class=\"data row1 col4\" >ASCENDING</td>\n",
       "      <td id=\"T_88cb1_row1_col5\" class=\"data row1 col5\" >ASCENDING</td>\n",
       "      <td id=\"T_88cb1_row1_col6\" class=\"data row1 col6\" >ASCENDING</td>\n",
       "      <td id=\"T_88cb1_row1_col7\" class=\"data row1 col7\" >ASCENDING</td>\n",
       "      <td id=\"T_88cb1_row1_col8\" class=\"data row1 col8\" >ASCENDING</td>\n",
       "      <td id=\"T_88cb1_row1_col9\" class=\"data row1 col9\" >ASCENDING</td>\n",
       "      <td id=\"T_88cb1_row1_col10\" class=\"data row1 col10\" >ASCENDING</td>\n",
       "      <td id=\"T_88cb1_row1_col11\" class=\"data row1 col11\" >ASCENDING</td>\n",
       "      <td id=\"T_88cb1_row1_col12\" class=\"data row1 col12\" >ASCENDING</td>\n",
       "      <td id=\"T_88cb1_row1_col13\" class=\"data row1 col13\" >ASCENDING</td>\n",
       "      <td id=\"T_88cb1_row1_col14\" class=\"data row1 col14\" >ASCENDING</td>\n",
       "    </tr>\n",
       "    <tr>\n",
       "      <th id=\"T_88cb1_level0_row2\" class=\"row_heading level0 row2\" >2</th>\n",
       "      <td id=\"T_88cb1_row2_col0\" class=\"data row2 col0\" >resolution</td>\n",
       "      <td id=\"T_88cb1_row2_col1\" class=\"data row2 col1\" >H</td>\n",
       "      <td id=\"T_88cb1_row2_col2\" class=\"data row2 col2\" >H</td>\n",
       "      <td id=\"T_88cb1_row2_col3\" class=\"data row2 col3\" >H</td>\n",
       "      <td id=\"T_88cb1_row2_col4\" class=\"data row2 col4\" >H</td>\n",
       "      <td id=\"T_88cb1_row2_col5\" class=\"data row2 col5\" >H</td>\n",
       "      <td id=\"T_88cb1_row2_col6\" class=\"data row2 col6\" >H</td>\n",
       "      <td id=\"T_88cb1_row2_col7\" class=\"data row2 col7\" >H</td>\n",
       "      <td id=\"T_88cb1_row2_col8\" class=\"data row2 col8\" >H</td>\n",
       "      <td id=\"T_88cb1_row2_col9\" class=\"data row2 col9\" >H</td>\n",
       "      <td id=\"T_88cb1_row2_col10\" class=\"data row2 col10\" >H</td>\n",
       "      <td id=\"T_88cb1_row2_col11\" class=\"data row2 col11\" >H</td>\n",
       "      <td id=\"T_88cb1_row2_col12\" class=\"data row2 col12\" >H</td>\n",
       "      <td id=\"T_88cb1_row2_col13\" class=\"data row2 col13\" >H</td>\n",
       "      <td id=\"T_88cb1_row2_col14\" class=\"data row2 col14\" >H</td>\n",
       "    </tr>\n",
       "    <tr>\n",
       "      <th id=\"T_88cb1_level0_row3\" class=\"row_heading level0 row3\" >3</th>\n",
       "      <td id=\"T_88cb1_row3_col0\" class=\"data row3 col0\" >resolution_meters</td>\n",
       "      <td id=\"T_88cb1_row3_col1\" class=\"data row3 col1\" >10</td>\n",
       "      <td id=\"T_88cb1_row3_col2\" class=\"data row3 col2\" >10</td>\n",
       "      <td id=\"T_88cb1_row3_col3\" class=\"data row3 col3\" >10</td>\n",
       "      <td id=\"T_88cb1_row3_col4\" class=\"data row3 col4\" >10</td>\n",
       "      <td id=\"T_88cb1_row3_col5\" class=\"data row3 col5\" >10</td>\n",
       "      <td id=\"T_88cb1_row3_col6\" class=\"data row3 col6\" >10</td>\n",
       "      <td id=\"T_88cb1_row3_col7\" class=\"data row3 col7\" >10</td>\n",
       "      <td id=\"T_88cb1_row3_col8\" class=\"data row3 col8\" >10</td>\n",
       "      <td id=\"T_88cb1_row3_col9\" class=\"data row3 col9\" >10</td>\n",
       "      <td id=\"T_88cb1_row3_col10\" class=\"data row3 col10\" >10</td>\n",
       "      <td id=\"T_88cb1_row3_col11\" class=\"data row3 col11\" >10</td>\n",
       "      <td id=\"T_88cb1_row3_col12\" class=\"data row3 col12\" >10</td>\n",
       "      <td id=\"T_88cb1_row3_col13\" class=\"data row3 col13\" >10</td>\n",
       "      <td id=\"T_88cb1_row3_col14\" class=\"data row3 col14\" >10</td>\n",
       "    </tr>\n",
       "    <tr>\n",
       "      <th id=\"T_88cb1_level0_row4\" class=\"row_heading level0 row4\" >4</th>\n",
       "      <td id=\"T_88cb1_row4_col0\" class=\"data row4 col0\" >platform_number</td>\n",
       "      <td id=\"T_88cb1_row4_col1\" class=\"data row4 col1\" >A</td>\n",
       "      <td id=\"T_88cb1_row4_col2\" class=\"data row4 col2\" >A</td>\n",
       "      <td id=\"T_88cb1_row4_col3\" class=\"data row4 col3\" >A</td>\n",
       "      <td id=\"T_88cb1_row4_col4\" class=\"data row4 col4\" >A</td>\n",
       "      <td id=\"T_88cb1_row4_col5\" class=\"data row4 col5\" >A</td>\n",
       "      <td id=\"T_88cb1_row4_col6\" class=\"data row4 col6\" >B</td>\n",
       "      <td id=\"T_88cb1_row4_col7\" class=\"data row4 col7\" >B</td>\n",
       "      <td id=\"T_88cb1_row4_col8\" class=\"data row4 col8\" >B</td>\n",
       "      <td id=\"T_88cb1_row4_col9\" class=\"data row4 col9\" >B</td>\n",
       "      <td id=\"T_88cb1_row4_col10\" class=\"data row4 col10\" >B</td>\n",
       "      <td id=\"T_88cb1_row4_col11\" class=\"data row4 col11\" >B</td>\n",
       "      <td id=\"T_88cb1_row4_col12\" class=\"data row4 col12\" >B</td>\n",
       "      <td id=\"T_88cb1_row4_col13\" class=\"data row4 col13\" >B</td>\n",
       "      <td id=\"T_88cb1_row4_col14\" class=\"data row4 col14\" >B</td>\n",
       "    </tr>\n",
       "    <tr>\n",
       "      <th id=\"T_88cb1_level0_row5\" class=\"row_heading level0 row5\" >5</th>\n",
       "      <td id=\"T_88cb1_row5_col0\" class=\"data row5 col0\" >productType</td>\n",
       "      <td id=\"T_88cb1_row5_col1\" class=\"data row5 col1\" >GRD</td>\n",
       "      <td id=\"T_88cb1_row5_col2\" class=\"data row5 col2\" >GRD</td>\n",
       "      <td id=\"T_88cb1_row5_col3\" class=\"data row5 col3\" >GRD</td>\n",
       "      <td id=\"T_88cb1_row5_col4\" class=\"data row5 col4\" >GRD</td>\n",
       "      <td id=\"T_88cb1_row5_col5\" class=\"data row5 col5\" >GRD</td>\n",
       "      <td id=\"T_88cb1_row5_col6\" class=\"data row5 col6\" >GRD</td>\n",
       "      <td id=\"T_88cb1_row5_col7\" class=\"data row5 col7\" >GRD</td>\n",
       "      <td id=\"T_88cb1_row5_col8\" class=\"data row5 col8\" >GRD</td>\n",
       "      <td id=\"T_88cb1_row5_col9\" class=\"data row5 col9\" >GRD</td>\n",
       "      <td id=\"T_88cb1_row5_col10\" class=\"data row5 col10\" >GRD</td>\n",
       "      <td id=\"T_88cb1_row5_col11\" class=\"data row5 col11\" >GRD</td>\n",
       "      <td id=\"T_88cb1_row5_col12\" class=\"data row5 col12\" >GRD</td>\n",
       "      <td id=\"T_88cb1_row5_col13\" class=\"data row5 col13\" >GRD</td>\n",
       "      <td id=\"T_88cb1_row5_col14\" class=\"data row5 col14\" >GRD</td>\n",
       "    </tr>\n",
       "    <tr>\n",
       "      <th id=\"T_88cb1_level0_row6\" class=\"row_heading level0 row6\" >6</th>\n",
       "      <td id=\"T_88cb1_row6_col0\" class=\"data row6 col0\" >orbitNumber_start</td>\n",
       "      <td id=\"T_88cb1_row6_col1\" class=\"data row6 col1\" >27081</td>\n",
       "      <td id=\"T_88cb1_row6_col2\" class=\"data row6 col2\" >27256</td>\n",
       "      <td id=\"T_88cb1_row6_col3\" class=\"data row6 col3\" >27431</td>\n",
       "      <td id=\"T_88cb1_row6_col4\" class=\"data row6 col4\" >27606</td>\n",
       "      <td id=\"T_88cb1_row6_col5\" class=\"data row6 col5\" >27781</td>\n",
       "      <td id=\"T_88cb1_row6_col6\" class=\"data row6 col6\" >16083</td>\n",
       "      <td id=\"T_88cb1_row6_col7\" class=\"data row6 col7\" >16185</td>\n",
       "      <td id=\"T_88cb1_row6_col8\" class=\"data row6 col8\" >16258</td>\n",
       "      <td id=\"T_88cb1_row6_col9\" class=\"data row6 col9\" >16360</td>\n",
       "      <td id=\"T_88cb1_row6_col10\" class=\"data row6 col10\" >16535</td>\n",
       "      <td id=\"T_88cb1_row6_col11\" class=\"data row6 col11\" >16608</td>\n",
       "      <td id=\"T_88cb1_row6_col12\" class=\"data row6 col12\" >16710</td>\n",
       "      <td id=\"T_88cb1_row6_col13\" class=\"data row6 col13\" >16783</td>\n",
       "      <td id=\"T_88cb1_row6_col14\" class=\"data row6 col14\" >16885</td>\n",
       "    </tr>\n",
       "    <tr>\n",
       "      <th id=\"T_88cb1_level0_row7\" class=\"row_heading level0 row7\" >7</th>\n",
       "      <td id=\"T_88cb1_row7_col0\" class=\"data row7 col0\" >orbitNumber_stop</td>\n",
       "      <td id=\"T_88cb1_row7_col1\" class=\"data row7 col1\" >27081</td>\n",
       "      <td id=\"T_88cb1_row7_col2\" class=\"data row7 col2\" >27256</td>\n",
       "      <td id=\"T_88cb1_row7_col3\" class=\"data row7 col3\" >27431</td>\n",
       "      <td id=\"T_88cb1_row7_col4\" class=\"data row7 col4\" >27606</td>\n",
       "      <td id=\"T_88cb1_row7_col5\" class=\"data row7 col5\" >27781</td>\n",
       "      <td id=\"T_88cb1_row7_col6\" class=\"data row7 col6\" >16083</td>\n",
       "      <td id=\"T_88cb1_row7_col7\" class=\"data row7 col7\" >16185</td>\n",
       "      <td id=\"T_88cb1_row7_col8\" class=\"data row7 col8\" >16258</td>\n",
       "      <td id=\"T_88cb1_row7_col9\" class=\"data row7 col9\" >16360</td>\n",
       "      <td id=\"T_88cb1_row7_col10\" class=\"data row7 col10\" >16535</td>\n",
       "      <td id=\"T_88cb1_row7_col11\" class=\"data row7 col11\" >16608</td>\n",
       "      <td id=\"T_88cb1_row7_col12\" class=\"data row7 col12\" >16710</td>\n",
       "      <td id=\"T_88cb1_row7_col13\" class=\"data row7 col13\" >16783</td>\n",
       "      <td id=\"T_88cb1_row7_col14\" class=\"data row7 col14\" >16885</td>\n",
       "    </tr>\n",
       "    <tr>\n",
       "      <th id=\"T_88cb1_level0_row8\" class=\"row_heading level0 row8\" >8</th>\n",
       "      <td id=\"T_88cb1_row8_col0\" class=\"data row8 col0\" >transmitterReceiverPolarisation</td>\n",
       "      <td id=\"T_88cb1_row8_col1\" class=\"data row8 col1\" >['VV', 'VH']</td>\n",
       "      <td id=\"T_88cb1_row8_col2\" class=\"data row8 col2\" >['VV', 'VH']</td>\n",
       "      <td id=\"T_88cb1_row8_col3\" class=\"data row8 col3\" >['VV', 'VH']</td>\n",
       "      <td id=\"T_88cb1_row8_col4\" class=\"data row8 col4\" >['VV', 'VH']</td>\n",
       "      <td id=\"T_88cb1_row8_col5\" class=\"data row8 col5\" >['VV', 'VH']</td>\n",
       "      <td id=\"T_88cb1_row8_col6\" class=\"data row8 col6\" >['VV', 'VH']</td>\n",
       "      <td id=\"T_88cb1_row8_col7\" class=\"data row8 col7\" >['VV', 'VH']</td>\n",
       "      <td id=\"T_88cb1_row8_col8\" class=\"data row8 col8\" >['VV', 'VH']</td>\n",
       "      <td id=\"T_88cb1_row8_col9\" class=\"data row8 col9\" >['VV', 'VH']</td>\n",
       "      <td id=\"T_88cb1_row8_col10\" class=\"data row8 col10\" >['VV', 'VH']</td>\n",
       "      <td id=\"T_88cb1_row8_col11\" class=\"data row8 col11\" >['VV', 'VH']</td>\n",
       "      <td id=\"T_88cb1_row8_col12\" class=\"data row8 col12\" >['VV', 'VH']</td>\n",
       "      <td id=\"T_88cb1_row8_col13\" class=\"data row8 col13\" >['VV', 'VH']</td>\n",
       "      <td id=\"T_88cb1_row8_col14\" class=\"data row8 col14\" >['VV', 'VH']</td>\n",
       "    </tr>\n",
       "    <tr>\n",
       "      <th id=\"T_88cb1_level0_row9\" class=\"row_heading level0 row9\" >9</th>\n",
       "      <td id=\"T_88cb1_row9_col0\" class=\"data row9 col0\" >system:band_names</td>\n",
       "      <td id=\"T_88cb1_row9_col1\" class=\"data row9 col1\" >['VV', 'VH', 'angle']</td>\n",
       "      <td id=\"T_88cb1_row9_col2\" class=\"data row9 col2\" >['VV', 'VH', 'angle']</td>\n",
       "      <td id=\"T_88cb1_row9_col3\" class=\"data row9 col3\" >['VV', 'VH', 'angle']</td>\n",
       "      <td id=\"T_88cb1_row9_col4\" class=\"data row9 col4\" >['VV', 'VH', 'angle']</td>\n",
       "      <td id=\"T_88cb1_row9_col5\" class=\"data row9 col5\" >['VV', 'VH', 'angle']</td>\n",
       "      <td id=\"T_88cb1_row9_col6\" class=\"data row9 col6\" >['VV', 'VH', 'angle']</td>\n",
       "      <td id=\"T_88cb1_row9_col7\" class=\"data row9 col7\" >['VV', 'VH', 'angle']</td>\n",
       "      <td id=\"T_88cb1_row9_col8\" class=\"data row9 col8\" >['VV', 'VH', 'angle']</td>\n",
       "      <td id=\"T_88cb1_row9_col9\" class=\"data row9 col9\" >['VV', 'VH', 'angle']</td>\n",
       "      <td id=\"T_88cb1_row9_col10\" class=\"data row9 col10\" >['VV', 'VH', 'angle']</td>\n",
       "      <td id=\"T_88cb1_row9_col11\" class=\"data row9 col11\" >['VV', 'VH', 'angle']</td>\n",
       "      <td id=\"T_88cb1_row9_col12\" class=\"data row9 col12\" >['VV', 'VH', 'angle']</td>\n",
       "      <td id=\"T_88cb1_row9_col13\" class=\"data row9 col13\" >['VV', 'VH', 'angle']</td>\n",
       "      <td id=\"T_88cb1_row9_col14\" class=\"data row9 col14\" >['VV', 'VH', 'angle']</td>\n",
       "    </tr>\n",
       "    <tr>\n",
       "      <th id=\"T_88cb1_level0_row10\" class=\"row_heading level0 row10\" >10</th>\n",
       "      <td id=\"T_88cb1_row10_col0\" class=\"data row10 col0\" >instrumentMode</td>\n",
       "      <td id=\"T_88cb1_row10_col1\" class=\"data row10 col1\" >IW</td>\n",
       "      <td id=\"T_88cb1_row10_col2\" class=\"data row10 col2\" >IW</td>\n",
       "      <td id=\"T_88cb1_row10_col3\" class=\"data row10 col3\" >IW</td>\n",
       "      <td id=\"T_88cb1_row10_col4\" class=\"data row10 col4\" >IW</td>\n",
       "      <td id=\"T_88cb1_row10_col5\" class=\"data row10 col5\" >IW</td>\n",
       "      <td id=\"T_88cb1_row10_col6\" class=\"data row10 col6\" >IW</td>\n",
       "      <td id=\"T_88cb1_row10_col7\" class=\"data row10 col7\" >IW</td>\n",
       "      <td id=\"T_88cb1_row10_col8\" class=\"data row10 col8\" >IW</td>\n",
       "      <td id=\"T_88cb1_row10_col9\" class=\"data row10 col9\" >IW</td>\n",
       "      <td id=\"T_88cb1_row10_col10\" class=\"data row10 col10\" >IW</td>\n",
       "      <td id=\"T_88cb1_row10_col11\" class=\"data row10 col11\" >IW</td>\n",
       "      <td id=\"T_88cb1_row10_col12\" class=\"data row10 col12\" >IW</td>\n",
       "      <td id=\"T_88cb1_row10_col13\" class=\"data row10 col13\" >IW</td>\n",
       "      <td id=\"T_88cb1_row10_col14\" class=\"data row10 col14\" >IW</td>\n",
       "    </tr>\n",
       "    <tr>\n",
       "      <th id=\"T_88cb1_level0_row11\" class=\"row_heading level0 row11\" >11</th>\n",
       "      <td id=\"T_88cb1_row11_col0\" class=\"data row11 col0\" >relativeOrbitNumber_stop</td>\n",
       "      <td id=\"T_88cb1_row11_col1\" class=\"data row11 col1\" >59</td>\n",
       "      <td id=\"T_88cb1_row11_col2\" class=\"data row11 col2\" >59</td>\n",
       "      <td id=\"T_88cb1_row11_col3\" class=\"data row11 col3\" >59</td>\n",
       "      <td id=\"T_88cb1_row11_col4\" class=\"data row11 col4\" >59</td>\n",
       "      <td id=\"T_88cb1_row11_col5\" class=\"data row11 col5\" >59</td>\n",
       "      <td id=\"T_88cb1_row11_col6\" class=\"data row11 col6\" >132</td>\n",
       "      <td id=\"T_88cb1_row11_col7\" class=\"data row11 col7\" >59</td>\n",
       "      <td id=\"T_88cb1_row11_col8\" class=\"data row11 col8\" >132</td>\n",
       "      <td id=\"T_88cb1_row11_col9\" class=\"data row11 col9\" >59</td>\n",
       "      <td id=\"T_88cb1_row11_col10\" class=\"data row11 col10\" >59</td>\n",
       "      <td id=\"T_88cb1_row11_col11\" class=\"data row11 col11\" >132</td>\n",
       "      <td id=\"T_88cb1_row11_col12\" class=\"data row11 col12\" >59</td>\n",
       "      <td id=\"T_88cb1_row11_col13\" class=\"data row11 col13\" >132</td>\n",
       "      <td id=\"T_88cb1_row11_col14\" class=\"data row11 col14\" >59</td>\n",
       "    </tr>\n",
       "    <tr>\n",
       "      <th id=\"T_88cb1_level0_row12\" class=\"row_heading level0 row12\" >12</th>\n",
       "      <td id=\"T_88cb1_row12_col0\" class=\"data row12 col0\" >relativeOrbitNumber_start</td>\n",
       "      <td id=\"T_88cb1_row12_col1\" class=\"data row12 col1\" >59</td>\n",
       "      <td id=\"T_88cb1_row12_col2\" class=\"data row12 col2\" >59</td>\n",
       "      <td id=\"T_88cb1_row12_col3\" class=\"data row12 col3\" >59</td>\n",
       "      <td id=\"T_88cb1_row12_col4\" class=\"data row12 col4\" >59</td>\n",
       "      <td id=\"T_88cb1_row12_col5\" class=\"data row12 col5\" >59</td>\n",
       "      <td id=\"T_88cb1_row12_col6\" class=\"data row12 col6\" >132</td>\n",
       "      <td id=\"T_88cb1_row12_col7\" class=\"data row12 col7\" >59</td>\n",
       "      <td id=\"T_88cb1_row12_col8\" class=\"data row12 col8\" >132</td>\n",
       "      <td id=\"T_88cb1_row12_col9\" class=\"data row12 col9\" >59</td>\n",
       "      <td id=\"T_88cb1_row12_col10\" class=\"data row12 col10\" >59</td>\n",
       "      <td id=\"T_88cb1_row12_col11\" class=\"data row12 col11\" >132</td>\n",
       "      <td id=\"T_88cb1_row12_col12\" class=\"data row12 col12\" >59</td>\n",
       "      <td id=\"T_88cb1_row12_col13\" class=\"data row12 col13\" >132</td>\n",
       "      <td id=\"T_88cb1_row12_col14\" class=\"data row12 col14\" >59</td>\n",
       "    </tr>\n",
       "    <tr>\n",
       "      <th id=\"T_88cb1_level0_row13\" class=\"row_heading level0 row13\" >13</th>\n",
       "      <td id=\"T_88cb1_row13_col0\" class=\"data row13 col0\" >cycleNumber</td>\n",
       "      <td id=\"T_88cb1_row13_col1\" class=\"data row13 col1\" >169</td>\n",
       "      <td id=\"T_88cb1_row13_col2\" class=\"data row13 col2\" >170</td>\n",
       "      <td id=\"T_88cb1_row13_col3\" class=\"data row13 col3\" >171</td>\n",
       "      <td id=\"T_88cb1_row13_col4\" class=\"data row13 col4\" >172</td>\n",
       "      <td id=\"T_88cb1_row13_col5\" class=\"data row13 col5\" >173</td>\n",
       "      <td id=\"T_88cb1_row13_col6\" class=\"data row13 col6\" >98</td>\n",
       "      <td id=\"T_88cb1_row13_col7\" class=\"data row13 col7\" >99</td>\n",
       "      <td id=\"T_88cb1_row13_col8\" class=\"data row13 col8\" >99</td>\n",
       "      <td id=\"T_88cb1_row13_col9\" class=\"data row13 col9\" >100</td>\n",
       "      <td id=\"T_88cb1_row13_col10\" class=\"data row13 col10\" >101</td>\n",
       "      <td id=\"T_88cb1_row13_col11\" class=\"data row13 col11\" >101</td>\n",
       "      <td id=\"T_88cb1_row13_col12\" class=\"data row13 col12\" >102</td>\n",
       "      <td id=\"T_88cb1_row13_col13\" class=\"data row13 col13\" >102</td>\n",
       "      <td id=\"T_88cb1_row13_col14\" class=\"data row13 col14\" >103</td>\n",
       "    </tr>\n",
       "  </tbody>\n",
       "</table>\n"
      ],
      "text/plain": [
       "<pandas.io.formats.style.Styler at 0x1e18c518370>"
      ]
     },
     "execution_count": 9,
     "metadata": {},
     "output_type": "execute_result"
    }
   ],
   "source": [
    "ee_utils.sen1_print(s1_collection)"
   ]
  },
  {
   "cell_type": "code",
   "execution_count": 10,
   "metadata": {},
   "outputs": [],
   "source": [
    "s1_mosaic = ee_utils.get_combined_s1_image(roi, '2019-05-01', '2019-06-30')\n",
    "s1_mosaic = ee_utils.sen1_add_ratio(s1_mosaic, vv_name='VV', vh_name='VH', ratio_name='ratio')\n",
    "\n",
    "false_color = {\n",
    "    'bands': ['VV', 'VH', 'ratio'],\n",
    "    'min': [-25, -35, 0],\n",
    "    'max': [0, -5, 10]\n",
    "}\n",
    "Map.addLayer(s1_mosaic, false_color, 'S1 Mosaic')\n",
    "Map.centerObject(roi, 10)"
   ]
  },
  {
   "cell_type": "code",
   "execution_count": 21,
   "metadata": {},
   "outputs": [],
   "source": [
    "crop_map = ee.Image('JRC/D5/EUCROPMAP/V1/2018').clip(roi)\n",
    "Map.addLayer(crop_map, {}, 'Crop Map')"
   ]
  },
  {
   "cell_type": "code",
   "execution_count": 12,
   "metadata": {},
   "outputs": [
    {
     "data": {
      "text/html": [
       "<div><style>:root {\n",
       "  --font-color-primary: var(--jp-content-font-color0, rgba(0, 0, 0, 1));\n",
       "  --font-color-secondary: var(--jp-content-font-color2, rgba(0, 0, 0, 0.6));\n",
       "  --font-color-accent: rgba(123, 31, 162, 1);\n",
       "  --border-color: var(--jp-border-color2, #e0e0e0);\n",
       "  --background-color: var(--jp-layout-color0, white);\n",
       "  --background-color-row-even: var(--jp-layout-color1, white);\n",
       "  --background-color-row-odd: var(--jp-layout-color2, #eeeeee);\n",
       "}\n",
       "\n",
       "html[theme=\"dark\"],\n",
       "body[data-theme=\"dark\"],\n",
       "body.vscode-dark {\n",
       "  --font-color-primary: rgba(255, 255, 255, 1);\n",
       "  --font-color-secondary: rgba(255, 255, 255, 0.6);\n",
       "  --font-color-accent: rgb(173, 132, 190);\n",
       "  --border-color: #2e2e2e;\n",
       "  --background-color: #111111;\n",
       "  --background-color-row-even: #111111;\n",
       "  --background-color-row-odd: #313131;\n",
       "}\n",
       "\n",
       ".ee {\n",
       "  padding: 1em;\n",
       "  line-height: 1.5em;\n",
       "  min-width: 300px;\n",
       "  max-width: 1200px;\n",
       "  overflow-y: scroll;\n",
       "  max-height: 600px;\n",
       "  border: 1px solid var(--border-color);\n",
       "  font-family: monospace;\n",
       "}\n",
       "\n",
       ".ee li {\n",
       "  list-style-type: none;\n",
       "}\n",
       "\n",
       ".ee ul {\n",
       "  padding-left: 1.5em !important;\n",
       "  margin: 0;\n",
       "}\n",
       "\n",
       ".ee > ul {\n",
       "  padding-left: 0 !important;\n",
       "}\n",
       "\n",
       ".ee-open,\n",
       ".ee-shut {\n",
       "  color: var(--font-color-secondary);\n",
       "  cursor: pointer;\n",
       "  margin: 0;\n",
       "}\n",
       "\n",
       ".ee-open:hover,\n",
       ".ee-shut:hover {\n",
       "  color: var(--font-color-primary);\n",
       "}\n",
       "\n",
       ".ee-k {\n",
       "  color: var(--font-color-accent);\n",
       "  margin-right: 6px;\n",
       "}\n",
       "\n",
       ".ee-v {\n",
       "  color: var(--font-color-primary);\n",
       "}\n",
       "\n",
       ".ee-toggle {\n",
       "  display: none;\n",
       "}\n",
       "\n",
       ".ee-shut + ul {\n",
       "  display: none;\n",
       "}\n",
       "\n",
       ".ee-open + ul {\n",
       "  display: block;\n",
       "}\n",
       "\n",
       ".ee-shut::before {\n",
       "  display: inline-block;\n",
       "  content: \"▼\";\n",
       "  margin-right: 6px;\n",
       "  transform: rotate(-90deg);\n",
       "  transition: transform 0.2s;\n",
       "}\n",
       "\n",
       ".ee-open::before {\n",
       "  transform: rotate(0deg);\n",
       "  display: inline-block;\n",
       "  content: \"▼\";\n",
       "  margin-right: 6px;\n",
       "  transition: transform 0.2s;\n",
       "}\n",
       "</style><div class='ee'><ul><li><label class='ee-shut'>Image (3 bands)<input type='checkbox' class='ee-toggle'></label><ul><li><span class='ee-k'>type:</span><span class='ee-v'>Image</span></li><li><label class='ee-shut'>bands: List (3 elements)<input type='checkbox' class='ee-toggle'></label><ul><li><label class='ee-shut'>0: \"VV\", double, EPSG:4326, 2x2 px<input type='checkbox' class='ee-toggle'></label><ul><li><span class='ee-k'>id:</span><span class='ee-v'>VV</span></li><li><span class='ee-k'>crs:</span><span class='ee-v'>EPSG:4326</span></li><li><label class='ee-shut'>crs_transform: [1, 0, 0, 0, 1, 0]<input type='checkbox' class='ee-toggle'></label><ul><li><span class='ee-k'>0:</span><span class='ee-v'>1</span></li><li><span class='ee-k'>1:</span><span class='ee-v'>0</span></li><li><span class='ee-k'>2:</span><span class='ee-v'>0</span></li><li><span class='ee-k'>3:</span><span class='ee-v'>0</span></li><li><span class='ee-k'>4:</span><span class='ee-v'>1</span></li><li><span class='ee-k'>5:</span><span class='ee-v'>0</span></li></ul></li><li><label class='ee-shut'>data_type: double<input type='checkbox' class='ee-toggle'></label><ul><li><span class='ee-k'>type:</span><span class='ee-v'>PixelType</span></li><li><span class='ee-k'>precision:</span><span class='ee-v'>double</span></li></ul></li><li><label class='ee-shut'>dimensions: [2, 2]<input type='checkbox' class='ee-toggle'></label><ul><li><span class='ee-k'>0:</span><span class='ee-v'>2</span></li><li><span class='ee-k'>1:</span><span class='ee-v'>2</span></li></ul></li><li><label class='ee-shut'>origin: [1, 47]<input type='checkbox' class='ee-toggle'></label><ul><li><span class='ee-k'>0:</span><span class='ee-v'>1</span></li><li><span class='ee-k'>1:</span><span class='ee-v'>47</span></li></ul></li></ul></li><li><label class='ee-shut'>1: \"VH\", double, EPSG:4326, 2x2 px<input type='checkbox' class='ee-toggle'></label><ul><li><span class='ee-k'>id:</span><span class='ee-v'>VH</span></li><li><span class='ee-k'>crs:</span><span class='ee-v'>EPSG:4326</span></li><li><label class='ee-shut'>crs_transform: [1, 0, 0, 0, 1, 0]<input type='checkbox' class='ee-toggle'></label><ul><li><span class='ee-k'>0:</span><span class='ee-v'>1</span></li><li><span class='ee-k'>1:</span><span class='ee-v'>0</span></li><li><span class='ee-k'>2:</span><span class='ee-v'>0</span></li><li><span class='ee-k'>3:</span><span class='ee-v'>0</span></li><li><span class='ee-k'>4:</span><span class='ee-v'>1</span></li><li><span class='ee-k'>5:</span><span class='ee-v'>0</span></li></ul></li><li><label class='ee-shut'>data_type: double<input type='checkbox' class='ee-toggle'></label><ul><li><span class='ee-k'>type:</span><span class='ee-v'>PixelType</span></li><li><span class='ee-k'>precision:</span><span class='ee-v'>double</span></li></ul></li><li><label class='ee-shut'>dimensions: [2, 2]<input type='checkbox' class='ee-toggle'></label><ul><li><span class='ee-k'>0:</span><span class='ee-v'>2</span></li><li><span class='ee-k'>1:</span><span class='ee-v'>2</span></li></ul></li><li><label class='ee-shut'>origin: [1, 47]<input type='checkbox' class='ee-toggle'></label><ul><li><span class='ee-k'>0:</span><span class='ee-v'>1</span></li><li><span class='ee-k'>1:</span><span class='ee-v'>47</span></li></ul></li></ul></li><li><label class='ee-shut'>2: \"ratio\", double, EPSG:4326, 2x2 px<input type='checkbox' class='ee-toggle'></label><ul><li><span class='ee-k'>id:</span><span class='ee-v'>ratio</span></li><li><span class='ee-k'>crs:</span><span class='ee-v'>EPSG:4326</span></li><li><label class='ee-shut'>crs_transform: [1, 0, 0, 0, 1, 0]<input type='checkbox' class='ee-toggle'></label><ul><li><span class='ee-k'>0:</span><span class='ee-v'>1</span></li><li><span class='ee-k'>1:</span><span class='ee-v'>0</span></li><li><span class='ee-k'>2:</span><span class='ee-v'>0</span></li><li><span class='ee-k'>3:</span><span class='ee-v'>0</span></li><li><span class='ee-k'>4:</span><span class='ee-v'>1</span></li><li><span class='ee-k'>5:</span><span class='ee-v'>0</span></li></ul></li><li><label class='ee-shut'>data_type: double<input type='checkbox' class='ee-toggle'></label><ul><li><span class='ee-k'>type:</span><span class='ee-v'>PixelType</span></li><li><span class='ee-k'>precision:</span><span class='ee-v'>double</span></li></ul></li><li><label class='ee-shut'>dimensions: [2, 2]<input type='checkbox' class='ee-toggle'></label><ul><li><span class='ee-k'>0:</span><span class='ee-v'>2</span></li><li><span class='ee-k'>1:</span><span class='ee-v'>2</span></li></ul></li><li><label class='ee-shut'>origin: [1, 47]<input type='checkbox' class='ee-toggle'></label><ul><li><span class='ee-k'>0:</span><span class='ee-v'>1</span></li><li><span class='ee-k'>1:</span><span class='ee-v'>47</span></li></ul></li></ul></li></ul></li><li><label class='ee-shut'>properties: Object (1 property)<input type='checkbox' class='ee-toggle'></label><ul><li><label class='ee-shut'>system:footprint: Polygon (5 vertices)<input type='checkbox' class='ee-toggle'></label><ul><li><span class='ee-k'>type:</span><span class='ee-v'>Polygon</span></li><li><label class='ee-shut'>coordinates: List (1 element)<input type='checkbox' class='ee-toggle'></label><ul><li><label class='ee-shut'>0: List (5 elements)<input type='checkbox' class='ee-toggle'></label><ul><li><label class='ee-shut'>0: [2.220233, 48.116767]<input type='checkbox' class='ee-toggle'></label><ul><li><span class='ee-k'>0:</span><span class='ee-v'>2.220233</span></li><li><span class='ee-k'>1:</span><span class='ee-v'>48.116767</span></li></ul></li><li><label class='ee-shut'>1: [2.301807, 48.116767]<input type='checkbox' class='ee-toggle'></label><ul><li><span class='ee-k'>0:</span><span class='ee-v'>2.301807</span></li><li><span class='ee-k'>1:</span><span class='ee-v'>48.116767</span></li></ul></li><li><label class='ee-shut'>2: [2.301807, 48.167835]<input type='checkbox' class='ee-toggle'></label><ul><li><span class='ee-k'>0:</span><span class='ee-v'>2.301807</span></li><li><span class='ee-k'>1:</span><span class='ee-v'>48.167835</span></li></ul></li><li><label class='ee-shut'>3: [2.220233, 48.167835]<input type='checkbox' class='ee-toggle'></label><ul><li><span class='ee-k'>0:</span><span class='ee-v'>2.220233</span></li><li><span class='ee-k'>1:</span><span class='ee-v'>48.167835</span></li></ul></li><li><label class='ee-shut'>4: [2.220233, 48.116767]<input type='checkbox' class='ee-toggle'></label><ul><li><span class='ee-k'>0:</span><span class='ee-v'>2.220233</span></li><li><span class='ee-k'>1:</span><span class='ee-v'>48.116767</span></li></ul></li></ul></li></ul></li></ul></li></ul></li></ul></li></ul></div><script>function toggleHeader() {\n",
       "    const parent = this.parentElement;\n",
       "    parent.className = parent.className === \"ee-open\" ? \"ee-shut\" : \"ee-open\";\n",
       "}\n",
       "\n",
       "for (let c of document.getElementsByClassName(\"ee-toggle\")) {\n",
       "    c.onclick = toggleHeader;\n",
       "}</script></div>"
      ],
      "text/plain": [
       "<ee.image.Image at 0x1e18c4f0b50>"
      ]
     },
     "execution_count": 12,
     "metadata": {},
     "output_type": "execute_result"
    }
   ],
   "source": [
    "s1_mosaic"
   ]
  },
  {
   "cell_type": "code",
   "execution_count": 13,
   "metadata": {},
   "outputs": [
    {
     "data": {
      "application/vnd.jupyter.widget-view+json": {
       "model_id": "bc9bc4ce1ba94cb9b6ba8337897e9458",
       "version_major": 2,
       "version_minor": 0
      },
      "text/plain": [
       "Map(center=[48.14230398135283, 2.2610199999944824], controls=(WidgetControl(options=['position', 'transparent_…"
      ]
     },
     "metadata": {},
     "output_type": "display_data"
    }
   ],
   "source": [
    "Map"
   ]
  },
  {
   "cell_type": "code",
   "execution_count": 14,
   "metadata": {},
   "outputs": [],
   "source": [
    "# get roi from polygon geemap\n",
    "# roi = Map.draw_last_feature.geometry()\n",
    "# print(roi)"
   ]
  },
  {
   "cell_type": "code",
   "execution_count": 15,
   "metadata": {},
   "outputs": [
    {
     "name": "stdout",
     "output_type": "stream",
     "text": [
      "{'type': 'Polygon', 'coordinates': [[[2.220233, 48.116767], [2.301807, 48.116767], [2.301807, 48.167835], [2.220233, 48.167835], [2.220233, 48.116767]]]}\n"
     ]
    }
   ],
   "source": [
    "print(roi.getInfo())"
   ]
  },
  {
   "cell_type": "code",
   "execution_count": 16,
   "metadata": {},
   "outputs": [],
   "source": [
    "sen1_short_print = lambda s2_collection: ee_utils.ee_property_printer(s2_collection, propertie_name_list=['system:time_start','platform_number',\n",
    "                                                                                           'system:band_names','instrumentMode',                         \n",
    "                                                                                            'relativeOrbitNumber_stop','relativeOrbitNumber_start',\n",
    "                                                                                            'cycleNumber'],\n",
    "                                                             first_is_t_in_millis=True, df_instead_of_print=False)"
   ]
  },
  {
   "cell_type": "code",
   "execution_count": 91,
   "metadata": {},
   "outputs": [],
   "source": [
    "def download_s1_s2(roi, start_date, end_date, s1_folder=\"\", s2_folder=\"\",\n",
    "                   s1_file_name=\"s1_56-48.tif\", s2_file_name=\"s2_56-48.tif\",\n",
    "                   scale=10, bands=['B2', 'B3', 'B4'], proj='EPSG:3857'):\n",
    "    s1_img = ee_utils.get_combined_s1_image(roi, start_date, end_date)\n",
    "    s2_img = ee_utils.get_combined_s2_image(roi, start_date, end_date)\n",
    "    s2_img = s2_img.select(bands)\n",
    "\n",
    "    # EPSG:4326 or EPSG:3857\n",
    "    geemap.download_ee_image(s1_img, s1_folder + s1_file_name, crs=proj, scale=scale, region=roi)\n",
    "    geemap.download_ee_image(s2_img, s2_folder + s2_file_name, crs=proj, scale=scale, region=roi)"
   ]
  },
  {
   "cell_type": "code",
   "execution_count": 65,
   "metadata": {},
   "outputs": [
    {
     "data": {
      "application/vnd.jupyter.widget-view+json": {
       "model_id": "150b5c6ef367437bb76b7190eceb9333",
       "version_major": 2,
       "version_minor": 0
      },
      "text/plain": [
       "s1_56-48.tif: |          | 0.00/12.4M (raw) [  0.0%] in 00:00 (eta:     ?)"
      ]
     },
     "metadata": {},
     "output_type": "display_data"
    },
    {
     "data": {
      "application/vnd.jupyter.widget-view+json": {
       "model_id": "13245607b6744cfda5d1bc532a63b325",
       "version_major": 2,
       "version_minor": 0
      },
      "text/plain": [
       "s2_56-48.tif: |          | 0.00/9.30M (raw) [  0.0%] in 00:00 (eta:     ?)"
      ]
     },
     "metadata": {},
     "output_type": "display_data"
    }
   ],
   "source": [
    "download_s1_s2(roi, '2019-05-01', '2019-06-30', scale=10, bands=['B2','B3','B4'])"
   ]
  },
  {
   "cell_type": "code",
   "execution_count": 19,
   "metadata": {},
   "outputs": [
    {
     "data": {
      "application/vnd.jupyter.widget-view+json": {
       "model_id": "ad4bf00f25524bf6ad35c6dee88875a4",
       "version_major": 2,
       "version_minor": 0
      },
      "text/plain": [
       "crop_map.tif: |          | 0.00/1.55M (raw) [  0.0%] in 00:00 (eta:     ?)"
      ]
     },
     "metadata": {},
     "output_type": "display_data"
    }
   ],
   "source": [
    "crop_map = ee.Image('JRC/D5/EUCROPMAP/V1/2018').clip(roi)\n",
    "geemap.download_ee_image(crop_map, \"crop_map\"+\".tif\",crs='EPSG:3857', scale=10,region = roi)"
   ]
  },
  {
   "cell_type": "code",
   "execution_count": 92,
   "metadata": {},
   "outputs": [
    {
     "name": "stdout",
     "output_type": "stream",
     "text": [
      "[('2019-01-01', '2019-02-01'), ('2019-02-01', '2019-03-01'), ('2019-03-01', '2019-04-01'), ('2019-04-01', '2019-05-01'), ('2019-05-01', '2019-06-01'), ('2019-06-01', '2019-07-01')]\n"
     ]
    }
   ],
   "source": [
    "from datetime import datetime, timedelta\n",
    "from dateutil.relativedelta import relativedelta\n",
    "def get_previous_months(harvest_date):\n",
    "    # Convert harvest date string to datetime object\n",
    "    harvest_datetime = datetime.strptime(harvest_date, '%Y-%m-%d')\n",
    "    \n",
    "    # Create a list to store the previous months\n",
    "    previous_months = []\n",
    "    \n",
    "    # Loop through the previous six months and add them to the list\n",
    "    for i in range(1, 7):\n",
    "        previous_month = ((harvest_datetime - relativedelta(months=i+1)).strftime('%Y-%m-%d'), (harvest_datetime - relativedelta(months=i)).strftime('%Y-%m-%d'))\n",
    "        \n",
    "        previous_months.append(previous_month)\n",
    "        \n",
    "    previous_months.reverse()\n",
    "    return previous_months\n",
    "\n",
    "dummy_harvest_date = '2019-08-01'\n",
    "previous_months = get_previous_months(dummy_harvest_date)\n",
    "print(previous_months)"
   ]
  },
  {
   "cell_type": "code",
   "execution_count": 93,
   "metadata": {},
   "outputs": [
    {
     "data": {
      "text/plain": [
       "'2-261_48-14.tif'"
      ]
     },
     "execution_count": 93,
     "metadata": {},
     "output_type": "execute_result"
    }
   ],
   "source": [
    "def name_from_roi(roi):\n",
    "    center = roi.centroid().getInfo()['coordinates']\n",
    "    x = str(center[0]).replace('.','-')[0:5]\n",
    "    y = str(center[1]).replace('.','-')[0:5]\n",
    "    return x + \"_\" + y + \".tif\"\n",
    "\n",
    "name_from_roi(roi)"
   ]
  },
  {
   "cell_type": "code",
   "execution_count": 94,
   "metadata": {},
   "outputs": [],
   "source": [
    "import os\n",
    "def check_folder_exists(folder):\n",
    "    if not os.path.exists(folder):\n",
    "        print(\"Creating folder: \" + folder)\n",
    "        os.makedirs(folder)"
   ]
  },
  {
   "cell_type": "code",
   "execution_count": 95,
   "metadata": {},
   "outputs": [],
   "source": [
    "def ts_downloader(roi, harvest_date, scale=10, bands=['B2','B3','B4'], proj='EPSG:3857', dataset_folder=\"ts_dataset\"):\n",
    "    ts_dates = get_previous_months(harvest_date)\n",
    "    name = name_from_roi(roi)\n",
    "    for i, ts_date in enumerate(ts_dates):\n",
    "        print(f\"Downloading Date {i+1}: {ts_date[0]} to {ts_date[1]}\")\n",
    "        check_folder_exists(dataset_folder + \"//s1//\" + str(i+1))\n",
    "        check_folder_exists(dataset_folder + \"//s2//\" + str(i+1))\n",
    "        download_s1_s2(roi, ts_date[0], ts_date[1], s1_folder=\"ts_dataset//s1//\" + str(i+1) + \"//\",\n",
    "                                                    s2_folder=\"ts_dataset//s2//\" + str(i+1) + \"//\",\n",
    "                                                    s1_file_name=name,  s2_file_name=name,\n",
    "                                                    scale=scale, bands=bands)\n",
    "    \n",
    "    print(\"Downloading Crop Map...\")\n",
    "    crop_map = ee.Image('JRC/D5/EUCROPMAP/V1/2018').clip(roi)\n",
    "    # none vlue to 0\n",
    "    crop_map = crop_map.unmask(0)\n",
    "    check_folder_exists(\"ts_dataset//crop_map\")\n",
    "    geemap.download_ee_image(crop_map, dataset_folder + \"//\" + \"crop_map//\" + name, crs='EPSG:3857', scale=10,region = roi)\n",
    "    \n",
    "    print(\"Done!\")"
   ]
  },
  {
   "cell_type": "code",
   "execution_count": 96,
   "metadata": {},
   "outputs": [
    {
     "name": "stdout",
     "output_type": "stream",
     "text": [
      "Downloading Date 1: 2019-01-01 to 2019-02-01\n",
      "Creating folder: ts_dataset//s1//1\n",
      "Creating folder: ts_dataset//s2//1\n"
     ]
    },
    {
     "data": {
      "application/vnd.jupyter.widget-view+json": {
       "model_id": "d67e02de094d4b08a1140789f59dffaf",
       "version_major": 2,
       "version_minor": 0
      },
      "text/plain": [
       "2-261_48-14.tif: |          | 0.00/12.4M (raw) [  0.0%] in 00:00 (eta:     ?)"
      ]
     },
     "metadata": {},
     "output_type": "display_data"
    },
    {
     "data": {
      "application/vnd.jupyter.widget-view+json": {
       "model_id": "228fce681ab7419e9f1c342b50571073",
       "version_major": 2,
       "version_minor": 0
      },
      "text/plain": [
       "2-261_48-14.tif: |          | 0.00/9.30M (raw) [  0.0%] in 00:00 (eta:     ?)"
      ]
     },
     "metadata": {},
     "output_type": "display_data"
    },
    {
     "name": "stdout",
     "output_type": "stream",
     "text": [
      "Downloading Date 2: 2019-02-01 to 2019-03-01\n",
      "Creating folder: ts_dataset//s1//2\n",
      "Creating folder: ts_dataset//s2//2\n"
     ]
    },
    {
     "data": {
      "application/vnd.jupyter.widget-view+json": {
       "model_id": "6cffb7f6efaa4db285787c146dcf5ba1",
       "version_major": 2,
       "version_minor": 0
      },
      "text/plain": [
       "2-261_48-14.tif: |          | 0.00/12.4M (raw) [  0.0%] in 00:00 (eta:     ?)"
      ]
     },
     "metadata": {},
     "output_type": "display_data"
    },
    {
     "data": {
      "application/vnd.jupyter.widget-view+json": {
       "model_id": "6ca7190d8a1e4ef0ab550fe5d34b37f7",
       "version_major": 2,
       "version_minor": 0
      },
      "text/plain": [
       "2-261_48-14.tif: |          | 0.00/9.30M (raw) [  0.0%] in 00:00 (eta:     ?)"
      ]
     },
     "metadata": {},
     "output_type": "display_data"
    },
    {
     "name": "stdout",
     "output_type": "stream",
     "text": [
      "Downloading Date 3: 2019-03-01 to 2019-04-01\n",
      "Creating folder: ts_dataset//s1//3\n",
      "Creating folder: ts_dataset//s2//3\n"
     ]
    },
    {
     "data": {
      "application/vnd.jupyter.widget-view+json": {
       "model_id": "415e3673593e4bb9b2b3a334f34bb664",
       "version_major": 2,
       "version_minor": 0
      },
      "text/plain": [
       "2-261_48-14.tif: |          | 0.00/12.4M (raw) [  0.0%] in 00:00 (eta:     ?)"
      ]
     },
     "metadata": {},
     "output_type": "display_data"
    },
    {
     "data": {
      "application/vnd.jupyter.widget-view+json": {
       "model_id": "6e4125a1a80d45e2bda6ba9eccb417a9",
       "version_major": 2,
       "version_minor": 0
      },
      "text/plain": [
       "2-261_48-14.tif: |          | 0.00/9.30M (raw) [  0.0%] in 00:00 (eta:     ?)"
      ]
     },
     "metadata": {},
     "output_type": "display_data"
    },
    {
     "name": "stdout",
     "output_type": "stream",
     "text": [
      "Downloading Date 4: 2019-04-01 to 2019-05-01\n",
      "Creating folder: ts_dataset//s1//4\n",
      "Creating folder: ts_dataset//s2//4\n"
     ]
    },
    {
     "data": {
      "application/vnd.jupyter.widget-view+json": {
       "model_id": "1c40942f91ad45558368b21502eb7309",
       "version_major": 2,
       "version_minor": 0
      },
      "text/plain": [
       "2-261_48-14.tif: |          | 0.00/12.4M (raw) [  0.0%] in 00:00 (eta:     ?)"
      ]
     },
     "metadata": {},
     "output_type": "display_data"
    },
    {
     "data": {
      "application/vnd.jupyter.widget-view+json": {
       "model_id": "15676777d7554dc5bc3c1e726f3b0205",
       "version_major": 2,
       "version_minor": 0
      },
      "text/plain": [
       "2-261_48-14.tif: |          | 0.00/9.30M (raw) [  0.0%] in 00:00 (eta:     ?)"
      ]
     },
     "metadata": {},
     "output_type": "display_data"
    },
    {
     "name": "stdout",
     "output_type": "stream",
     "text": [
      "Downloading Date 5: 2019-05-01 to 2019-06-01\n",
      "Creating folder: ts_dataset//s1//5\n",
      "Creating folder: ts_dataset//s2//5\n"
     ]
    },
    {
     "data": {
      "application/vnd.jupyter.widget-view+json": {
       "model_id": "d66ec9c1e20741d385b177ff6f8579e4",
       "version_major": 2,
       "version_minor": 0
      },
      "text/plain": [
       "2-261_48-14.tif: |          | 0.00/12.4M (raw) [  0.0%] in 00:00 (eta:     ?)"
      ]
     },
     "metadata": {},
     "output_type": "display_data"
    },
    {
     "data": {
      "application/vnd.jupyter.widget-view+json": {
       "model_id": "1bdfc6ec2637433688476012ff6d5c63",
       "version_major": 2,
       "version_minor": 0
      },
      "text/plain": [
       "2-261_48-14.tif: |          | 0.00/9.30M (raw) [  0.0%] in 00:00 (eta:     ?)"
      ]
     },
     "metadata": {},
     "output_type": "display_data"
    },
    {
     "name": "stdout",
     "output_type": "stream",
     "text": [
      "Downloading Date 6: 2019-06-01 to 2019-07-01\n",
      "Creating folder: ts_dataset//s1//6\n",
      "Creating folder: ts_dataset//s2//6\n"
     ]
    },
    {
     "data": {
      "application/vnd.jupyter.widget-view+json": {
       "model_id": "81732e5abb244861add8734666f9780f",
       "version_major": 2,
       "version_minor": 0
      },
      "text/plain": [
       "2-261_48-14.tif: |          | 0.00/12.4M (raw) [  0.0%] in 00:00 (eta:     ?)"
      ]
     },
     "metadata": {},
     "output_type": "display_data"
    },
    {
     "data": {
      "application/vnd.jupyter.widget-view+json": {
       "model_id": "0a125937fb99498ba2df0fe4c5bb4460",
       "version_major": 2,
       "version_minor": 0
      },
      "text/plain": [
       "2-261_48-14.tif: |          | 0.00/9.30M (raw) [  0.0%] in 00:00 (eta:     ?)"
      ]
     },
     "metadata": {},
     "output_type": "display_data"
    },
    {
     "name": "stdout",
     "output_type": "stream",
     "text": [
      "Downloading Crop Map...\n",
      "Creating folder: ts_dataset//crop_map\n"
     ]
    },
    {
     "data": {
      "application/vnd.jupyter.widget-view+json": {
       "model_id": "2b759220bbee4aa8bafc27a7fd457bb5",
       "version_major": 2,
       "version_minor": 0
      },
      "text/plain": [
       "2-261_48-14.tif: |          | 0.00/1.55M (raw) [  0.0%] in 00:00 (eta:     ?)"
      ]
     },
     "metadata": {},
     "output_type": "display_data"
    },
    {
     "name": "stdout",
     "output_type": "stream",
     "text": [
      "Done!\n"
     ]
    }
   ],
   "source": [
    "ts_downloader(roi, dummy_harvest_date, scale=10, bands=['B2','B3','B4'])"
   ]
  },
  {
   "cell_type": "code",
   "execution_count": 103,
   "metadata": {},
   "outputs": [
    {
     "data": {
      "text/plain": [
       "<module 'utils.utils' from 'd:\\\\python\\\\CropMapping\\\\dataset\\\\utils\\\\utils.py'>"
      ]
     },
     "execution_count": 103,
     "metadata": {},
     "output_type": "execute_result"
    }
   ],
   "source": [
    "from utils import utils\n",
    "importlib.reload(utils)"
   ]
  },
  {
   "cell_type": "code",
   "execution_count": 104,
   "metadata": {},
   "outputs": [
    {
     "data": {
      "text/plain": [
       "['crop_map', 's1', 's2']"
      ]
     },
     "execution_count": 104,
     "metadata": {},
     "output_type": "execute_result"
    }
   ],
   "source": [
    "os.listdir(\"ts_dataset//\")"
   ]
  },
  {
   "cell_type": "code",
   "execution_count": null,
   "metadata": {},
   "outputs": [],
   "source": [
    "# ts_dataset\n",
    "# |-- crop_map\n",
    "# |-- s1\n",
    "#     |-- 1\n",
    "#     |-- 2\n",
    "#     |-- 3\n",
    "#     |-- 4\n",
    "#     |-- 5\n",
    "#     |-- 6\n",
    "# |-- s2\n",
    "#     |-- 1\n",
    "#     |-- 2\n",
    "#     |-- 3\n",
    "#     |-- 4\n",
    "#     |-- 5\n",
    "#     |-- 6\n",
    "\n",
    "# Loop through the folders in the dataset\n"
   ]
  },
  {
   "cell_type": "code",
   "execution_count": 107,
   "metadata": {},
   "outputs": [
    {
     "name": "stdout",
     "output_type": "stream",
     "text": [
      "Processing: ts_dataset//s1//1\n",
      "\u001b[0;105m 2-261_48-14.tif \u001b[0m\n",
      "shape after fix: (853, 909, 2)\n",
      "range before norm:  -49.983915584353966 -13.449824945360952 5.372152874504233 20.771304398343776\n",
      "NaN Ratio: 0.0 Percent\n",
      "range after norm and NaN removal:  \u001b[0;96m -25.0 -13.420638424887525 5.294002526284856 15.0 \u001b[0m\n",
      "✅ \u001b[92m Final Shape-> (15, 15, 64, 64, 2) \u001b[0m\n",
      "Processing: ts_dataset//s1//2\n",
      "\u001b[0;105m 2-261_48-14.tif \u001b[0m\n",
      "shape after fix: (853, 909, 2)\n",
      "range before norm:  -50.26328759605357 -15.768953254918932 6.0358281339830775 20.418096725876534\n",
      "NaN Ratio: 0.0 Percent\n",
      "range after norm and NaN removal:  \u001b[0;96m -25.0 -15.586981331462495 5.636057983771641 15.0 \u001b[0m\n",
      "✅ \u001b[92m Final Shape-> (15, 15, 64, 64, 2) \u001b[0m\n",
      "Processing: ts_dataset//s1//3\n",
      "\u001b[0;105m 2-261_48-14.tif \u001b[0m\n",
      "shape after fix: (853, 909, 2)\n",
      "range before norm:  -47.46076703464347 -15.260919953144727 5.395244365007187 20.361222064075424\n",
      "NaN Ratio: 0.0 Percent\n",
      "range after norm and NaN removal:  \u001b[0;96m -25.0 -15.217241649344631 5.300207042349706 15.0 \u001b[0m\n",
      "✅ \u001b[92m Final Shape-> (15, 15, 64, 64, 2) \u001b[0m\n",
      "Processing: ts_dataset//s1//4\n",
      "\u001b[0;105m 2-261_48-14.tif \u001b[0m\n",
      "shape after fix: (853, 909, 2)\n",
      "range before norm:  -49.98777092161771 -17.512185703755577 4.855336052977286 20.46240314711342\n",
      "NaN Ratio: 0.0 Percent\n",
      "range after norm and NaN removal:  \u001b[0;96m -25.0 -17.386158001985876 4.593271978048644 15.0 \u001b[0m\n",
      "✅ \u001b[92m Final Shape-> (15, 15, 64, 64, 2) \u001b[0m\n",
      "Processing: ts_dataset//s1//5\n",
      "\u001b[0;105m 2-261_48-14.tif \u001b[0m\n",
      "shape after fix: (853, 909, 2)\n",
      "range before norm:  -50.574970823755756 -18.650465696597227 4.9004828173600306 20.776693619847755\n",
      "NaN Ratio: 0.0 Percent\n",
      "range after norm and NaN removal:  \u001b[0;96m -25.0 -18.46973910704888 4.572032234223925 15.0 \u001b[0m\n",
      "✅ \u001b[92m Final Shape-> (15, 15, 64, 64, 2) \u001b[0m\n",
      "Processing: ts_dataset//s1//6\n",
      "\u001b[0;105m 2-261_48-14.tif \u001b[0m\n",
      "shape after fix: (853, 909, 2)\n",
      "range before norm:  -49.43091529913101 -14.787993122076154 4.58397698501032 21.040898317406004\n",
      "NaN Ratio: 0.0 Percent\n",
      "range after norm and NaN removal:  \u001b[0;96m -25.0 -14.776114727240856 4.552604799204551 15.0 \u001b[0m\n",
      "✅ \u001b[92m Final Shape-> (15, 15, 64, 64, 2) \u001b[0m\n",
      "Processing: ts_dataset//s2//1\n",
      "\u001b[0;105m 2-261_48-14.tif \u001b[0m\n",
      "shape after fix: (853, 909, 3)\n",
      "range before norm:  nan nan nan nan\n",
      "NaN Ratio: 6.328405407949939 Percent\n",
      "\u001b[93m ⚠️ High NaN ratio! ⚠️ \u001b[0m\n",
      "range after norm and NaN removal:  \u001b[0;96m 0.0 0.08149494 0.052316826 0.99 \u001b[0m\n",
      "✅ \u001b[92m Final Shape-> (15, 15, 64, 64, 3) \u001b[0m\n",
      "Processing: ts_dataset//s2//2\n",
      "\u001b[0;105m 2-261_48-14.tif \u001b[0m\n",
      "shape after fix: (853, 909, 3)\n",
      "range before norm:  nan nan nan nan\n",
      "NaN Ratio: 0.012767982542685687 Percent\n",
      "range after norm and NaN removal:  \u001b[0;96m 0.0 0.07530985 0.03140204 0.8656 \u001b[0m\n",
      "✅ \u001b[92m Final Shape-> (15, 15, 64, 64, 3) \u001b[0m\n",
      "Processing: ts_dataset//s2//3\n",
      "\u001b[0;105m 2-261_48-14.tif \u001b[0m\n",
      "shape after fix: (853, 909, 3)\n",
      "range before norm:  nan nan nan nan\n",
      "NaN Ratio: 0.01741088528548048 Percent\n",
      "range after norm and NaN removal:  \u001b[0;96m 0.0 0.089867055 0.036445245 0.9176 \u001b[0m\n",
      "✅ \u001b[92m Final Shape-> (15, 15, 64, 64, 3) \u001b[0m\n",
      "Processing: ts_dataset//s2//4\n",
      "\u001b[0;105m 2-261_48-14.tif \u001b[0m\n",
      "shape after fix: (853, 909, 3)\n",
      "range before norm:  nan nan nan nan\n",
      "NaN Ratio: 0.0023214513713973976 Percent\n",
      "range after norm and NaN removal:  \u001b[0;96m 0.0 0.08437725 0.033647742 0.5186 \u001b[0m\n",
      "✅ \u001b[92m Final Shape-> (15, 15, 64, 64, 3) \u001b[0m\n",
      "Processing: ts_dataset//s2//5\n",
      "\u001b[0;105m 2-261_48-14.tif \u001b[0m\n",
      "shape after fix: (853, 909, 3)\n",
      "range before norm:  nan nan nan nan\n",
      "NaN Ratio: 0.01741088528548048 Percent\n",
      "range after norm and NaN removal:  \u001b[0;96m 0.0 0.06955471 0.04440292 0.569 \u001b[0m\n",
      "✅ \u001b[92m Final Shape-> (15, 15, 64, 64, 3) \u001b[0m\n",
      "Processing: ts_dataset//s2//6\n",
      "\u001b[0;105m 2-261_48-14.tif \u001b[0m\n",
      "shape after fix: (853, 909, 3)\n",
      "range before norm:  1e-04 0.08061393 0.040621303 0.8706\n",
      "NaN Ratio: 0.0 Percent\n",
      "range after norm and NaN removal:  \u001b[0;96m 1e-04 0.08061393 0.040621303 0.8706 \u001b[0m\n",
      "✅ \u001b[92m Final Shape-> (15, 15, 64, 64, 3) \u001b[0m\n",
      "Processing: ts_dataset//crop_map//\n",
      "\u001b[0;105m 2-261_48-14.tif \u001b[0m\n",
      "shape after fix: (853, 909, 1)\n",
      "range before norm:  0 228.8622295992788 98.72658965708118 600\n",
      "NaN Ratio: 0.0 Percent\n",
      "range after norm and NaN removal:  \u001b[0;96m 0 228.8622295992788 98.72658965708118 600 \u001b[0m\n",
      "✅ \u001b[92m Final Shape-> (15, 15, 64, 64, 1) \u001b[0m\n"
     ]
    }
   ],
   "source": [
    "\n",
    "main_in_folder = \"ts_dataset//\"\n",
    "main_out_folder = \"ts_dataset_patched//\"\n",
    "folders = [\"s1\", \"s2\"]\n",
    "for folder in folders:\n",
    "    ts_date_folders = os.listdir(main_in_folder + folder)\n",
    "    for date in ts_date_folders:\n",
    "        print(\"Processing: \" + main_in_folder + folder + \"//\" + date)\n",
    "        input_sat = \"S2\" if folder == \"s2\" else \"S1\"\n",
    "        utils.patch_folder(main_in_folder + folder + \"//\" + date+ \"//\", main_out_folder + folder + \"//\" + date+ \"//\", input_sat=input_sat, remove_year=False,mute=True)\n",
    "\n",
    "# patch crop map\n",
    "print(\"Processing: \" + main_in_folder + \"crop_map\" + \"//\")\n",
    "utils.patch_folder(main_in_folder + \"crop_map\" + \"//\", main_out_folder + \"crop_map\" + \"//\", input_sat=\"crop_map\", remove_year=False,mute=True)\n"
   ]
  },
  {
   "cell_type": "code",
   "execution_count": null,
   "metadata": {},
   "outputs": [],
   "source": []
  }
 ],
 "metadata": {
  "kernelspec": {
   "display_name": "geemap",
   "language": "python",
   "name": "python3"
  },
  "language_info": {
   "codemirror_mode": {
    "name": "ipython",
    "version": 3
   },
   "file_extension": ".py",
   "mimetype": "text/x-python",
   "name": "python",
   "nbconvert_exporter": "python",
   "pygments_lexer": "ipython3",
   "version": "3.9.16"
  }
 },
 "nbformat": 4,
 "nbformat_minor": 2
}
