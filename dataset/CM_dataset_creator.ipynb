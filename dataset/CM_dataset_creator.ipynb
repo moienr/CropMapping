{
 "cells": [
  {
   "cell_type": "code",
   "execution_count": 1,
   "metadata": {},
   "outputs": [],
   "source": [
    "import ee\n",
    "import geemap\n",
    "import importlib\n",
    "import ast\n",
    "import pandas as pd"
   ]
  },
  {
   "cell_type": "code",
   "execution_count": 2,
   "metadata": {},
   "outputs": [],
   "source": [
    "Map = geemap.Map()"
   ]
  },
  {
   "cell_type": "code",
   "execution_count": 3,
   "metadata": {},
   "outputs": [],
   "source": [
    "ee.Initialize()"
   ]
  },
  {
   "cell_type": "code",
   "execution_count": 4,
   "metadata": {},
   "outputs": [],
   "source": [
    "import utils.ee_utils as ee_utils"
   ]
  },
  {
   "cell_type": "code",
   "execution_count": 5,
   "metadata": {},
   "outputs": [
    {
     "data": {
      "text/plain": [
       "<module 'utils.ee_utils' from 'd:\\\\python\\\\CropMapping\\\\dataset\\\\utils\\\\ee_utils.py'>"
      ]
     },
     "execution_count": 5,
     "metadata": {},
     "output_type": "execute_result"
    }
   ],
   "source": [
    "# Reload the module\n",
    "importlib.reload(ee_utils)"
   ]
  },
  {
   "cell_type": "code",
   "execution_count": 6,
   "metadata": {},
   "outputs": [],
   "source": [
    "date1 = '2018-8-01'\n",
    "date2 = '2018-8-30'"
   ]
  },
  {
   "cell_type": "code",
   "execution_count": 7,
   "metadata": {},
   "outputs": [],
   "source": [
    "\n",
    "# Define area of interest.\n",
    "# roi = ee.Geometry.Polygon(\n",
    "#                                 [[[1.2897224677359675, 48.38400739957012],\n",
    "#                                 [1.2897224677359675, 47.93697958008443],\n",
    "#                                 [3.2068367255484675, 47.93697958008443],\n",
    "#                                 [3.2068367255484675, 48.38400739957012]]])\n",
    "roi = ee.Geometry.Polygon( [[[2.220233, 48.116767],\n",
    "                             [2.301807, 48.116767],\n",
    "                             [2.301807, 48.167835],\n",
    "                             [2.220233, 48.167835],\n",
    "                             [2.220233, 48.116767]]])\n",
    "\n",
    "\n",
    "# Call function with defined start and end dates and area of interest.\n",
    "cloudless_collection = ee_utils.create_s2_collection(roi, date1, date2)\n",
    "\n",
    "# Define visualization parameters.\n",
    "visualization = {\n",
    "        'min': 0.0,\n",
    "        'max': 0.3,\n",
    "        'bands': ['B4', 'B3', 'B2'],\n",
    "}\n",
    "\n",
    "# Add layer to map.\n",
    "Map.addLayer(cloudless_collection.median().clip(roi), visualization, 'Cloudless Collection')\n",
    "Map.centerObject(roi, 10)"
   ]
  },
  {
   "cell_type": "code",
   "execution_count": 8,
   "metadata": {},
   "outputs": [],
   "source": [
    "s1_mosaic = ee_utils.get_combined_s1_image(roi, date1, date2)\n",
    "s1_mosaic = ee_utils.sen1_add_ratio(s1_mosaic, vv_name='VV', vh_name='VH', ratio_name='ratio')\n",
    "\n",
    "false_color = {\n",
    "    'bands': ['VV', 'VH', 'ratio'],\n",
    "    'min': [-25, -35, 0],\n",
    "    'max': [0, -5, 10]\n",
    "}\n",
    "Map.addLayer(s1_mosaic, false_color, 'S1 Mosaic')\n",
    "Map.centerObject(roi, 10)"
   ]
  },
  {
   "cell_type": "code",
   "execution_count": 9,
   "metadata": {},
   "outputs": [],
   "source": [
    "crop_map = ee.Image('JRC/D5/EUCROPMAP/V1/2018')\n",
    "# binari mask for crop map for mazie 216\n",
    "crop_map = crop_map.eq(216)\n",
    "\n",
    "# Replace null values with 0\n",
    "crop_map = crop_map.unmask(0).clip(roi)\n",
    "\n",
    "Map.addLayer(crop_map, {}, 'Crop Map')"
   ]
  },
  {
   "cell_type": "code",
   "execution_count": 10,
   "metadata": {},
   "outputs": [
    {
     "data": {
      "text/html": [
       "<div><style>:root {\n",
       "  --font-color-primary: var(--jp-content-font-color0, rgba(0, 0, 0, 1));\n",
       "  --font-color-secondary: var(--jp-content-font-color2, rgba(0, 0, 0, 0.6));\n",
       "  --font-color-accent: rgba(123, 31, 162, 1);\n",
       "  --border-color: var(--jp-border-color2, #e0e0e0);\n",
       "  --background-color: var(--jp-layout-color0, white);\n",
       "  --background-color-row-even: var(--jp-layout-color1, white);\n",
       "  --background-color-row-odd: var(--jp-layout-color2, #eeeeee);\n",
       "}\n",
       "\n",
       "html[theme=\"dark\"],\n",
       "body[data-theme=\"dark\"],\n",
       "body.vscode-dark {\n",
       "  --font-color-primary: rgba(255, 255, 255, 1);\n",
       "  --font-color-secondary: rgba(255, 255, 255, 0.6);\n",
       "  --font-color-accent: rgb(173, 132, 190);\n",
       "  --border-color: #2e2e2e;\n",
       "  --background-color: #111111;\n",
       "  --background-color-row-even: #111111;\n",
       "  --background-color-row-odd: #313131;\n",
       "}\n",
       "\n",
       ".ee {\n",
       "  padding: 1em;\n",
       "  line-height: 1.5em;\n",
       "  min-width: 300px;\n",
       "  max-width: 1200px;\n",
       "  overflow-y: scroll;\n",
       "  max-height: 600px;\n",
       "  border: 1px solid var(--border-color);\n",
       "  font-family: monospace;\n",
       "}\n",
       "\n",
       ".ee li {\n",
       "  list-style-type: none;\n",
       "}\n",
       "\n",
       ".ee ul {\n",
       "  padding-left: 1.5em !important;\n",
       "  margin: 0;\n",
       "}\n",
       "\n",
       ".ee > ul {\n",
       "  padding-left: 0 !important;\n",
       "}\n",
       "\n",
       ".ee-open,\n",
       ".ee-shut {\n",
       "  color: var(--font-color-secondary);\n",
       "  cursor: pointer;\n",
       "  margin: 0;\n",
       "}\n",
       "\n",
       ".ee-open:hover,\n",
       ".ee-shut:hover {\n",
       "  color: var(--font-color-primary);\n",
       "}\n",
       "\n",
       ".ee-k {\n",
       "  color: var(--font-color-accent);\n",
       "  margin-right: 6px;\n",
       "}\n",
       "\n",
       ".ee-v {\n",
       "  color: var(--font-color-primary);\n",
       "}\n",
       "\n",
       ".ee-toggle {\n",
       "  display: none;\n",
       "}\n",
       "\n",
       ".ee-shut + ul {\n",
       "  display: none;\n",
       "}\n",
       "\n",
       ".ee-open + ul {\n",
       "  display: block;\n",
       "}\n",
       "\n",
       ".ee-shut::before {\n",
       "  display: inline-block;\n",
       "  content: \"▼\";\n",
       "  margin-right: 6px;\n",
       "  transform: rotate(-90deg);\n",
       "  transition: transform 0.2s;\n",
       "}\n",
       "\n",
       ".ee-open::before {\n",
       "  transform: rotate(0deg);\n",
       "  display: inline-block;\n",
       "  content: \"▼\";\n",
       "  margin-right: 6px;\n",
       "  transition: transform 0.2s;\n",
       "}\n",
       "</style><div class='ee'><ul><li><label class='ee-shut'>Image (3 bands)<input type='checkbox' class='ee-toggle'></label><ul><li><span class='ee-k'>type:</span><span class='ee-v'>Image</span></li><li><label class='ee-shut'>bands: List (3 elements)<input type='checkbox' class='ee-toggle'></label><ul><li><label class='ee-shut'>0: \"VV\", double, EPSG:4326, 2x2 px<input type='checkbox' class='ee-toggle'></label><ul><li><span class='ee-k'>id:</span><span class='ee-v'>VV</span></li><li><span class='ee-k'>crs:</span><span class='ee-v'>EPSG:4326</span></li><li><label class='ee-shut'>crs_transform: [1, 0, 0, 0, 1, 0]<input type='checkbox' class='ee-toggle'></label><ul><li><span class='ee-k'>0:</span><span class='ee-v'>1</span></li><li><span class='ee-k'>1:</span><span class='ee-v'>0</span></li><li><span class='ee-k'>2:</span><span class='ee-v'>0</span></li><li><span class='ee-k'>3:</span><span class='ee-v'>0</span></li><li><span class='ee-k'>4:</span><span class='ee-v'>1</span></li><li><span class='ee-k'>5:</span><span class='ee-v'>0</span></li></ul></li><li><label class='ee-shut'>data_type: double<input type='checkbox' class='ee-toggle'></label><ul><li><span class='ee-k'>type:</span><span class='ee-v'>PixelType</span></li><li><span class='ee-k'>precision:</span><span class='ee-v'>double</span></li></ul></li><li><label class='ee-shut'>dimensions: [2, 2]<input type='checkbox' class='ee-toggle'></label><ul><li><span class='ee-k'>0:</span><span class='ee-v'>2</span></li><li><span class='ee-k'>1:</span><span class='ee-v'>2</span></li></ul></li><li><label class='ee-shut'>origin: [1, 47]<input type='checkbox' class='ee-toggle'></label><ul><li><span class='ee-k'>0:</span><span class='ee-v'>1</span></li><li><span class='ee-k'>1:</span><span class='ee-v'>47</span></li></ul></li></ul></li><li><label class='ee-shut'>1: \"VH\", double, EPSG:4326, 2x2 px<input type='checkbox' class='ee-toggle'></label><ul><li><span class='ee-k'>id:</span><span class='ee-v'>VH</span></li><li><span class='ee-k'>crs:</span><span class='ee-v'>EPSG:4326</span></li><li><label class='ee-shut'>crs_transform: [1, 0, 0, 0, 1, 0]<input type='checkbox' class='ee-toggle'></label><ul><li><span class='ee-k'>0:</span><span class='ee-v'>1</span></li><li><span class='ee-k'>1:</span><span class='ee-v'>0</span></li><li><span class='ee-k'>2:</span><span class='ee-v'>0</span></li><li><span class='ee-k'>3:</span><span class='ee-v'>0</span></li><li><span class='ee-k'>4:</span><span class='ee-v'>1</span></li><li><span class='ee-k'>5:</span><span class='ee-v'>0</span></li></ul></li><li><label class='ee-shut'>data_type: double<input type='checkbox' class='ee-toggle'></label><ul><li><span class='ee-k'>type:</span><span class='ee-v'>PixelType</span></li><li><span class='ee-k'>precision:</span><span class='ee-v'>double</span></li></ul></li><li><label class='ee-shut'>dimensions: [2, 2]<input type='checkbox' class='ee-toggle'></label><ul><li><span class='ee-k'>0:</span><span class='ee-v'>2</span></li><li><span class='ee-k'>1:</span><span class='ee-v'>2</span></li></ul></li><li><label class='ee-shut'>origin: [1, 47]<input type='checkbox' class='ee-toggle'></label><ul><li><span class='ee-k'>0:</span><span class='ee-v'>1</span></li><li><span class='ee-k'>1:</span><span class='ee-v'>47</span></li></ul></li></ul></li><li><label class='ee-shut'>2: \"ratio\", double, EPSG:4326, 2x2 px<input type='checkbox' class='ee-toggle'></label><ul><li><span class='ee-k'>id:</span><span class='ee-v'>ratio</span></li><li><span class='ee-k'>crs:</span><span class='ee-v'>EPSG:4326</span></li><li><label class='ee-shut'>crs_transform: [1, 0, 0, 0, 1, 0]<input type='checkbox' class='ee-toggle'></label><ul><li><span class='ee-k'>0:</span><span class='ee-v'>1</span></li><li><span class='ee-k'>1:</span><span class='ee-v'>0</span></li><li><span class='ee-k'>2:</span><span class='ee-v'>0</span></li><li><span class='ee-k'>3:</span><span class='ee-v'>0</span></li><li><span class='ee-k'>4:</span><span class='ee-v'>1</span></li><li><span class='ee-k'>5:</span><span class='ee-v'>0</span></li></ul></li><li><label class='ee-shut'>data_type: double<input type='checkbox' class='ee-toggle'></label><ul><li><span class='ee-k'>type:</span><span class='ee-v'>PixelType</span></li><li><span class='ee-k'>precision:</span><span class='ee-v'>double</span></li></ul></li><li><label class='ee-shut'>dimensions: [2, 2]<input type='checkbox' class='ee-toggle'></label><ul><li><span class='ee-k'>0:</span><span class='ee-v'>2</span></li><li><span class='ee-k'>1:</span><span class='ee-v'>2</span></li></ul></li><li><label class='ee-shut'>origin: [1, 47]<input type='checkbox' class='ee-toggle'></label><ul><li><span class='ee-k'>0:</span><span class='ee-v'>1</span></li><li><span class='ee-k'>1:</span><span class='ee-v'>47</span></li></ul></li></ul></li></ul></li><li><label class='ee-shut'>properties: Object (1 property)<input type='checkbox' class='ee-toggle'></label><ul><li><label class='ee-shut'>system:footprint: Polygon (5 vertices)<input type='checkbox' class='ee-toggle'></label><ul><li><span class='ee-k'>type:</span><span class='ee-v'>Polygon</span></li><li><label class='ee-shut'>coordinates: List (1 element)<input type='checkbox' class='ee-toggle'></label><ul><li><label class='ee-shut'>0: List (5 elements)<input type='checkbox' class='ee-toggle'></label><ul><li><label class='ee-shut'>0: [2.220233, 48.116767]<input type='checkbox' class='ee-toggle'></label><ul><li><span class='ee-k'>0:</span><span class='ee-v'>2.220233</span></li><li><span class='ee-k'>1:</span><span class='ee-v'>48.116767</span></li></ul></li><li><label class='ee-shut'>1: [2.301807, 48.116767]<input type='checkbox' class='ee-toggle'></label><ul><li><span class='ee-k'>0:</span><span class='ee-v'>2.301807</span></li><li><span class='ee-k'>1:</span><span class='ee-v'>48.116767</span></li></ul></li><li><label class='ee-shut'>2: [2.301807, 48.167835]<input type='checkbox' class='ee-toggle'></label><ul><li><span class='ee-k'>0:</span><span class='ee-v'>2.301807</span></li><li><span class='ee-k'>1:</span><span class='ee-v'>48.167835</span></li></ul></li><li><label class='ee-shut'>3: [2.220233, 48.167835]<input type='checkbox' class='ee-toggle'></label><ul><li><span class='ee-k'>0:</span><span class='ee-v'>2.220233</span></li><li><span class='ee-k'>1:</span><span class='ee-v'>48.167835</span></li></ul></li><li><label class='ee-shut'>4: [2.220233, 48.116767]<input type='checkbox' class='ee-toggle'></label><ul><li><span class='ee-k'>0:</span><span class='ee-v'>2.220233</span></li><li><span class='ee-k'>1:</span><span class='ee-v'>48.116767</span></li></ul></li></ul></li></ul></li></ul></li></ul></li></ul></li></ul></div><script>function toggleHeader() {\n",
       "    const parent = this.parentElement;\n",
       "    parent.className = parent.className === \"ee-open\" ? \"ee-shut\" : \"ee-open\";\n",
       "}\n",
       "\n",
       "for (let c of document.getElementsByClassName(\"ee-toggle\")) {\n",
       "    c.onclick = toggleHeader;\n",
       "}</script></div>"
      ],
      "text/plain": [
       "<ee.image.Image at 0x16c1410a3a0>"
      ]
     },
     "execution_count": 10,
     "metadata": {},
     "output_type": "execute_result"
    }
   ],
   "source": [
    "s1_mosaic"
   ]
  },
  {
   "cell_type": "code",
   "execution_count": 11,
   "metadata": {},
   "outputs": [
    {
     "data": {
      "application/vnd.jupyter.widget-view+json": {
       "model_id": "ec237b9a65e94b6da0a36c5a0bc07a70",
       "version_major": 2,
       "version_minor": 0
      },
      "text/plain": [
       "Map(center=[48.14230398135283, 2.2610199999944824], controls=(WidgetControl(options=['position', 'transparent_…"
      ]
     },
     "metadata": {},
     "output_type": "display_data"
    }
   ],
   "source": [
    "Map"
   ]
  },
  {
   "cell_type": "code",
   "execution_count": 12,
   "metadata": {},
   "outputs": [],
   "source": [
    "# get roi from polygon geemap\n",
    "# roi = Map.draw_last_feature.geometry()\n",
    "# print(roi)"
   ]
  },
  {
   "cell_type": "code",
   "execution_count": 13,
   "metadata": {},
   "outputs": [
    {
     "name": "stdout",
     "output_type": "stream",
     "text": [
      "{'type': 'Polygon', 'coordinates': [[[2.220233, 48.116767], [2.301807, 48.116767], [2.301807, 48.167835], [2.220233, 48.167835], [2.220233, 48.116767]]]}\n"
     ]
    }
   ],
   "source": [
    "print(roi.getInfo())"
   ]
  },
  {
   "cell_type": "code",
   "execution_count": 14,
   "metadata": {},
   "outputs": [],
   "source": [
    "sen1_short_print = lambda s2_collection: ee_utils.ee_property_printer(s2_collection, propertie_name_list=['system:time_start','platform_number',\n",
    "                                                                                           'system:band_names','instrumentMode',                         \n",
    "                                                                                            'relativeOrbitNumber_stop','relativeOrbitNumber_start',\n",
    "                                                                                            'cycleNumber'],\n",
    "                                                             first_is_t_in_millis=True, df_instead_of_print=False)"
   ]
  },
  {
   "cell_type": "code",
   "execution_count": 15,
   "metadata": {},
   "outputs": [],
   "source": [
    "def download_s1_s2(roi, start_date, end_date, s1_folder=\"\", s2_folder=\"\",\n",
    "                   s1_file_name=\"s1_56-48.tif\", s2_file_name=\"s2_56-48.tif\",\n",
    "                   scale=10, bands=['B2', 'B3', 'B4'], proj='EPSG:3857'):\n",
    "    s1_img = ee_utils.get_combined_s1_image(roi, start_date, end_date)\n",
    "    s2_img = ee_utils.get_combined_s2_image(roi, start_date, end_date)\n",
    "    s2_img = s2_img.select(bands)\n",
    "\n",
    "    # EPSG:4326 or EPSG:3857\n",
    "    geemap.download_ee_image(s1_img, s1_folder + s1_file_name, crs=proj, scale=scale, region=roi)\n",
    "    geemap.download_ee_image(s2_img, s2_folder + s2_file_name, crs=proj, scale=scale, region=roi)"
   ]
  },
  {
   "cell_type": "code",
   "execution_count": 16,
   "metadata": {},
   "outputs": [],
   "source": [
    "# download_s1_s2(roi, '2019-05-01', '2019-06-30', scale=10, bands=['B2','B3','B4'])"
   ]
  },
  {
   "cell_type": "code",
   "execution_count": 17,
   "metadata": {},
   "outputs": [],
   "source": [
    "# crop_map = ee.Image('JRC/D5/EUCROPMAP/V1/2018').clip(roi)\n",
    "# geemap.download_ee_image(crop_map, \"crop_map\"+\".tif\",crs='EPSG:3857', scale=10,region = roi)"
   ]
  },
  {
   "cell_type": "code",
   "execution_count": 18,
   "metadata": {},
   "outputs": [
    {
     "name": "stdout",
     "output_type": "stream",
     "text": [
      "[('2019-01-01', '2019-02-01'), ('2019-02-01', '2019-03-01'), ('2019-03-01', '2019-04-01'), ('2019-04-01', '2019-05-01'), ('2019-05-01', '2019-06-01'), ('2019-06-01', '2019-07-01')]\n"
     ]
    }
   ],
   "source": [
    "from datetime import datetime, timedelta\n",
    "from dateutil.relativedelta import relativedelta\n",
    "def get_previous_months(harvest_date):\n",
    "    # Convert harvest date string to datetime object\n",
    "    harvest_datetime = datetime.strptime(harvest_date, '%Y-%m-%d')\n",
    "    \n",
    "    # Create a list to store the previous months\n",
    "    previous_months = []\n",
    "    \n",
    "    # Loop through the previous six months and add them to the list\n",
    "    for i in range(1, 7):\n",
    "        previous_month = ((harvest_datetime - relativedelta(months=i+1)).strftime('%Y-%m-%d'), (harvest_datetime - relativedelta(months=i)).strftime('%Y-%m-%d'))\n",
    "        \n",
    "        previous_months.append(previous_month)\n",
    "        \n",
    "    previous_months.reverse()\n",
    "    return previous_months\n",
    "\n",
    "dummy_harvest_date = '2019-08-01'\n",
    "previous_months = get_previous_months(dummy_harvest_date)\n",
    "print(previous_months)"
   ]
  },
  {
   "cell_type": "code",
   "execution_count": 19,
   "metadata": {},
   "outputs": [
    {
     "data": {
      "text/plain": [
       "'2-261_48-14.tif'"
      ]
     },
     "execution_count": 19,
     "metadata": {},
     "output_type": "execute_result"
    }
   ],
   "source": [
    "def name_from_roi(roi):\n",
    "    center = roi.centroid().getInfo()['coordinates']\n",
    "    x = str(center[0]).replace('.','-')[0:5]\n",
    "    y = str(center[1]).replace('.','-')[0:5]\n",
    "    return x + \"_\" + y + \".tif\"\n",
    "\n",
    "name_from_roi(roi)"
   ]
  },
  {
   "cell_type": "code",
   "execution_count": 20,
   "metadata": {},
   "outputs": [],
   "source": [
    "import os\n",
    "def check_folder_exists(folder):\n",
    "    if not os.path.exists(folder):\n",
    "        print(\"Creating folder: \" + folder)\n",
    "        os.makedirs(folder)"
   ]
  },
  {
   "cell_type": "code",
   "execution_count": 21,
   "metadata": {},
   "outputs": [],
   "source": [
    "def ts_downloader(roi, harvest_date, scale=10, bands=['B2','B3','B4'], proj='EPSG:3857', dataset_folder=\"ts_dataset\"):\n",
    "    ts_dates = get_previous_months(harvest_date)\n",
    "    name = name_from_roi(roi)\n",
    "    for i, ts_date in enumerate(ts_dates):\n",
    "        print(f\"Downloading Date {i+1}: {ts_date[0]} to {ts_date[1]}\")\n",
    "        check_folder_exists(dataset_folder + \"//s1//\" + str(i+1))\n",
    "        check_folder_exists(dataset_folder + \"//s2//\" + str(i+1))\n",
    "        download_s1_s2(roi, ts_date[0], ts_date[1], s1_folder=\"ts_dataset//s1//\" + str(i+1) + \"//\",\n",
    "                                                    s2_folder=\"ts_dataset//s2//\" + str(i+1) + \"//\",\n",
    "                                                    s1_file_name=name,  s2_file_name=name,\n",
    "                                                    scale=scale, bands=bands)\n",
    "    \n",
    "    print(\"Downloading Crop Map...\")\n",
    "    crop_map = ee.Image('JRC/D5/EUCROPMAP/V1/2018').clip(roi)\n",
    "    # none vlue to 0\n",
    "    crop_map = crop_map.unmask(0)\n",
    "    check_folder_exists(\"ts_dataset//crop_map\")\n",
    "    geemap.download_ee_image(crop_map, dataset_folder + \"//\" + \"crop_map//\" + name, crs='EPSG:3857', scale=10,region = roi)\n",
    "    \n",
    "    print(\"Done!\")"
   ]
  },
  {
   "cell_type": "code",
   "execution_count": 51,
   "metadata": {},
   "outputs": [],
   "source": [
    "rois_path = f'D:\\\\python\\\\CropMapping\\\\dataset\\\\Europe.xlsx'"
   ]
  },
  {
   "cell_type": "code",
   "execution_count": 52,
   "metadata": {},
   "outputs": [],
   "source": [
    "df = pd.read_excel(rois_path)"
   ]
  },
  {
   "cell_type": "code",
   "execution_count": 53,
   "metadata": {},
   "outputs": [],
   "source": [
    "BANDS = ['B2','B3','B4','B5','B6','B7','B8','B8A','B11','B12']"
   ]
  },
  {
   "cell_type": "code",
   "execution_count": 56,
   "metadata": {},
   "outputs": [
    {
     "name": "stdout",
     "output_type": "stream",
     "text": [
      "Processing 1 of 8\n",
      "Downloading Date 1: 2018-01-01 to 2018-02-01\n"
     ]
    },
    {
     "data": {
      "application/vnd.jupyter.widget-view+json": {
       "model_id": "ef922d6d29a14be7a54a9dbe033da42d",
       "version_major": 2,
       "version_minor": 0
      },
      "text/plain": [
       "0-398_52-49.tif: |          | 0.00/34.9M (raw) [  0.0%] in 00:00 (eta:     ?)"
      ]
     },
     "metadata": {},
     "output_type": "display_data"
    },
    {
     "name": "stderr",
     "output_type": "stream",
     "text": [
      "There is no STAC entry for: None\n"
     ]
    },
    {
     "data": {
      "application/vnd.jupyter.widget-view+json": {
       "model_id": "d0cf45e70b904425afca133c9cea9159",
       "version_major": 2,
       "version_minor": 0
      },
      "text/plain": [
       "0-398_52-49.tif: |          | 0.00/87.3M (raw) [  0.0%] in 00:00 (eta:     ?)"
      ]
     },
     "metadata": {},
     "output_type": "display_data"
    },
    {
     "name": "stdout",
     "output_type": "stream",
     "text": [
      "Downloading Date 2: 2018-02-01 to 2018-03-01\n"
     ]
    },
    {
     "ename": "",
     "evalue": "",
     "output_type": "error",
     "traceback": [
      "\u001b[1;31mThe Kernel crashed while executing code in the the current cell or a previous cell. Please review the code in the cell(s) to identify a possible cause of the failure. Click <a href='https://aka.ms/vscodeJupyterKernelCrash'>here</a> for more info. View Jupyter <a href='command:jupyter.viewOutput'>log</a> for further details."
     ]
    }
   ],
   "source": [
    "for index, row in df.iterrows():\n",
    "    print(f\"Processing {index+1} of {len(df)}\")\n",
    "    r_roi = row['roi']\n",
    "    r_roi = r_roi.replace('\\n', '').replace(' ', '')\n",
    "    r_roi = ast.literal_eval(r_roi)\n",
    "    r_roi = ee.Geometry.Polygon(r_roi)\n",
    "    r_date = row['harvest_date']\n",
    "    ts_downloader(r_roi, r_date, scale=10, bands=BANDS)"
   ]
  },
  {
   "cell_type": "code",
   "execution_count": 31,
   "metadata": {},
   "outputs": [
    {
     "name": "stdout",
     "output_type": "stream",
     "text": [
      "Downloading Date 1: 2019-01-01 to 2019-02-01\n",
      "Creating folder: ts_dataset//s2//1\n"
     ]
    },
    {
     "data": {
      "application/vnd.jupyter.widget-view+json": {
       "model_id": "178681c7f76347a2a6b2f1b3fb93f896",
       "version_major": 2,
       "version_minor": 0
      },
      "text/plain": [
       "2-261_48-14.tif: |          | 0.00/12.4M (raw) [  0.0%] in 00:00 (eta:     ?)"
      ]
     },
     "metadata": {},
     "output_type": "display_data"
    },
    {
     "name": "stderr",
     "output_type": "stream",
     "text": [
      "There is no STAC entry for: None\n"
     ]
    },
    {
     "data": {
      "application/vnd.jupyter.widget-view+json": {
       "model_id": "f32daaa2a5e14135be97f752a0b1b4bf",
       "version_major": 2,
       "version_minor": 0
      },
      "text/plain": [
       "2-261_48-14.tif: |          | 0.00/31.0M (raw) [  0.0%] in 00:00 (eta:     ?)"
      ]
     },
     "metadata": {},
     "output_type": "display_data"
    },
    {
     "name": "stdout",
     "output_type": "stream",
     "text": [
      "Downloading Date 2: 2019-02-01 to 2019-03-01\n",
      "Creating folder: ts_dataset//s1//2\n",
      "Creating folder: ts_dataset//s2//2\n"
     ]
    },
    {
     "data": {
      "application/vnd.jupyter.widget-view+json": {
       "model_id": "0a318d494d3b41faa88145dd174b3c98",
       "version_major": 2,
       "version_minor": 0
      },
      "text/plain": [
       "2-261_48-14.tif: |          | 0.00/12.4M (raw) [  0.0%] in 00:00 (eta:     ?)"
      ]
     },
     "metadata": {},
     "output_type": "display_data"
    },
    {
     "data": {
      "application/vnd.jupyter.widget-view+json": {
       "model_id": "574428bc9af6444181c2f650c209e0b1",
       "version_major": 2,
       "version_minor": 0
      },
      "text/plain": [
       "2-261_48-14.tif: |          | 0.00/31.0M (raw) [  0.0%] in 00:00 (eta:     ?)"
      ]
     },
     "metadata": {},
     "output_type": "display_data"
    },
    {
     "name": "stdout",
     "output_type": "stream",
     "text": [
      "Downloading Date 3: 2019-03-01 to 2019-04-01\n",
      "Creating folder: ts_dataset//s1//3\n",
      "Creating folder: ts_dataset//s2//3\n"
     ]
    },
    {
     "data": {
      "application/vnd.jupyter.widget-view+json": {
       "model_id": "249a96ec523e488a95911fac6426b8d3",
       "version_major": 2,
       "version_minor": 0
      },
      "text/plain": [
       "2-261_48-14.tif: |          | 0.00/12.4M (raw) [  0.0%] in 00:00 (eta:     ?)"
      ]
     },
     "metadata": {},
     "output_type": "display_data"
    },
    {
     "data": {
      "application/vnd.jupyter.widget-view+json": {
       "model_id": "50ac658d405a4bdba63f0f69d52f63bc",
       "version_major": 2,
       "version_minor": 0
      },
      "text/plain": [
       "2-261_48-14.tif: |          | 0.00/31.0M (raw) [  0.0%] in 00:00 (eta:     ?)"
      ]
     },
     "metadata": {},
     "output_type": "display_data"
    },
    {
     "name": "stdout",
     "output_type": "stream",
     "text": [
      "Downloading Date 4: 2019-04-01 to 2019-05-01\n",
      "Creating folder: ts_dataset//s1//4\n",
      "Creating folder: ts_dataset//s2//4\n"
     ]
    },
    {
     "data": {
      "application/vnd.jupyter.widget-view+json": {
       "model_id": "f34f64eb64754b75828751339bce35b9",
       "version_major": 2,
       "version_minor": 0
      },
      "text/plain": [
       "2-261_48-14.tif: |          | 0.00/12.4M (raw) [  0.0%] in 00:00 (eta:     ?)"
      ]
     },
     "metadata": {},
     "output_type": "display_data"
    },
    {
     "data": {
      "application/vnd.jupyter.widget-view+json": {
       "model_id": "6dbcd005eb8f4e7595c7a54eca477f8b",
       "version_major": 2,
       "version_minor": 0
      },
      "text/plain": [
       "2-261_48-14.tif: |          | 0.00/31.0M (raw) [  0.0%] in 00:00 (eta:     ?)"
      ]
     },
     "metadata": {},
     "output_type": "display_data"
    },
    {
     "name": "stdout",
     "output_type": "stream",
     "text": [
      "Downloading Date 5: 2019-05-01 to 2019-06-01\n",
      "Creating folder: ts_dataset//s1//5\n",
      "Creating folder: ts_dataset//s2//5\n"
     ]
    },
    {
     "data": {
      "application/vnd.jupyter.widget-view+json": {
       "model_id": "0edb645cf91441f9a4cd7f477ab1ca3a",
       "version_major": 2,
       "version_minor": 0
      },
      "text/plain": [
       "2-261_48-14.tif: |          | 0.00/12.4M (raw) [  0.0%] in 00:00 (eta:     ?)"
      ]
     },
     "metadata": {},
     "output_type": "display_data"
    },
    {
     "data": {
      "application/vnd.jupyter.widget-view+json": {
       "model_id": "205cee4e9b5444e693f9fb41f067362c",
       "version_major": 2,
       "version_minor": 0
      },
      "text/plain": [
       "2-261_48-14.tif: |          | 0.00/31.0M (raw) [  0.0%] in 00:00 (eta:     ?)"
      ]
     },
     "metadata": {},
     "output_type": "display_data"
    },
    {
     "name": "stdout",
     "output_type": "stream",
     "text": [
      "Downloading Date 6: 2019-06-01 to 2019-07-01\n",
      "Creating folder: ts_dataset//s1//6\n",
      "Creating folder: ts_dataset//s2//6\n"
     ]
    },
    {
     "data": {
      "application/vnd.jupyter.widget-view+json": {
       "model_id": "1cf3a46938ca46e2a3caaa211acbcc00",
       "version_major": 2,
       "version_minor": 0
      },
      "text/plain": [
       "2-261_48-14.tif: |          | 0.00/12.4M (raw) [  0.0%] in 00:00 (eta:     ?)"
      ]
     },
     "metadata": {},
     "output_type": "display_data"
    },
    {
     "data": {
      "application/vnd.jupyter.widget-view+json": {
       "model_id": "97f9aa2c464a4d5c882019b9744022fc",
       "version_major": 2,
       "version_minor": 0
      },
      "text/plain": [
       "2-261_48-14.tif: |          | 0.00/31.0M (raw) [  0.0%] in 00:00 (eta:     ?)"
      ]
     },
     "metadata": {},
     "output_type": "display_data"
    },
    {
     "name": "stdout",
     "output_type": "stream",
     "text": [
      "Downloading Crop Map...\n",
      "Creating folder: ts_dataset//crop_map\n"
     ]
    },
    {
     "data": {
      "application/vnd.jupyter.widget-view+json": {
       "model_id": "b8af7a26ff0f492d84572ba1186f6bfb",
       "version_major": 2,
       "version_minor": 0
      },
      "text/plain": [
       "2-261_48-14.tif: |          | 0.00/1.55M (raw) [  0.0%] in 00:00 (eta:     ?)"
      ]
     },
     "metadata": {},
     "output_type": "display_data"
    },
    {
     "name": "stdout",
     "output_type": "stream",
     "text": [
      "Done!\n"
     ]
    }
   ],
   "source": [
    "ts_downloader(roi, dummy_harvest_date, scale=10, bands=['B2','B3','B4','B5','B6','B7','B8','B8A','B11','B12'])"
   ]
  },
  {
   "cell_type": "code",
   "execution_count": 36,
   "metadata": {},
   "outputs": [
    {
     "data": {
      "text/plain": [
       "<module 'utils.utils' from 'd:\\\\python\\\\CropMapping\\\\dataset\\\\utils\\\\utils.py'>"
      ]
     },
     "execution_count": 36,
     "metadata": {},
     "output_type": "execute_result"
    }
   ],
   "source": [
    "from utils import utils\n",
    "importlib.reload(utils)"
   ]
  },
  {
   "cell_type": "code",
   "execution_count": 33,
   "metadata": {},
   "outputs": [
    {
     "data": {
      "text/plain": [
       "['crop_map', 's1', 's2']"
      ]
     },
     "execution_count": 33,
     "metadata": {},
     "output_type": "execute_result"
    }
   ],
   "source": [
    "os.listdir(\"ts_dataset//\")"
   ]
  },
  {
   "cell_type": "code",
   "execution_count": 34,
   "metadata": {},
   "outputs": [],
   "source": [
    "# ts_dataset\n",
    "# |-- crop_map\n",
    "# |-- s1\n",
    "#     |-- 1\n",
    "#     |-- 2\n",
    "#     |-- 3\n",
    "#     |-- 4\n",
    "#     |-- 5\n",
    "#     |-- 6\n",
    "# |-- s2\n",
    "#     |-- 1\n",
    "#     |-- 2\n",
    "#     |-- 3\n",
    "#     |-- 4\n",
    "#     |-- 5\n",
    "#     |-- 6\n",
    "\n",
    "# Loop through the folders in the dataset\n"
   ]
  },
  {
   "cell_type": "code",
   "execution_count": 37,
   "metadata": {},
   "outputs": [
    {
     "name": "stdout",
     "output_type": "stream",
     "text": [
      "Processing: ts_dataset//s1//1\n",
      "\u001b[0;105m 2-261_48-14.tif \u001b[0m\n",
      "shape after fix: (853, 909, 2)\n",
      "range before norm:  -49.983915584353966 -13.449824945360952 5.372152874504233 20.771304398343776\n",
      "NaN Ratio: 0.0 Percent\n",
      "range after norm and NaN removal:  \u001b[0;96m -25.0 -13.420638424887525 5.294002526284856 15.0 \u001b[0m\n",
      "✅ \u001b[92m Final Shape-> (15, 15, 64, 64, 2) \u001b[0m\n",
      "Processing: ts_dataset//s1//2\n",
      "\u001b[0;105m 2-261_48-14.tif \u001b[0m\n",
      "shape after fix: (853, 909, 2)\n",
      "range before norm:  -50.26328759605357 -15.768953254918932 6.0358281339830775 20.418096725876534\n",
      "NaN Ratio: 0.0 Percent\n",
      "range after norm and NaN removal:  \u001b[0;96m -25.0 -15.586981331462495 5.636057983771641 15.0 \u001b[0m\n",
      "✅ \u001b[92m Final Shape-> (15, 15, 64, 64, 2) \u001b[0m\n",
      "Processing: ts_dataset//s1//3\n",
      "\u001b[0;105m 2-261_48-14.tif \u001b[0m\n",
      "shape after fix: (853, 909, 2)\n",
      "range before norm:  -47.46076703464347 -15.260919953144727 5.395244365007187 20.361222064075424\n",
      "NaN Ratio: 0.0 Percent\n",
      "range after norm and NaN removal:  \u001b[0;96m -25.0 -15.217241649344631 5.300207042349706 15.0 \u001b[0m\n",
      "✅ \u001b[92m Final Shape-> (15, 15, 64, 64, 2) \u001b[0m\n",
      "Processing: ts_dataset//s1//4\n",
      "\u001b[0;105m 2-261_48-14.tif \u001b[0m\n",
      "shape after fix: (853, 909, 2)\n",
      "range before norm:  -49.98777092161771 -17.512185703755577 4.855336052977286 20.46240314711342\n",
      "NaN Ratio: 0.0 Percent\n",
      "range after norm and NaN removal:  \u001b[0;96m -25.0 -17.386158001985876 4.593271978048644 15.0 \u001b[0m\n",
      "✅ \u001b[92m Final Shape-> (15, 15, 64, 64, 2) \u001b[0m\n",
      "Processing: ts_dataset//s1//5\n",
      "\u001b[0;105m 2-261_48-14.tif \u001b[0m\n",
      "shape after fix: (853, 909, 2)\n",
      "range before norm:  -50.574970823755756 -18.650465696597227 4.9004828173600306 20.776693619847755\n",
      "NaN Ratio: 0.0 Percent\n",
      "range after norm and NaN removal:  \u001b[0;96m -25.0 -18.46973910704888 4.572032234223925 15.0 \u001b[0m\n",
      "✅ \u001b[92m Final Shape-> (15, 15, 64, 64, 2) \u001b[0m\n",
      "Processing: ts_dataset//s1//6\n",
      "\u001b[0;105m 2-261_48-14.tif \u001b[0m\n",
      "shape after fix: (853, 909, 2)\n",
      "range before norm:  -49.43091529913101 -14.787993122076154 4.58397698501032 21.040898317406004\n",
      "NaN Ratio: 0.0 Percent\n",
      "range after norm and NaN removal:  \u001b[0;96m -25.0 -14.776114727240856 4.552604799204551 15.0 \u001b[0m\n",
      "✅ \u001b[92m Final Shape-> (15, 15, 64, 64, 2) \u001b[0m\n",
      "Processing: ts_dataset//s2//1\n",
      "\u001b[0;105m 2-261_48-14.tif \u001b[0m\n",
      "shape after fix: (853, 909, 10)\n",
      "range before norm:  nan nan nan nan\n",
      "NaN Ratio: 6.328405407949939 Percent\n",
      "\u001b[93m ⚠️ High NaN ratio! ⚠️ \u001b[0m\n",
      "range after norm and NaN removal:  \u001b[0;96m 0.0 0.1328355 0.0742955 0.99 \u001b[0m\n",
      "✅ \u001b[92m Final Shape-> (15, 15, 64, 64, 10) \u001b[0m\n",
      "Processing: ts_dataset//s2//2\n",
      "\u001b[0;105m 2-261_48-14.tif \u001b[0m\n",
      "shape after fix: (853, 909, 10)\n",
      "range before norm:  nan nan nan nan\n",
      "NaN Ratio: 0.012767982542685687 Percent\n",
      "range after norm and NaN removal:  \u001b[0;96m 0.0 0.14998011 0.07014984 0.872 \u001b[0m\n",
      "✅ \u001b[92m Final Shape-> (15, 15, 64, 64, 10) \u001b[0m\n",
      "Processing: ts_dataset//s2//3\n",
      "\u001b[0;105m 2-261_48-14.tif \u001b[0m\n",
      "shape after fix: (853, 909, 10)\n",
      "range before norm:  nan nan nan nan\n",
      "NaN Ratio: 0.01741088528548048 Percent\n",
      "range after norm and NaN removal:  \u001b[0;96m 0.0 0.17620122 0.08537367 0.99 \u001b[0m\n",
      "✅ \u001b[92m Final Shape-> (15, 15, 64, 64, 10) \u001b[0m\n",
      "Processing: ts_dataset//s2//4\n",
      "\u001b[0;105m 2-261_48-14.tif \u001b[0m\n",
      "shape after fix: (853, 909, 10)\n",
      "range before norm:  nan nan nan nan\n",
      "NaN Ratio: 0.0023214513713973976 Percent\n",
      "range after norm and NaN removal:  \u001b[0;96m 0.0 0.20214069 0.115371324 0.662 \u001b[0m\n",
      "✅ \u001b[92m Final Shape-> (15, 15, 64, 64, 10) \u001b[0m\n",
      "Processing: ts_dataset//s2//5\n",
      "\u001b[0;105m 2-261_48-14.tif \u001b[0m\n",
      "shape after fix: (853, 909, 10)\n",
      "range before norm:  nan nan nan nan\n",
      "NaN Ratio: 0.01741088528548048 Percent\n",
      "range after norm and NaN removal:  \u001b[0;96m 0.0 0.2101018 0.14812295 0.6582 \u001b[0m\n",
      "✅ \u001b[92m Final Shape-> (15, 15, 64, 64, 10) \u001b[0m\n",
      "Processing: ts_dataset//s2//6\n",
      "\u001b[0;105m 2-261_48-14.tif \u001b[0m\n",
      "shape after fix: (853, 909, 10)\n",
      "range before norm:  1e-04 0.20814648 0.13270183 0.8706\n",
      "NaN Ratio: 0.0 Percent\n",
      "range after norm and NaN removal:  \u001b[0;96m 1e-04 0.20814648 0.13270183 0.8706 \u001b[0m\n",
      "✅ \u001b[92m Final Shape-> (15, 15, 64, 64, 10) \u001b[0m\n",
      "Processing: ts_dataset//crop_map//\n",
      "\u001b[0;105m 2-261_48-14.tif \u001b[0m\n",
      "shape after fix: (853, 909, 1)\n",
      "range before norm:  0 228.8622295992788 98.72658965708118 600\n",
      "NaN Ratio: 0.0 Percent\n",
      "range after norm and NaN removal:  \u001b[0;96m 0 228.8622295992788 98.72658965708118 600 \u001b[0m\n",
      "✅ \u001b[92m Final Shape-> (15, 15, 64, 64, 1) \u001b[0m\n"
     ]
    }
   ],
   "source": [
    "\n",
    "main_in_folder = \"ts_dataset//\"\n",
    "main_out_folder = \"ts_dataset_patched//\"\n",
    "folders = [\"s1\", \"s2\"]\n",
    "for folder in folders:\n",
    "    ts_date_folders = os.listdir(main_in_folder + folder)\n",
    "    for date in ts_date_folders:\n",
    "        print(\"Processing: \" + main_in_folder + folder + \"//\" + date)\n",
    "        input_sat = \"S2\" if folder == \"s2\" else \"S1\"\n",
    "        utils.patch_folder(main_in_folder + folder + \"//\" + date+ \"//\", main_out_folder + folder + \"//\" + date+ \"//\", input_sat=input_sat, remove_year=False,mute=True)\n",
    "\n",
    "# patch crop map\n",
    "print(\"Processing: \" + main_in_folder + \"crop_map\" + \"//\")\n",
    "utils.patch_folder(main_in_folder + \"crop_map\" + \"//\", main_out_folder + \"crop_map\" + \"//\", input_sat=\"crop_map\", remove_year=False,mute=True)\n"
   ]
  },
  {
   "cell_type": "code",
   "execution_count": null,
   "metadata": {},
   "outputs": [],
   "source": []
  }
 ],
 "metadata": {
  "kernelspec": {
   "display_name": "geemap",
   "language": "python",
   "name": "python3"
  },
  "language_info": {
   "codemirror_mode": {
    "name": "ipython",
    "version": 3
   },
   "file_extension": ".py",
   "mimetype": "text/x-python",
   "name": "python",
   "nbconvert_exporter": "python",
   "pygments_lexer": "ipython3",
   "version": "3.9.16"
  }
 },
 "nbformat": 4,
 "nbformat_minor": 2
}
